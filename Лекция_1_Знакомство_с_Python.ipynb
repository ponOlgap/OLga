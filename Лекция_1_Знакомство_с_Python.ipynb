{
  "cells": [
    {
      "cell_type": "markdown",
      "metadata": {
        "id": "view-in-github",
        "colab_type": "text"
      },
      "source": [
        "<a href=\"https://colab.research.google.com/github/ponOlgap/OLga/blob/main/%D0%9B%D0%B5%D0%BA%D1%86%D0%B8%D1%8F_1_%D0%97%D0%BD%D0%B0%D0%BA%D0%BE%D0%BC%D1%81%D1%82%D0%B2%D0%BE_%D1%81_Python.ipynb\" target=\"_parent\"><img src=\"https://colab.research.google.com/assets/colab-badge.svg\" alt=\"Open In Colab\"/></a>"
      ]
    },
    {
      "cell_type": "markdown",
      "metadata": {
        "id": "JppqBjKCISUt"
      },
      "source": [
        "Python - это язык программирования (сверх-)высокого уровня общего назначения.\n",
        "\n",
        "Автор языка Python - Гвидо ван Россум — нидерландский программист. Среди разработчиков Python Гвидо до 2018 года был «великодушным пожизненным диктатором» проекта, что означает, что он продолжал наблюдать за процессом разработки Python, принимая окончательные решения, когда это необходимо. 12 июля 2018 года ван Россум объявил о своём намерении покинуть пост «великодушного пожизненного диктатора» (BDFL) проекта по разработке языка программирования Python."
      ]
    },
    {
      "cell_type": "markdown",
      "metadata": {
        "id": "WLMfSF5OISUw"
      },
      "source": [
        "Зачем он нужен?\n",
        "- Быстрый вход в программирование\n",
        "- Быстрое прототипирование\n",
        "- Научное программирование\n",
        "- Сайтостроение\n",
        "- Обработка Больших Данных"
      ]
    },
    {
      "cell_type": "markdown",
      "source": [
        "**Разработчики языка Python придерживаются определённой философии программирования**, называемой «The Zen of Python» («Дзен Питона», или «Дзен Пайтона»). Её текст выдаётся интерпретатором Python по команде import this."
      ],
      "metadata": {
        "id": "FhgLJiaOKeJg"
      }
    },
    {
      "cell_type": "code",
      "execution_count": null,
      "metadata": {
        "colab": {
          "base_uri": "https://localhost:8080/"
        },
        "id": "3p5Cw96dISUz",
        "outputId": "f13db1e6-83d3-4a56-9799-4bea950fcc8b"
      },
      "outputs": [
        {
          "output_type": "stream",
          "name": "stdout",
          "text": [
            "The Zen of Python, by Tim Peters\n",
            "\n",
            "Beautiful is better than ugly.\n",
            "Explicit is better than implicit.\n",
            "Simple is better than complex.\n",
            "Complex is better than complicated.\n",
            "Flat is better than nested.\n",
            "Sparse is better than dense.\n",
            "Readability counts.\n",
            "Special cases aren't special enough to break the rules.\n",
            "Although practicality beats purity.\n",
            "Errors should never pass silently.\n",
            "Unless explicitly silenced.\n",
            "In the face of ambiguity, refuse the temptation to guess.\n",
            "There should be one-- and preferably only one --obvious way to do it.\n",
            "Although that way may not be obvious at first unless you're Dutch.\n",
            "Now is better than never.\n",
            "Although never is often better than *right* now.\n",
            "If the implementation is hard to explain, it's a bad idea.\n",
            "If the implementation is easy to explain, it may be a good idea.\n",
            "Namespaces are one honking great idea -- let's do more of those!\n"
          ]
        }
      ],
      "source": [
        "import this"
      ]
    },
    {
      "cell_type": "markdown",
      "metadata": {
        "id": "E14mTHn0ISU1"
      },
      "source": [
        "## Интегрированные среды разработки"
      ]
    },
    {
      "cell_type": "markdown",
      "metadata": {
        "id": "VS-eCXPXISU1"
      },
      "source": [
        "В нашей работе мы будем пользоваться самой распространенной реализацией Python - СPython. Подробнее о реализациях можно прочитать [здесь](https://habr.com/ru/post/209812/).\n",
        "\n",
        "Для работы с этим языком программирования создано множество [интегрированных сред разработки(IDE)](https://tproger.ru/translations/python-ide/). \n",
        "\n",
        "Данные лекции созданы с использованием системы [Jupyter Notebook](https://jupyter.org/). Jupyter Notebook является графической веб-оболочкой для Python. В Jupyter Notebook можно разрабатывать, документировать и выполнять приложения на языке Python. Файлы (с расширением ipynb), которые создаются при работе с данной системой называются Jupyter-ноутбуками или Jupyter-тетрадями. Содержимое таких тетрадей можно сохранять в формате html или pdf."
      ]
    },
    {
      "cell_type": "markdown",
      "metadata": {
        "id": "VY9wQjWNISU1"
      },
      "source": [
        "### Первая программа в IDLE "
      ]
    },
    {
      "cell_type": "markdown",
      "metadata": {
        "id": "blhwLSd7ISU2"
      },
      "source": [
        "Создадим первую программу в IDLE. Для этого выберем элементы меню File  - New. В открывшемся окне набираем строку:"
      ]
    },
    {
      "cell_type": "code",
      "execution_count": null,
      "metadata": {
        "colab": {
          "base_uri": "https://localhost:8080/"
        },
        "id": "F_ZWJDzhISU2",
        "outputId": "a1dab160-93fa-49f7-8b9f-dcaec6edcdbf"
      },
      "outputs": [
        {
          "output_type": "stream",
          "name": "stdout",
          "text": [
            "Hello World!\n"
          ]
        }
      ],
      "source": [
        "print('Hello World!')"
      ]
    },
    {
      "cell_type": "markdown",
      "metadata": {
        "id": "omF4M7jiISU2"
      },
      "source": [
        "Нажимаем клавишу F5, сохраняем файл. Готово - наша программа выполнилась."
      ]
    },
    {
      "cell_type": "markdown",
      "metadata": {
        "id": "XLfD8oXdISU2"
      },
      "source": [
        "Очевидно, что команда `print` выводит на экран то, что находится в круглых скобках. Там могут находиться строки, числа и переменные, которые могут принимать различные значения."
      ]
    },
    {
      "cell_type": "markdown",
      "metadata": {
        "id": "hLCed8xRISU3"
      },
      "source": [
        "## Типы данных"
      ]
    },
    {
      "cell_type": "markdown",
      "metadata": {
        "id": "3DCgvdUtISU3"
      },
      "source": [
        "Python относится к языкам с неявной сильной динамической типизацией. Подробнее о различных видах типизации в языках программирования можно прочитать [здесь](https://habr.com/ru/post/161205/). \n",
        "\n",
        "В Питоне всё является объектами. Объекты делятся на две категории: изменяемые и неизменяемые. Изменяемые объекты могут быть модифицированы по месту (inplace), т.е. некоторые свойства объекта могут измениться\\добавиться\\удалиться, но это всё ещё будет тот же самый объект. Неизменяемые, соответственно, изменить нельзя, совсем. Можно только создать изменённую версию, он это уже будет другой, отдельный объект. Переменные связываются со значениями (т.е. являются ссылками на объекты).\n"
      ]
    },
    {
      "cell_type": "markdown",
      "metadata": {
        "id": "Vwafw-rnISU3"
      },
      "source": [
        "Неизменяемые типы данных:\n",
        "- ```int``` (целый тип). Для этого типа данных определены операции сложения ```+```, вычитания ```-```,  умножения ```*```, целочисленного деления ```//```, поиск остатка от деления ```%```,  возведение в степень ```**```. В Python встроена длинная арифметика для работы с целыми числами.\n",
        "- ```float``` (вещественный тип). Для этого типа данных определены операции сложения ```+```, вычитания ```-```,  умножения ```*```, вещественного деления ```/```,  возведение в степень ```**```.\n",
        "- ```complex``` (комплексный тип).\n",
        "- ```bool``` (логический тип). Для этого типа данных определены логические операции: конъюнкция ```and```, дизъюнкция ```or```, инверсия ```not```.\n",
        "- ```str``` (строковый тип). Этот тип данных мы будем подробнее разбирать на следующей лекции.\n",
        "- ```tuple``` (кортеж, неизменяемый список)."
      ]
    },
    {
      "cell_type": "markdown",
      "metadata": {
        "id": "wU1hMi9wISU4"
      },
      "source": [
        "Изменяемые типы данных, о которых мы будем говорить подробно в следующих лекциях:\n",
        "- Списки, ```list```.\n",
        "- Словари, ```dict```.\n",
        "- Множества, ```set```.\n",
        "\n",
        "В чем же отличие изменяемых и неизменяемых типов?\n",
        "\n",
        "При попытке изменить неизменяемый объект будет создан новый объект."
      ]
    },
    {
      "cell_type": "code",
      "execution_count": null,
      "metadata": {
        "id": "05i2ESl8ISU4",
        "outputId": "cfb0e948-6391-46da-d959-76e198580184"
      },
      "outputs": [
        {
          "name": "stdout",
          "output_type": "stream",
          "text": [
            "5 1634060480\n",
            "9 1634060544\n"
          ]
        }
      ],
      "source": [
        "a = 5\n",
        "print(a, id(a))\n",
        "a += 4\n",
        "print(a, id(a))"
      ]
    },
    {
      "cell_type": "markdown",
      "metadata": {
        "id": "8FUMBi6SISU4"
      },
      "source": [
        "Здесь `id` - это уникальный идентификатор объекта, целое число, постоянное на время существования этого объекта."
      ]
    },
    {
      "cell_type": "code",
      "execution_count": null,
      "metadata": {
        "id": "7RJMG1VgISU4",
        "outputId": "9ab5e83a-bdbb-4e3e-cb00-6f51a1507cf5"
      },
      "outputs": [
        {
          "name": "stdout",
          "output_type": "stream",
          "text": [
            "[1, 2, 3] 58777312\n",
            "[1, 2, 3, 6] 58777312\n"
          ]
        }
      ],
      "source": [
        "a = [1, 2, 3]\n",
        "print(a, id(a))\n",
        "a += [6]\n",
        "print(a, id(a))"
      ]
    },
    {
      "cell_type": "markdown",
      "metadata": {
        "id": "3pspqcN8ISU5"
      },
      "source": [
        "## Ввод данных"
      ]
    },
    {
      "cell_type": "markdown",
      "metadata": {
        "id": "mKubjdolISU5"
      },
      "source": [
        "Чтобы прочитать введённые данные с консоли, используют функцию ```input()```. Она возвращает строку, поэтому если введённые значения нужно интерпретировать как, например, числовые, потребуется выполнить преобразование к соответствующему типу данных. "
      ]
    },
    {
      "cell_type": "code",
      "execution_count": null,
      "metadata": {
        "id": "965N7sAcISU6",
        "outputId": "82cfd7f5-71a3-4ff6-843f-aecaf4ca5a08"
      },
      "outputs": [
        {
          "name": "stdout",
          "output_type": "stream",
          "text": [
            "Здравствуй, Яндекс!\n"
          ]
        }
      ],
      "source": [
        "s = input()  # Ввод строки"
      ]
    },
    {
      "cell_type": "markdown",
      "metadata": {
        "id": "y2LCKwTnISU6"
      },
      "source": [
        "В этом примере мы организовали переменную `s` строкового типа и присвоили ей строку, введенную из консоли (с клавиатуры). В следующем примере мы переменной `s` присвоим целочисленное значение.\n",
        "\n",
        "У нас появился новый термин \"присваивание\". Эта операция позволяет инициализировать или изменить значение переменной. Общий вид операции присваивание выглядит следующим образом:\n",
        "```python\n",
        "<имя переменной> = <значение>\n",
        "```\n",
        "Вместо `<значения>` может быть ввод данных, арифметическое выражение или функция."
      ]
    },
    {
      "cell_type": "code",
      "execution_count": null,
      "metadata": {
        "id": "bSCbRSmjISU6",
        "outputId": "1e87d75a-2294-47c2-eacb-5f86943d8a5f"
      },
      "outputs": [
        {
          "name": "stdout",
          "output_type": "stream",
          "text": [
            "1234\n"
          ]
        }
      ],
      "source": [
        "s = int(input())  # Прочитанная строка преобразуется к целому числу"
      ]
    },
    {
      "cell_type": "markdown",
      "metadata": {
        "id": "4N63aXgGISU6"
      },
      "source": [
        "Организуем простейший интерфейс для ввода данных. Выведем строку с приглашением, а затем введем число:"
      ]
    },
    {
      "cell_type": "code",
      "execution_count": null,
      "metadata": {
        "id": "35G4haa5ISU6",
        "outputId": "23ef3119-a4fa-4e74-e54b-fdac6bf40b02"
      },
      "outputs": [
        {
          "name": "stdout",
          "output_type": "stream",
          "text": [
            "Введите целое число: \n",
            "123\n"
          ]
        }
      ],
      "source": [
        "print('Введите целое число: ')\n",
        "num = int(input())"
      ]
    },
    {
      "cell_type": "markdown",
      "metadata": {
        "id": "ri9qoq_uISU7"
      },
      "source": [
        "Другой вариант - воспользоваться необязательным параметром функции ```input()```:"
      ]
    },
    {
      "cell_type": "code",
      "execution_count": null,
      "metadata": {
        "id": "YnPwTgkhISU7",
        "outputId": "c68b1df2-7d51-4955-afe8-2af11a1da29c"
      },
      "outputs": [
        {
          "name": "stdout",
          "output_type": "stream",
          "text": [
            "Введите целое число: 123\n"
          ]
        }
      ],
      "source": [
        "num = int(input('Введите целое число: '))"
      ]
    },
    {
      "cell_type": "markdown",
      "metadata": {
        "id": "PzS3gvyXISU7"
      },
      "source": [
        "*Результат немного отличается. Чем?*"
      ]
    },
    {
      "cell_type": "markdown",
      "metadata": {
        "id": "YCB6SNfqISU7"
      },
      "source": [
        "> На занятиях по программированию сочетаются два варианта проверки решений: задачи, проверяемые тестирующей системой, и задачи, которые проверяет преподаватель. Для автоматической проверки интерфейс не только не нужен, но даже вреден (тестирующая система воспринимает его как часть вывода). А вот задачи, которые проверяет преподаватель, нужны в том числе и для того, чтобы учащиеся потренировались в создании простейшего интерфейса и добавлении комментариев."
      ]
    },
    {
      "cell_type": "markdown",
      "metadata": {
        "id": "bs2OlnoqISU7"
      },
      "source": [
        "**Два числа.** С клавиатуры в двух строках вводятся два числа. Выведите их в строку в обратном порядке в следующем виде, например:  \n",
        "5  \n",
        "10  \n",
        "Было введено два числа: 10 5"
      ]
    },
    {
      "cell_type": "code",
      "execution_count": null,
      "metadata": {
        "id": "_FRagyz5ISU8",
        "outputId": "c2a2b38b-ee10-4a2f-f7a3-c985001131c4"
      },
      "outputs": [
        {
          "name": "stdout",
          "output_type": "stream",
          "text": [
            "5\n",
            "10\n",
            "Было введено два числа: 10 5\n"
          ]
        }
      ],
      "source": [
        "a = int(input())\n",
        "b = int(input())\n",
        "print('Было введено два числа:', b, a)"
      ]
    },
    {
      "cell_type": "markdown",
      "metadata": {
        "id": "ZGYjcEToISU8"
      },
      "source": [
        "> О том, как вводить несколько переменных из одной строки мы будем говорить позже. "
      ]
    },
    {
      "cell_type": "markdown",
      "metadata": {
        "id": "Dm5r0MtZISU8"
      },
      "source": [
        "**Цифры числа.** С клавиатуры вводится трехзначное положительное число. Написать алгоритм, находящий сумму и произведение цифр данного числа."
      ]
    },
    {
      "cell_type": "code",
      "execution_count": null,
      "metadata": {
        "id": "ZeGLTyJIISU8",
        "outputId": "42f3450d-5fb5-4d5b-f318-5059cf69477c"
      },
      "outputs": [
        {
          "name": "stdout",
          "output_type": "stream",
          "text": [
            "Введите трехзначное число: 452\n",
            "11 40\n"
          ]
        }
      ],
      "source": [
        "n = int(input('Введите трехзначное число: '))\n",
        "a = n % 10\n",
        "b = n // 10 % 10\n",
        "c = n // 100\n",
        "s = a + b + c\n",
        "p = a * b * c\n",
        "print(s, p)"
      ]
    },
    {
      "cell_type": "markdown",
      "metadata": {
        "id": "UaqhpmH9ISU9"
      },
      "source": [
        "Если бы в этой задаче не гарантировалось, что число положительное, то нам понадобилось бы взять модуль числа. Это делается при помощи стандартной функции ```abs```.\n",
        "\n",
        "В отличие от многих других языков программирования, Python вычисляет остаток и целое от деления в математическом смысле: при целочисленном делении $a$ на $b$ происходит следующее преобразование: $a = b\\cdot div + mod$, $0 ≤ mod < |b|$\n"
      ]
    },
    {
      "cell_type": "code",
      "execution_count": null,
      "metadata": {
        "id": "c03vJb2fISU9",
        "outputId": "e93811bb-ad3a-40d9-9258-56496ed20dd3"
      },
      "outputs": [
        {
          "name": "stdout",
          "output_type": "stream",
          "text": [
            "-62\n",
            "-62\n",
            "61\n",
            "3\n",
            "2\n"
          ]
        }
      ],
      "source": [
        "a = -123\n",
        "print(a // 2)\n",
        "\n",
        "b = 123\n",
        "print(b // (-2))\n",
        "\n",
        "c = -123\n",
        "print(c // (-2))\n",
        "\n",
        "a = 123\n",
        "print(a % 5)\n",
        "\n",
        "b = -123\n",
        "print(b % 5)"
      ]
    },
    {
      "cell_type": "markdown",
      "metadata": {
        "id": "zKSxhLw9ISU9"
      },
      "source": [
        "### Правила для названия переменных"
      ]
    },
    {
      "cell_type": "markdown",
      "metadata": {
        "id": "evLj2y-CISU9"
      },
      "source": [
        "Имена переменных могут быть комбинацией букв в нижнем и верхнем регистре, цифр и символа подчеркивания. Например:\n",
        "- C\n",
        "- c\n",
        "- my_variable\n",
        "- my_var9\n",
        "- UPPERCASE\n",
        "- lowercase\n",
        "- UPPERCASE_WITH_UNDERSCORES\n",
        "- lowercase_with_underscores\n",
        "- CamelCase\n",
        "- mixedCase\n",
        "\n",
        "Имена переменных не могут начинаться с цифр.\n",
        "\n",
        "Ключевые слова не должны использоваться в качестве имен переменных. Ключевые слова выделяются при написании программы цветом. Обратите на это внимание!\n",
        "\n",
        "Имена переменных не могут содержать специальные символы такие, как !, @, #, $, % и т.д.\n",
        "\n",
        "Имена переменных могут быть любой длины.\n",
        "\n",
        "Избегайте использования в названиях переменных следующих символов: 'O' (верхний регистр буквы o), 'l' (нижний регистр буквы L), 'I' (верхний регистр буквы i), так как их можно спутать с цифрами '0' и '1'. \n",
        "\n",
        "Имя переменной может состоять из нескольких слов, при этом эти слова лучше всего разделять символом подчеркивания. Например:\n",
        "- my_secret_variable\n",
        "- my_great_function"
      ]
    },
    {
      "cell_type": "markdown",
      "metadata": {
        "id": "fMAAKGTWISU9"
      },
      "source": [
        "### Линейная запись арифметических выражений"
      ]
    },
    {
      "cell_type": "markdown",
      "metadata": {
        "id": "NY1PpPmLISU-"
      },
      "source": [
        "При определении порядка арифметических действий используется приоритет операций. Они выполняются в следующем порядке:\n",
        "- действия в скобках;\n",
        "- возведение в степень `**`. Обратите внимание, что эти операции выполняются справа налево, то есть в выражении `2 ** 3 ** 4` сначала будет вычислено $3^4=81$, а затем $2^{81}$;\n",
        "- умножение `*` и деление `/`, а также целочисленное деление `//` и поиск остатка от деления `%`, слева направо;\n",
        "- сложение и вычитание, слева направо.\n",
        "\n",
        "Вычисление дискриминанта и одного из корней квадратного уравнения будут иметь вид:\n",
        "```python\n",
        "d = b ** 2 - 4 * a * c\n",
        "x = (-b + d ** 0.5) / (2 * a)\n",
        "```"
      ]
    },
    {
      "cell_type": "markdown",
      "metadata": {
        "id": "lHeuWjf_ISU-"
      },
      "source": [
        "\n",
        "\n",
        "```\n",
        "# Выбран кодовый формат\n",
        "```\n",
        "\n",
        "# Основные алгоритмические конструкции"
      ]
    },
    {
      "cell_type": "markdown",
      "metadata": {
        "id": "wALdlnDLISU-"
      },
      "source": [
        "В этой лекции мы познакомимся с основными алгоритмическими конструкциями: ветвлением и циклом."
      ]
    },
    {
      "cell_type": "markdown",
      "metadata": {
        "id": "HWItu9jCISU-"
      },
      "source": [
        "### Ветвление"
      ]
    },
    {
      "cell_type": "markdown",
      "metadata": {
        "id": "GFXVKv17ISU-"
      },
      "source": [
        "Полное/неполное ветвление. Обратите внимание, что необязательные строки взяты в квадратные скобки.\n",
        "\n",
        "```python\n",
        "if <условие>:\n",
        "    <операторы, если условие истинно>\n",
        "[else:\n",
        "    <операторы, если условие ложно>]\n",
        "```\n",
        "\n",
        "Сложное ветвление. Оператора выбор (case) в Python нет, но его легко организовать с помощью следующей конструкции:\n",
        "\n",
        "```python\n",
        "if <условие 1>:\n",
        "    <операторы, если условие 1 истинно>\n",
        "elif <условие 2>:\n",
        "    <операторы, если условие 1 ложно, а условие 2 истинно>\n",
        "elif <условие 3>:\n",
        "    <...>\n",
        "else:\n",
        "    <операторы, если все условия ложны>\n",
        "```"
      ]
    },
    {
      "cell_type": "markdown",
      "metadata": {
        "id": "p0tvfdtUISU-"
      },
      "source": [
        "**Обратите внимание, что отступы в Python - это аналог операторных скобок (как `begin ... end` в Паскале или `{...}` в C++)!**\n",
        "В стандарте закреплено использование для этих целей ровно 4 пробела. \n",
        "\n",
        "При организации условия можно использовать логические операции ```and```, ```or```, ```not```, а также сравнения ```<```, ```>```, ```<=```, ```>=```, ```==```, ```!=```.\n",
        "\n",
        "Сравнивать можно не только числа, но и строки, множества и т.п. "
      ]
    },
    {
      "cell_type": "markdown",
      "metadata": {
        "id": "c1HwaEizISU_"
      },
      "source": [
        "**Награда за хорошую отметку.** Мама пообещала Васе, что если он получит на контрольной по информатике четыре или пять, то они вместе сходят в кино на новый фильм от Марвелл. Напишите алгоритм, который помогает маме Васи определить идут ли они в кино.\n",
        "\n",
        "На вход программе подается одно натуральное число - оценка в диапазоне от 2 до 5. На выход программа должна выдать \"Идем!\", если было введено 4 или 5, и \"Не идем.\" в противном случае."
      ]
    },
    {
      "cell_type": "code",
      "execution_count": null,
      "metadata": {
        "id": "sycy_gACISU_",
        "outputId": "3026edc4-5dca-41ca-bad4-bf5a2d38a207"
      },
      "outputs": [
        {
          "name": "stdout",
          "output_type": "stream",
          "text": [
            "4\n",
            "Идем!\n"
          ]
        }
      ],
      "source": [
        "mark = int(input())\n",
        "if mark > 3:\n",
        "    print('Идем!')\n",
        "else:\n",
        "    print('Не идем.')"
      ]
    },
    {
      "cell_type": "markdown",
      "metadata": {
        "id": "pDv-hU37ISU_"
      },
      "source": [
        "Эту программу можно записать короче, используя тернарную операцию и \"на лету\" обрабатывая данные, поступающие на вход программе. Попробуйте разобраться в ней и запустить на выполнение следующее решение самостоятельно. \n",
        "```python\n",
        "print('Идем!' if int(input()) > 3 else 'Не идем.')\n",
        "```"
      ]
    },
    {
      "cell_type": "markdown",
      "metadata": {
        "id": "rCGYeS58ISU_"
      },
      "source": [
        "**Точки на плоскости.** Даны координаты точки на плоскости. Требуется определить, к какой четверти декартовой системы координат она принадлежит.  \n",
        "Вводится два целых, не равных нулю числа - координаты точки на плоскости. Каждое число в отдельной строке. Выведите номер координатной четверти, в которой лежит эта точка, используя римские цифры (I, II, III, IV).  \n",
        "Пример входных данных  \n",
        "1  \n",
        "-2  \n",
        "Пример выходных данных  \n",
        "IV"
      ]
    },
    {
      "cell_type": "code",
      "execution_count": null,
      "metadata": {
        "id": "k5rk-kJwISU_",
        "outputId": "c06893c2-44db-4684-e050-4812c5203bc8"
      },
      "outputs": [
        {
          "name": "stdout",
          "output_type": "stream",
          "text": [
            "-3\n",
            "5\n",
            "II\n"
          ]
        }
      ],
      "source": [
        "x = int(input())\n",
        "y = int(input())\n",
        "if x > 0 and y > 0:\n",
        "    print('I')\n",
        "elif x < 0 and y > 0:\n",
        "    print('II')\n",
        "elif x < 0 and y < 0:\n",
        "    print('III')\n",
        "else:\n",
        "    print('IV')"
      ]
    },
    {
      "cell_type": "markdown",
      "metadata": {
        "id": "NB_bRQ2pISU_"
      },
      "source": [
        "**Батут.** Девочка прыгала на батуте размером $n\\times m$ метров и устала. В этот момент она обнаружила, что находится на расстоянии $x$ метров от одного из длинных бортиков (не обязательно ближайшего) и $y$ метров от одного из коротких бортиков. Какое минимальное расстояние должена пройти девочка, чтобы выбраться с батута?  \n",
        "На вход программе подаются 4 натуральных числа $n$, $m$, $x$, $y$ $(n \\ne m)$, каждое в отдельной строке. Все числа не превосходят 100. Требуется вывести одно число - минимальное расстояние, которое должна пройти девочка до бортика батута.  \n",
        "Пример входных данных    \n",
        "10  \n",
        "25  \n",
        "7  \n",
        "8  \n",
        "Пример выходных данных  \n",
        "3"
      ]
    },
    {
      "cell_type": "code",
      "execution_count": null,
      "metadata": {
        "id": "zNILAF-OISVA",
        "outputId": "708f5a04-0ad5-45f0-99b5-124c3bf75081"
      },
      "outputs": [
        {
          "name": "stdout",
          "output_type": "stream",
          "text": [
            "10\n",
            "25\n",
            "7\n",
            "8\n",
            "3\n"
          ]
        }
      ],
      "source": [
        "# Ввод входных данных в том порядке, как перечислено в условии.\n",
        "n = int(input())\n",
        "m = int(input())\n",
        "x = int(input())\n",
        "y = int(input())\n",
        "# Определение, какая из сторон является длинной, а какая короткой.\n",
        "if n > m:\n",
        "    length = n\n",
        "    width = m\n",
        "else:\n",
        "    length = m\n",
        "    width = n\n",
        "# Найдем расстоние до второго бортика (длинного и короткого).\n",
        "x_ = width - x\n",
        "y_ = length - y\n",
        "# Найдем какое из этих расстоний короче.\n",
        "if x < x_:\n",
        "    min_x = x\n",
        "else:\n",
        "    min_x = x_\n",
        "if y < y_:\n",
        "    min_y = y\n",
        "else:\n",
        "    min_y = y_\n",
        "# Теперь найдем минимальное значение из найденных.\n",
        "if min_x < min_y:\n",
        "    print(min_x)\n",
        "else:\n",
        "    print(min_y)"
      ]
    },
    {
      "cell_type": "markdown",
      "metadata": {
        "id": "ix0YXHZUISVA"
      },
      "source": [
        "Одно из положений философии Python - \"короткое лучше, чем длинное\". Расшифровать это можно так: \"меньше строк кода, меньше ошибок\". Сократим предыдущее решение."
      ]
    },
    {
      "cell_type": "code",
      "execution_count": null,
      "metadata": {
        "id": "92gw7-V9ISVA",
        "outputId": "1f806d8e-251d-40fd-9a03-bd041727bf31"
      },
      "outputs": [
        {
          "name": "stdout",
          "output_type": "stream",
          "text": [
            "10\n",
            "25\n",
            "7\n",
            "8\n",
            "3\n"
          ]
        }
      ],
      "source": [
        "n = int(input())\n",
        "m = int(input())\n",
        "x = int(input())\n",
        "y = int(input())\n",
        "length, width = max(n, m), min(n, m)\n",
        "x_ = width - x\n",
        "y_ = length - y\n",
        "print(min(x, x_, y, y_))"
      ]
    },
    {
      "cell_type": "markdown",
      "metadata": {
        "id": "solKacVRISVA"
      },
      "source": [
        "В этой задаче для определения максимального и минимального значений используются стандартные, встроенные в Python, функции `min` и `max`.\n",
        "\n",
        "Также обратите внимание на строку\n",
        "```python\n",
        "length, width = max(n, m), min(n, m)\n",
        "```\n",
        "Эта конструкция называется \"множественное присваивание\". Использование такой конструкции позволяет сократить длину кода. *Подумайте, где еще в данном решении можно использовать множественное присваивание? Сможете ли вы записать это решение в три строки?* "
      ]
    },
    {
      "cell_type": "markdown",
      "metadata": {
        "id": "JV8oC7S9ISVB"
      },
      "source": [
        "### Циклы"
      ]
    },
    {
      "cell_type": "markdown",
      "metadata": {
        "id": "xlhqemJrISVB"
      },
      "source": [
        "Циклы с условием:\n",
        "```python\n",
        "while <условие>:\n",
        "    <тело цикла>\n",
        "```\n",
        "\n",
        "```python\n",
        "while <условие>:\n",
        "    <тело цикла, в котором есть break>\n",
        "else:\n",
        "    <операторы, если цикл завершился без break (выполняется в тот момент, когда условие цикла стало ложным)>\n",
        "```"
      ]
    },
    {
      "cell_type": "markdown",
      "metadata": {
        "id": "4sI62wKhISVB"
      },
      "source": [
        "**Счет в банке.**  Вкладчик положил на банковский счет $n$ рублей. Каждый год на сумму вклада начисляются $k$ процентов годовых (будем считать, что процент всегда округляется до целого числа рублей по формуле $[\\frac{x\\cdot k}{100}]$, где $x$ - сумма вклада на начало года). Начисленные проценты добавляются к сумме вклада. Через сколько лет сумма вклада станет не менее $m$ рублей?  \n",
        "На вход программе подаются три натуральных числа, каждое в отдельной строке: $n \\le 10^6$, $k \\le 100$, $m\\le 1000\\cdot n$. Выведите одно число - искомое количество лет.  \n",
        "Пример входных данных  \n",
        "100  \n",
        "10  \n",
        "111  \n",
        "Пример выходных данных  \n",
        "2"
      ]
    },
    {
      "cell_type": "code",
      "execution_count": null,
      "metadata": {
        "id": "CvDPuxXRISVB",
        "outputId": "29100f92-d33e-41c5-a306-4c49ac19fcbe"
      },
      "outputs": [
        {
          "name": "stdout",
          "output_type": "stream",
          "text": [
            "100\n",
            "10\n",
            "111\n",
            "2\n"
          ]
        }
      ],
      "source": [
        "n = int(input())\n",
        "k = int(input())\n",
        "m = int(input())\n",
        "x = n\n",
        "i = 0\n",
        "while x < m:\n",
        "    x += x * k // 100\n",
        "    i += 1\n",
        "print(i)"
      ]
    },
    {
      "cell_type": "markdown",
      "metadata": {
        "id": "FMw685dPISVB"
      },
      "source": [
        "Цикл, предназначенный для перебора.\n",
        "```python\n",
        "for <элемент> in <итерируемая последовательность>:\n",
        "    <тело цикла>\n",
        "```\n",
        "\n",
        "```python\n",
        "for <элемент> in <итерируемая последовательность>:\n",
        "    <тело цикла c break>\n",
        "else:\n",
        "    <операторы, если цикл доработал до конца>\n",
        "```"
      ]
    },
    {
      "cell_type": "markdown",
      "metadata": {
        "id": "1SoGNfY0ISVB"
      },
      "source": [
        "Для организации перебора целых чисел используется функция:\n",
        "```python\n",
        "range(start, stop, step)\n",
        "```\n",
        "Функция ```range``` конструирует специальный объект, выдающий числа из заданного полуинтервала с открытой правой границей ```[start, stop)``` с заданным шагом ```step```. Параметр `stop` является обязательным. Если не указана левая граница, подразумевается ноль, если не указан шаг - один."
      ]
    },
    {
      "cell_type": "markdown",
      "metadata": {
        "id": "NV0ylDxZISVB"
      },
      "source": [
        "**Числа из диапазона.** С клавиатуры вводится $N$ натуральных чисел. Найти сумму чисел, чьи значения попадают в диапазон от $A$ до $B$ включительно.  \n",
        "Формат входных данных  \n",
        "В первой строке входного файла записано число $N$. Вторая и третья строки содержат натуральные числа $A$ и $B$ соответственно. Далее в $N$ строках записаны натуральные числа.  \n",
        "Формат выходных данных  \n",
        "Одно число - искомый результат.  \n",
        "Вход  \n",
        "10  \n",
        "5  \n",
        "7  \n",
        "1  \n",
        "2  \n",
        "3  \n",
        "4  \n",
        "5  \n",
        "6  \n",
        "7  \n",
        "8  \n",
        "9  \n",
        "0  \n",
        "Выход  \n",
        "18"
      ]
    },
    {
      "cell_type": "code",
      "execution_count": null,
      "metadata": {
        "id": "zlQl1nBnISVC",
        "outputId": "75623b63-2e0e-4bff-f611-a3562f4961b8"
      },
      "outputs": [
        {
          "name": "stdout",
          "output_type": "stream",
          "text": [
            "10\n",
            "5\n",
            "7\n",
            "1\n",
            "2\n",
            "3\n",
            "4\n",
            "5\n",
            "6\n",
            "7\n",
            "8\n",
            "9\n",
            "0\n",
            "18\n"
          ]
        }
      ],
      "source": [
        "n = int(input())\n",
        "a, b = int(input()), int(input())\n",
        "s = 0\n",
        "for _ in range(n):\n",
        "    x = int(input())\n",
        "    if a <= x <= b:\n",
        "        s += x\n",
        "print(s)"
      ]
    },
    {
      "cell_type": "markdown",
      "metadata": {
        "id": "0UeXWP1RISVC"
      },
      "source": [
        "**Проверка числа на простоту.** Дано натуральное число $N$. Определить, является ли оно простым.  \n",
        "Формат входных данных  \n",
        "Во входном файле записано $N (N \\le 100000)$.  \n",
        "Формат выходных данных  \n",
        "Вывести в выходной файл **Yes**, если $N$ простое и **No** в обратном случае.  \n",
        "Примеры:  \n",
        "Вход  \n",
        "13  \n",
        "Выход  \n",
        "Yes  \n",
        "Вход  \n",
        "117  \n",
        "Выход  \n",
        "No"
      ]
    },
    {
      "cell_type": "code",
      "execution_count": null,
      "metadata": {
        "id": "7AvXZziwISVC",
        "outputId": "446c3e25-fa97-40e3-bb79-43b5827999de"
      },
      "outputs": [
        {
          "name": "stdout",
          "output_type": "stream",
          "text": [
            "13\n",
            "Yes\n"
          ]
        }
      ],
      "source": [
        "n = int(input())\n",
        "for i in range(2, round(n ** (1 / 2)) + 1):\n",
        "    if n % i == 0:\n",
        "        print('No')\n",
        "        break\n",
        "else:\n",
        "    print('Yes')"
      ]
    },
    {
      "cell_type": "markdown",
      "metadata": {
        "id": "LJzIuLzxISVC"
      },
      "source": [
        "В этом решении квадратный корень числа считается с использованием операции возведения в степень. Это же можно сделать с использованием стандартной функции ```sqrt```, находящейся в модуле ```math```. "
      ]
    },
    {
      "cell_type": "code",
      "execution_count": null,
      "metadata": {
        "id": "6ljzTYakISVC",
        "outputId": "6ac54406-6c9f-4a60-cfa0-7ae4d74e680f"
      },
      "outputs": [
        {
          "name": "stdout",
          "output_type": "stream",
          "text": [
            "117\n",
            "No\n"
          ]
        }
      ],
      "source": [
        "from math import sqrt\n",
        "\n",
        "n = int(input())\n",
        "for i in range(2, round(sqrt(n)) + 1):\n",
        "    if n % i == 0:\n",
        "        print('No')\n",
        "        break\n",
        "else:\n",
        "    print('Yes')"
      ]
    },
    {
      "cell_type": "markdown",
      "metadata": {
        "id": "kyi3WATLISVD"
      },
      "source": [
        "## Параметры функции print()"
      ]
    },
    {
      "cell_type": "markdown",
      "metadata": {
        "id": "P3Kuzee4ISVD"
      },
      "source": [
        "Здесь возникает вопрос, как в цикле выводить числа в строку, а не в столбец? Чтобы решить эту проблему, давайте поговорим о параметрах функции ```print()```.\n",
        "Для того, чтобы узнать описание некоторой функции, достаточно вызвать функцию ```help()```, например:"
      ]
    },
    {
      "cell_type": "code",
      "execution_count": null,
      "metadata": {
        "id": "Wr44L62VISVD",
        "outputId": "e91f3b7c-791a-43cf-ba64-afd5c7bec72d"
      },
      "outputs": [
        {
          "name": "stdout",
          "output_type": "stream",
          "text": [
            "Help on built-in function print in module builtins:\n",
            "\n",
            "print(...)\n",
            "    print(value, ..., sep=' ', end='\\n', file=sys.stdout, flush=False)\n",
            "    \n",
            "    Prints the values to a stream, or to sys.stdout by default.\n",
            "    Optional keyword arguments:\n",
            "    file:  a file-like object (stream); defaults to the current sys.stdout.\n",
            "    sep:   string inserted between values, default a space.\n",
            "    end:   string appended after the last value, default a newline.\n",
            "    flush: whether to forcibly flush the stream.\n",
            "\n"
          ]
        }
      ],
      "source": [
        "help(print)"
      ]
    },
    {
      "cell_type": "markdown",
      "metadata": {
        "id": "vLl6eP_DISVD"
      },
      "source": [
        "В качестве разделителей и окончания строки могут использоваться как обычные символы, так и экранированные последовательности. Наиболее полезными будут следующие символы:  \n",
        "```\\n``` - перевод строки  \n",
        "```\\r``` - возврат каретки  \n",
        "```\\b``` - забой, backspase  \n",
        "```\\t``` - горизонтальная табуляция"
      ]
    },
    {
      "cell_type": "code",
      "execution_count": null,
      "metadata": {
        "id": "VAPfJdzoISVD",
        "outputId": "459e234c-46e9-4017-9bf7-a4e92c9a19d0"
      },
      "outputs": [
        {
          "name": "stdout",
          "output_type": "stream",
          "text": [
            "5\t7\t8\n"
          ]
        }
      ],
      "source": [
        "print(5, 7, 8, sep='\\t')"
      ]
    },
    {
      "cell_type": "code",
      "execution_count": null,
      "metadata": {
        "id": "bp1SWUrsISVD",
        "outputId": "39707db8-0011-4108-cbf2-81a497e7a03a"
      },
      "outputs": [
        {
          "name": "stdout",
          "output_type": "stream",
          "text": [
            "0 1 2 3 4 5 6 7 8 9 "
          ]
        }
      ],
      "source": [
        "for i in range(10):\n",
        "    print(i, end=' ')"
      ]
    },
    {
      "cell_type": "markdown",
      "metadata": {
        "id": "Lw-pV2ACISVE"
      },
      "source": [
        "Подробнее об организации вывода данных мы поговорим при изучении строк и списков."
      ]
    },
    {
      "cell_type": "markdown",
      "metadata": {
        "id": "q9itDtiHISVE"
      },
      "source": [
        "## Дополнительный материал. Еще немного о стандартных функциях "
      ]
    },
    {
      "cell_type": "markdown",
      "metadata": {
        "id": "xOJVNJ18ISVE"
      },
      "source": [
        "Python является сильным конкурентом системного калькулятора и электронных таблиц, если речь идет о решении задач на системы счисления, например, в олимпиадах или компьютерном ЕГЭ.\n",
        "\n",
        "Функция ```int```, которую мы использовали для перевода строки в целое десятичное число, может использоваться для перевода строк в любую систему счисления с основанием в диапазоне от 2 до 36."
      ]
    },
    {
      "cell_type": "code",
      "execution_count": null,
      "metadata": {
        "id": "P6bMrZroISVE",
        "outputId": "d450c1ab-e5a6-4ae1-e056-ead48063b891"
      },
      "outputs": [
        {
          "name": "stdout",
          "output_type": "stream",
          "text": [
            "35 508 20743\n"
          ]
        }
      ],
      "source": [
        "a = int('100011', 2)\n",
        "b = int('1FC', 16)\n",
        "c = int('G07', 36)\n",
        "print(a, b, c)"
      ]
    },
    {
      "cell_type": "markdown",
      "metadata": {
        "id": "8DLFk36zISVE"
      },
      "source": [
        "Также Python поможет перевести целые десятичные числа в двоичную ```bin```, восьмеричную ```oct``` и шестнадцатеричную ```hex``` системы счисления. "
      ]
    },
    {
      "cell_type": "code",
      "execution_count": null,
      "metadata": {
        "id": "eLbX4QR5ISVE",
        "outputId": "d93869ef-143f-47bf-a672-6fd8776bd0c7"
      },
      "outputs": [
        {
          "name": "stdout",
          "output_type": "stream",
          "text": [
            "0b100100\n",
            "0o66\n",
            "0x19a\n"
          ]
        }
      ],
      "source": [
        "a = bin(36)\n",
        "b = oct(54)\n",
        "c = hex(410)\n",
        "print(a, b, c, sep='\\n')"
      ]
    },
    {
      "cell_type": "markdown",
      "metadata": {
        "id": "yO7LMIvGISVE"
      },
      "source": [
        "Первые два символа в каждом из результатов - это префикс, указывающий, что это число в определенной системе счисления."
      ]
    },
    {
      "cell_type": "markdown",
      "metadata": {
        "id": "Ul3KKGZYISVF"
      },
      "source": [
        "**ОГЭ 1.** Некоторое число в двоичной системе счисления записывается как 1011101. Запишите это число в десятичной системе."
      ]
    },
    {
      "cell_type": "code",
      "execution_count": null,
      "metadata": {
        "id": "fVWwNSqiISVF",
        "outputId": "31861af9-99f0-452a-af77-899171e1567a"
      },
      "outputs": [
        {
          "name": "stdout",
          "output_type": "stream",
          "text": [
            "93\n"
          ]
        }
      ],
      "source": [
        "print(int('1011101', 2))"
      ]
    },
    {
      "cell_type": "markdown",
      "metadata": {
        "id": "wmUoctrSISVF"
      },
      "source": [
        "**ОГЭ 2.** Переведите число 78 в двоичную систему счисления. Сколько единиц получилось в этом числе?"
      ]
    },
    {
      "cell_type": "code",
      "execution_count": null,
      "metadata": {
        "id": "BexXY0mYISVF",
        "outputId": "e3381bf5-ce74-4114-dadd-545a04f72d8d"
      },
      "outputs": [
        {
          "name": "stdout",
          "output_type": "stream",
          "text": [
            "4\n"
          ]
        }
      ],
      "source": [
        "print(bin(78).count('1'))"
      ]
    },
    {
      "cell_type": "markdown",
      "metadata": {
        "id": "FrotCQgfISVF"
      },
      "source": [
        "**ЕГЭ 1.** Сколько единиц в двоичной записи шестнадцатеричного числа F1A0?"
      ]
    },
    {
      "cell_type": "code",
      "execution_count": null,
      "metadata": {
        "id": "vDtkpM7rISVF",
        "outputId": "28236169-fab9-4823-b874-e21db047b4fb"
      },
      "outputs": [
        {
          "name": "stdout",
          "output_type": "stream",
          "text": [
            "7\n"
          ]
        }
      ],
      "source": [
        "print(bin(int('F1A0', 16)).count('1'))"
      ]
    },
    {
      "cell_type": "markdown",
      "metadata": {
        "id": "82t26aVHISVF"
      },
      "source": [
        "**ЕГЭ 2.** Сколько значащих нулей содержится в десятичной записи значения выражения: $100^{10}–10^6+100$?"
      ]
    },
    {
      "cell_type": "code",
      "execution_count": null,
      "metadata": {
        "id": "7H9cHlOgISVG",
        "outputId": "85aa5266-13c1-4f60-997f-34e9b22264dd"
      },
      "outputs": [
        {
          "name": "stdout",
          "output_type": "stream",
          "text": [
            "5\n"
          ]
        }
      ],
      "source": [
        "print(str(100 ** 10 - 10 ** 6 + 100).count('0'))"
      ]
    },
    {
      "cell_type": "code",
      "execution_count": null,
      "metadata": {
        "id": "Uq89CzOJISVG"
      },
      "outputs": [],
      "source": []
    },
    {
      "cell_type": "markdown",
      "metadata": {
        "id": "m6LpiS2aGm5Q"
      },
      "source": [
        "# Отладка"
      ]
    },
    {
      "cell_type": "markdown",
      "source": [
        "*Отладка* — этап разработки компьютерной программы, на котором обнаруживают, локализуют и устраняют ошибки. Обычно под отладкой понимают исправление уже в целом работающей программы, но те же принципы можно использовать и на этапе написания кода.\n",
        "\n",
        "*Промежуточный вывод* - распечатка некоторых значений с целью проверить правильность подсчёта и/или определить ветку, по которой проходит выполнение. Важно вовремя остановиться и переключиться на отладку средствами среды, если дополнительный код для вывода начинает экспоненциально разрастаться. Кроме того, дополнительные строки вывода надо не забыть удалить или закомментировать.\n",
        "\n",
        "*Отладка средствами среды.* Как правило, все отладчики предлагают схожий набор возможностей для пошагового выполнения:\n",
        "1. установить точку останова (Break Point);\n",
        "1. сделать шаг вперёд (Step Over) / с заходом внутрь (Step In) / с выходом наружу (Step Out), выполнять до заданной строки (Run to cursor). Наиболее мощный, но и тяжеловесный способ.\n",
        "\n",
        "Обнаружение ошибки не всегда означает знание конкретного набора входных данных, на которых программа выдаёт неверный ответ, однако получение такого “теста” сильно упрощает локализацию проблемы. Для этого нужно подобрать наборы данных для проверки решения на всех ветках его работы, а также на всевозможных крайних случаях, например, максимальных и минимальных значениях входных значений.\n",
        "\n",
        "Локализация, в свою очередь, предполагает сужение области поиска ошибки, чтобы, к примеру, не проходить отладчиком всю программу от ввода данных, если результат подсчитывается верно и только выводится с ошибкой. \n"
      ],
      "metadata": {
        "id": "H7vF1JTqoEkC"
      }
    }
  ],
  "metadata": {
    "kernelspec": {
      "display_name": "Python 3",
      "language": "python",
      "name": "python3"
    },
    "language_info": {
      "codemirror_mode": {
        "name": "ipython",
        "version": 3
      },
      "file_extension": ".py",
      "mimetype": "text/x-python",
      "name": "python",
      "nbconvert_exporter": "python",
      "pygments_lexer": "ipython3",
      "version": "3.7.2"
    },
    "colab": {
      "name": "Лекция 1. Знакомство с Python.ipynb",
      "provenance": [],
      "include_colab_link": true
    }
  },
  "nbformat": 4,
  "nbformat_minor": 0
}