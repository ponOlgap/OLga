{
  "cells": [
    {
      "cell_type": "markdown",
      "metadata": {
        "id": "view-in-github",
        "colab_type": "text"
      },
      "source": [
        "<a href=\"https://colab.research.google.com/github/ponOlgap/OLga/blob/main/%D0%9B%D0%B5%D0%BA%D1%86%D0%B8%D1%8F_2_%D0%A1%D1%82%D1%80%D0%BE%D0%BA%D0%B8%2C_%D1%81%D0%BF%D0%B8%D1%81%D0%BA%D0%B8%2C_%D0%BC%D0%BD%D0%BE%D0%B6%D0%B5%D1%81%D1%82%D0%B2%D0%B0%2C_%D1%81%D0%BB%D0%BE%D0%B2%D0%B0%D1%80%D0%B8.ipynb\" target=\"_parent\"><img src=\"https://colab.research.google.com/assets/colab-badge.svg\" alt=\"Open In Colab\"/></a>"
      ]
    },
    {
      "cell_type": "markdown",
      "metadata": {
        "id": "Bo1fn9OJGHjB"
      },
      "source": [
        "# Строки в Python"
      ]
    },
    {
      "cell_type": "markdown",
      "metadata": {
        "id": "wEjoMYL6GHjF"
      },
      "source": [
        "*Строки* - это неизменяемый тип данных (```str```). Строки состоят из упорядоченных последовательностей символов (в Питоне нет отдельного типа данных - символ, используются строки из одного символа). Содержимое строк записываются либо в одинарных, либо в двойных кавычках."
      ]
    },
    {
      "cell_type": "code",
      "execution_count": null,
      "metadata": {
        "id": "cBZeybqhGHjG",
        "outputId": "6bdef3b9-d4f4-46b8-e860-a5b81b904fb2"
      },
      "outputs": [
        {
          "name": "stdout",
          "output_type": "stream",
          "text": [
            "12345\n"
          ]
        }
      ],
      "source": [
        "s1 = '12345'\n",
        "print(s1)"
      ]
    },
    {
      "cell_type": "code",
      "execution_count": null,
      "metadata": {
        "id": "wJkwgZ_tGHjH",
        "outputId": "e20327ad-f8d9-40e0-c60a-e6172fcad823"
      },
      "outputs": [
        {
          "name": "stdout",
          "output_type": "stream",
          "text": [
            "abcd\n"
          ]
        }
      ],
      "source": [
        "s2 = \"abcd\"\n",
        "print(s2)"
      ]
    },
    {
      "cell_type": "code",
      "execution_count": null,
      "metadata": {
        "id": "-pnyv627GHjI",
        "outputId": "8d8bb119-face-48c5-84c3-ed64d60dcae7"
      },
      "outputs": [
        {
          "name": "stdout",
          "output_type": "stream",
          "text": [
            "12\n",
            "ab\n"
          ]
        }
      ],
      "source": [
        "s3 = '12\\nab'\n",
        "print(s3)"
      ]
    },
    {
      "cell_type": "markdown",
      "metadata": {
        "id": "VlAaAFvaGHjI"
      },
      "source": [
        "Кроме того, есть специальные тройные ```\"\"\"``` кавычки для многострочных строк (такие строки используются в том числе для создания документационных комментариев)."
      ]
    },
    {
      "cell_type": "code",
      "execution_count": null,
      "metadata": {
        "id": "aB9zi7MBGHjJ",
        "outputId": "678a5d5b-a47a-42c2-b9e7-2c4454b4165f"
      },
      "outputs": [
        {
          "name": "stdout",
          "output_type": "stream",
          "text": [
            "Это длинная\n",
            "строка из трёх\n",
            "строк.\n"
          ]
        }
      ],
      "source": [
        "text = \"\"\"Это длинная\n",
        "строка из трёх\n",
        "строк.\"\"\"\n",
        "print(text)"
      ]
    },
    {
      "cell_type": "markdown",
      "metadata": {
        "id": "bwRZ1ocSGHjK"
      },
      "source": [
        "### Основные операции над строками"
      ]
    },
    {
      "cell_type": "code",
      "execution_count": null,
      "metadata": {
        "id": "mMGxLq9SGHjK",
        "outputId": "b8028bad-6dfa-4e04-d31b-51447b2fbb2a"
      },
      "outputs": [
        {
          "name": "stdout",
          "output_type": "stream",
          "text": [
            "12345abcd\n",
            "abcd12345abcd\n"
          ]
        }
      ],
      "source": [
        "# Конкатенация, склеивание\n",
        "\n",
        "s = s1 + s2\n",
        "print(s)\n",
        "print(s2 + s1 + s2)"
      ]
    },
    {
      "cell_type": "code",
      "execution_count": null,
      "metadata": {
        "id": "ZaY3eio9GHjL",
        "outputId": "859999a5-3180-4a1b-9537-19b62c8eadad"
      },
      "outputs": [
        {
          "name": "stdout",
          "output_type": "stream",
          "text": [
            "123acx\n",
            "123acx\n",
            "123acx\n",
            "123acx\n",
            "123acx\n",
            "\n"
          ]
        }
      ],
      "source": [
        "# Умножение строки на число\n",
        "s = '123acx'\n",
        "print((s + '\\n') * 5)"
      ]
    },
    {
      "cell_type": "code",
      "execution_count": null,
      "metadata": {
        "id": "DpByQR_YGHjL",
        "outputId": "73baa426-50a6-49ec-9fec-25e4032a33a2"
      },
      "outputs": [
        {
          "name": "stdout",
          "output_type": "stream",
          "text": [
            "9\n"
          ]
        }
      ],
      "source": [
        "# Длина строки\n",
        "\n",
        "print(len(s))"
      ]
    },
    {
      "cell_type": "markdown",
      "metadata": {
        "id": "WKWaCLaoGHjM"
      },
      "source": [
        "*Получение элемента по индексу.* Строки индексируются с нуля, т.е. первый символ имеет номер ноль ```s[0]```, а последний, соответственно, ```s[len(s) - 1]```. Индексация может начинаться с конца строки, тогда она будет отрицательной (последний символ имеет индекс ```-1```, первый ```-len(s)```)."
      ]
    },
    {
      "cell_type": "code",
      "execution_count": null,
      "metadata": {
        "id": "zGx3XgAsGHjM",
        "outputId": "122cc780-bbb8-46ea-8c6e-cf39638fdd7a"
      },
      "outputs": [
        {
          "name": "stdout",
          "output_type": "stream",
          "text": [
            "3 c\n",
            "4 c\n"
          ]
        }
      ],
      "source": [
        "print(s1[2], s2[2])\n",
        "print(s1[-2], s2[-2])"
      ]
    },
    {
      "cell_type": "markdown",
      "metadata": {
        "id": "6aBhUwTwGHjN"
      },
      "source": [
        "**Вывод в столбик.** С клавиатуры вводится строка. Вывести символы строки в столбик. По одному символу в каждой строке."
      ]
    },
    {
      "cell_type": "code",
      "execution_count": null,
      "metadata": {
        "id": "ziQHM_5XGHjN",
        "outputId": "b4536b01-378a-42d2-cc81-298808b1ab75"
      },
      "outputs": [
        {
          "name": "stdout",
          "output_type": "stream",
          "text": [
            "abcd\n",
            "a\n",
            "b\n",
            "c\n",
            "d\n"
          ]
        }
      ],
      "source": [
        "s = input()\n",
        "for i in range(len(s)):\n",
        "    print(s[i])"
      ]
    },
    {
      "cell_type": "markdown",
      "metadata": {
        "id": "VfFB8bjtGHjN"
      },
      "source": [
        "Решим эту задачу, используя безиндексное обращение к символу строки. "
      ]
    },
    {
      "cell_type": "code",
      "execution_count": null,
      "metadata": {
        "id": "0IV0z4ltGHjO",
        "outputId": "f3c0157d-128c-4859-ba98-eeed8ece603f"
      },
      "outputs": [
        {
          "name": "stdout",
          "output_type": "stream",
          "text": [
            "abcd\n",
            "a\n",
            "b\n",
            "c\n",
            "d\n"
          ]
        }
      ],
      "source": [
        "s = input()\n",
        "for x in s:\n",
        "    print(x)"
      ]
    },
    {
      "cell_type": "markdown",
      "metadata": {
        "id": "rv8LJPF0GHjO"
      },
      "source": [
        "*Срез.* Общий вид среза ```s[start:stop:step]```, где  \n",
        "```start``` - номер элемента, с которого начинается срез,  \n",
        "```stop``` - номер первого элемента, не вошедшего в срез,  \n",
        "```step``` - шаг среза."
      ]
    },
    {
      "cell_type": "code",
      "execution_count": null,
      "metadata": {
        "id": "lCAuyerQGHjO",
        "outputId": "a6a05702-2a43-4691-93b8-a96f2b7b3c81"
      },
      "outputs": [
        {
          "name": "stdout",
          "output_type": "stream",
          "text": [
            "246\n"
          ]
        }
      ],
      "source": [
        "s = '0123456789'\n",
        "print(s[2:7:2])"
      ]
    },
    {
      "cell_type": "code",
      "execution_count": null,
      "metadata": {
        "id": "rXh0I3ZrGHjO",
        "outputId": "0d177596-2fca-482b-ede6-3e1dd463a891"
      },
      "outputs": [
        {
          "name": "stdout",
          "output_type": "stream",
          "text": [
            "0123456789\n"
          ]
        }
      ],
      "source": [
        "print(s[:])"
      ]
    },
    {
      "cell_type": "code",
      "execution_count": null,
      "metadata": {
        "id": "9BM1d6Z5GHjP",
        "outputId": "95d056ff-19f8-485c-f78c-d8bf011bdb57"
      },
      "outputs": [
        {
          "name": "stdout",
          "output_type": "stream",
          "text": [
            "9876543210\n"
          ]
        }
      ],
      "source": [
        "print(s[::-1])"
      ]
    },
    {
      "cell_type": "code",
      "execution_count": null,
      "metadata": {
        "id": "4QQ425sCGHjP",
        "outputId": "cb82daf9-7259-45a9-e9c7-e6127ad6f569"
      },
      "outputs": [
        {
          "name": "stdout",
          "output_type": "stream",
          "text": [
            "01234\n"
          ]
        }
      ],
      "source": [
        "print(s[:5])"
      ]
    },
    {
      "cell_type": "code",
      "execution_count": null,
      "metadata": {
        "id": "0_8TVgn1GHjP",
        "outputId": "7b7ea403-ce0a-438b-e4b8-f49931b95f7b"
      },
      "outputs": [
        {
          "name": "stdout",
          "output_type": "stream",
          "text": [
            "56789\n"
          ]
        }
      ],
      "source": [
        "print(s[5:])"
      ]
    },
    {
      "cell_type": "markdown",
      "metadata": {
        "id": "YZcqyHFTGHjQ"
      },
      "source": [
        "**Вывод в столбик в обратном порядке.** Вывести символы строки в столбик в обратном порядке, по одному символу в одной строке.\n",
        "\n",
        "Эту задачу можно решить, используя обращение по индексу, а можно используя срез. Приведем оба решения."
      ]
    },
    {
      "cell_type": "code",
      "execution_count": null,
      "metadata": {
        "id": "7zrJqLzAGHjQ",
        "outputId": "208e0dcb-1776-413e-bdeb-ad15972fea3b"
      },
      "outputs": [
        {
          "name": "stdout",
          "output_type": "stream",
          "text": [
            "abcd\n",
            "d\n",
            "c\n",
            "b\n",
            "a\n"
          ]
        }
      ],
      "source": [
        "s = input()\n",
        "for i in range(len(s) - 1, -1, -1):\n",
        "    print(s[i])"
      ]
    },
    {
      "cell_type": "code",
      "execution_count": null,
      "metadata": {
        "id": "akZuHCv2GHjQ",
        "outputId": "d3b9b8d8-92a1-49f0-d9cd-3cd9f7432d21"
      },
      "outputs": [
        {
          "name": "stdout",
          "output_type": "stream",
          "text": [
            "abcd\n",
            "d\n",
            "c\n",
            "b\n",
            "a\n"
          ]
        }
      ],
      "source": [
        "for x in input()[::-1]:\n",
        "    print(x)"
      ]
    },
    {
      "cell_type": "markdown",
      "metadata": {
        "id": "QExa8sp2GHjQ"
      },
      "source": [
        "*Проверка вхождения подстроки в строку* - ```in``` (существует и противоположная операция ```not in```)"
      ]
    },
    {
      "cell_type": "code",
      "execution_count": null,
      "metadata": {
        "id": "pBD4CuldGHjQ",
        "outputId": "fba40925-db89-4e36-f113-1ad1c434799c"
      },
      "outputs": [
        {
          "name": "stdout",
          "output_type": "stream",
          "text": [
            "Yes\n"
          ]
        }
      ],
      "source": [
        "s = '12345'\n",
        "if '5' in s:\n",
        "    print('Yes')\n",
        "else:\n",
        "    print('No')"
      ]
    },
    {
      "cell_type": "code",
      "execution_count": null,
      "metadata": {
        "id": "RMfwnu28GHjR",
        "outputId": "db618806-c680-4cbc-9c2d-76b7290898fe"
      },
      "outputs": [
        {
          "name": "stdout",
          "output_type": "stream",
          "text": [
            "Yes\n"
          ]
        }
      ],
      "source": [
        "# Тот же пример, но с использованием \"тернарной\" операции.\n",
        "s = '12345'\n",
        "print('Yes' if '5' in s else 'No')"
      ]
    },
    {
      "cell_type": "code",
      "execution_count": null,
      "metadata": {
        "id": "hvnwJJFeGHjR",
        "outputId": "b6043c57-08a1-4790-929f-1e11b47a56d8"
      },
      "outputs": [
        {
          "name": "stdout",
          "output_type": "stream",
          "text": [
            "True\n"
          ]
        }
      ],
      "source": [
        "print('23' in s and 'A' not in s)"
      ]
    },
    {
      "cell_type": "markdown",
      "metadata": {
        "id": "UmURIBosGHjR"
      },
      "source": [
        "> Обратите внимание! Если нам нужно искать две подстроки в одной и той же строке, то условие все равно пишется как\n",
        "```python\n",
        "if '5' in s and 'a' in s:\n",
        "```\n",
        "> Это тонкий момент. Школьники часто опускают первые ```in s```, что не дает ошибки, но приводит к неверному результату."
      ]
    },
    {
      "cell_type": "markdown",
      "metadata": {
        "id": "xa0g3eLhGHjR"
      },
      "source": [
        "*Сравнение строк.* Строки сравниваются лексикографически, т.е. посимвольно, до первого несовпадения. Символы сравниваются по своим кодам."
      ]
    },
    {
      "cell_type": "code",
      "execution_count": null,
      "metadata": {
        "id": "Ki95dtgcGHjR",
        "outputId": "f1cc461d-3a14-4c34-b0a5-6e24e2fb633f"
      },
      "outputs": [
        {
          "name": "stdout",
          "output_type": "stream",
          "text": [
            "65 97 48\n"
          ]
        }
      ],
      "source": [
        "# Получение кода символа\n",
        "\n",
        "print(ord('A'), ord('a'), ord('0'))"
      ]
    },
    {
      "cell_type": "code",
      "execution_count": null,
      "metadata": {
        "id": "g07pU5ahGHjS",
        "outputId": "e1bfe79d-a201-44c9-f9e3-aa8cbb898c35"
      },
      "outputs": [
        {
          "name": "stdout",
          "output_type": "stream",
          "text": [
            "A a 0\n"
          ]
        }
      ],
      "source": [
        "# Обратная операция. Получение символа по коду\n",
        "\n",
        "print(chr(65), chr(97), chr(48))"
      ]
    },
    {
      "cell_type": "markdown",
      "metadata": {
        "id": "qX_J_Wb9GHjS"
      },
      "source": [
        "Таким образом, ```'AB' < 'ABC' < 'Ab' < 'aBC'  < 'abc' == 'abc' < 'abca'```"
      ]
    },
    {
      "cell_type": "markdown",
      "metadata": {
        "id": "r53Exj9SGHjS"
      },
      "source": [
        "**Все буквы.** Проверить, все ли буквы слова $s$ есть в слове $w$."
      ]
    },
    {
      "cell_type": "code",
      "execution_count": null,
      "metadata": {
        "id": "4SQ_PVSOGHjS",
        "outputId": "264617c8-4849-441d-e826-a43618957d64"
      },
      "outputs": [
        {
          "name": "stdout",
          "output_type": "stream",
          "text": [
            "3\n",
            "345\n",
            "True\n"
          ]
        }
      ],
      "source": [
        "s, w = input(), input()\n",
        "for x in s:\n",
        "    if x not in w:\n",
        "        print(False)\n",
        "        break\n",
        "else:\n",
        "    print(True)"
      ]
    },
    {
      "cell_type": "markdown",
      "metadata": {
        "id": "Wa6Jdv8jGHjS"
      },
      "source": [
        "Интересное решение этой задачи можно получить, используя множества, о которых мы будем говорить ниже."
      ]
    },
    {
      "cell_type": "markdown",
      "metadata": {
        "id": "p_G8G5S4GHjS"
      },
      "source": [
        "**Все подстроки.** Проверить, все подстроки длиной $x$ строки $s$ в строке $w$."
      ]
    },
    {
      "cell_type": "code",
      "execution_count": null,
      "metadata": {
        "id": "q3skmNMiGHjT",
        "outputId": "a512d2bd-8753-4a9f-cf3b-125cacdf7228"
      },
      "outputs": [
        {
          "name": "stdout",
          "output_type": "stream",
          "text": [
            "1234\n",
            "1231234561234\n",
            "3\n",
            "True\n"
          ]
        }
      ],
      "source": [
        "s, w = input(), input()\n",
        "x = int(input())\n",
        "res = True\n",
        "for i in range(len(s) - x):\n",
        "    res = res and s[i:i + x] in w\n",
        "print(res)"
      ]
    },
    {
      "cell_type": "markdown",
      "metadata": {
        "id": "8JDRZ6JeGHjT"
      },
      "source": [
        "## Строковые методы "
      ]
    },
    {
      "cell_type": "markdown",
      "metadata": {
        "id": "0e7ni9m2GHjT"
      },
      "source": [
        "У объекта типа ```str``` большое количество удобных и мощных [методов](https://docs.python.org/3/library/stdtypes.html#str). Познакомимся с некоторыми из них."
      ]
    },
    {
      "cell_type": "code",
      "execution_count": null,
      "metadata": {
        "id": "bavJFX-aGHjT",
        "outputId": "0b6834a5-8426-4e19-dfa6-2fa0e0e2a6a8"
      },
      "outputs": [
        {
          "name": "stdout",
          "output_type": "stream",
          "text": [
            "['1', '2', '3', '4']\n"
          ]
        }
      ],
      "source": [
        "# Разбиение строки по разделителю. s.split(разделитель). Возвращает список.\n",
        "\n",
        "p = '1*2*3*4'\n",
        "a = p.split('*')\n",
        "print(a)"
      ]
    },
    {
      "cell_type": "markdown",
      "metadata": {
        "id": "93IKlqnNGHjT"
      },
      "source": [
        "```split``` без параметра разделяет строку по последовательностям пробельных символов (пробел, табуляция, перевод строки и т.п.)."
      ]
    },
    {
      "cell_type": "code",
      "execution_count": null,
      "metadata": {
        "id": "BzplDtD9GHjU",
        "outputId": "e516f22e-1ea0-4ad4-f9be-1d1cda832bf8"
      },
      "outputs": [
        {
          "name": "stdout",
          "output_type": "stream",
          "text": [
            "['Раз', 'два', 'три', 'четыре']\n"
          ]
        }
      ],
      "source": [
        "print(\"\"\"Раз два\n",
        "   три     четыре\"\"\".split())"
      ]
    },
    {
      "cell_type": "markdown",
      "metadata": {
        "id": "EGvN9um1GHjU"
      },
      "source": [
        "У метода ```split``` есть второй необязательный параметр - количество разбиений."
      ]
    },
    {
      "cell_type": "code",
      "execution_count": null,
      "metadata": {
        "id": "nKbZQp6pGHjU",
        "outputId": "3e661e50-4868-4529-a990-7a9767867890"
      },
      "outputs": [
        {
          "name": "stdout",
          "output_type": "stream",
          "text": [
            "['1', 'Пушкин А.С.']\n"
          ]
        }
      ],
      "source": [
        "print(\"1 Пушкин А.С.\".split(' ', 1))"
      ]
    },
    {
      "cell_type": "code",
      "execution_count": null,
      "metadata": {
        "id": "dXfZuHRRGHjU",
        "outputId": "2ec4c6a1-3a5c-44c3-feca-e7370f1d2d7a"
      },
      "outputs": [
        {
          "name": "stdout",
          "output_type": "stream",
          "text": [
            "1-*-2-*-3-*-4\n"
          ]
        }
      ],
      "source": [
        "# Обратная операция - сборка строки из перечисляемого (итерируемого) объекта, \n",
        "# например, списка.\n",
        "\n",
        "print('-*-'.join(a))"
      ]
    },
    {
      "cell_type": "markdown",
      "metadata": {
        "id": "0UPRaZhSGHjU"
      },
      "source": [
        "Поиск подстроки в строке \n",
        "```python\n",
        "s.find(подстрока, [начало], [конец])\n",
        "```\n",
        "Возвращает индекс первого вхождения или ```-1```.\n",
        "```python\n",
        "s.rfind(...)\n",
        "```\n",
        "возвращает индекс последнего вхождения или ```-1```."
      ]
    },
    {
      "cell_type": "markdown",
      "metadata": {
        "id": "DSDYLP5RGHjU"
      },
      "source": [
        "> С этой функцией надо быть осторожнее, так как: 1) её результат приводится к ```bool``` неочевидным образом; 2) её ответ “не найдено” является корректным индексом в Питоне и не вызывает исключения при подстановке. Это частая ошибка в детских решениях."
      ]
    },
    {
      "cell_type": "code",
      "execution_count": null,
      "metadata": {
        "id": "Gv6bAg8tGHjU",
        "outputId": "75beb44f-011c-42a0-990b-db6e28de5cce"
      },
      "outputs": [
        {
          "name": "stdout",
          "output_type": "stream",
          "text": [
            "Yes\n"
          ]
        }
      ],
      "source": [
        "s = 'print(s)  # comment'\n",
        "print('Yes' if s.find('#') != -1 else 'No')"
      ]
    },
    {
      "cell_type": "markdown",
      "metadata": {
        "id": "CGqKVGCuGHjV"
      },
      "source": [
        "*Определение позиции подстроки*  \n",
        "Если известно, что подстрока в строке есть, ```index``` вернёт то же, что и ```find```, иначе выбросит исключение."
      ]
    },
    {
      "cell_type": "code",
      "execution_count": null,
      "metadata": {
        "id": "fU_N5rszGHjV",
        "outputId": "cd35d21b-ecef-432d-ed7c-e7c580939d72"
      },
      "outputs": [
        {
          "name": "stdout",
          "output_type": "stream",
          "text": [
            "2\n"
          ]
        }
      ],
      "source": [
        "print(\"123456\".index(\"34\"))"
      ]
    },
    {
      "cell_type": "code",
      "execution_count": null,
      "metadata": {
        "id": "iakiIv7JGHjV",
        "outputId": "9875601e-024e-416e-a0af-308fb86aee03"
      },
      "outputs": [
        {
          "ename": "ValueError",
          "evalue": "substring not found",
          "output_type": "error",
          "traceback": [
            "\u001b[1;31m---------------------------------------------------------------------------\u001b[0m",
            "\u001b[1;31mValueError\u001b[0m                                Traceback (most recent call last)",
            "\u001b[1;32m<ipython-input-26-c35dde15ac13>\u001b[0m in \u001b[0;36m<module>\u001b[1;34m\u001b[0m\n\u001b[1;32m----> 1\u001b[1;33m \u001b[0mprint\u001b[0m\u001b[1;33m(\u001b[0m\u001b[1;34m\"123456\"\u001b[0m\u001b[1;33m.\u001b[0m\u001b[0mindex\u001b[0m\u001b[1;33m(\u001b[0m\u001b[1;34m\"35\"\u001b[0m\u001b[1;33m)\u001b[0m\u001b[1;33m)\u001b[0m\u001b[1;33m\u001b[0m\u001b[1;33m\u001b[0m\u001b[0m\n\u001b[0m",
            "\u001b[1;31mValueError\u001b[0m: substring not found"
          ]
        }
      ],
      "source": [
        "print(\"123456\".index(\"35\"))"
      ]
    },
    {
      "cell_type": "markdown",
      "metadata": {
        "id": "BRfjcA9nGHjV"
      },
      "source": [
        "Если нужно определить, начинается ли строка с определённой подстроки (или заканчивается ли определённой последовательностью символов), можно воспользоваться срезами:"
      ]
    },
    {
      "cell_type": "code",
      "execution_count": null,
      "metadata": {
        "id": "XQbyGZ7ZGHjV",
        "outputId": "411da900-9c14-4d83-99e5-5b8e631703b3"
      },
      "outputs": [
        {
          "name": "stdout",
          "output_type": "stream",
          "text": [
            "12345 True\n",
            "1245 False\n",
            "0123 False\n",
            "12 False\n",
            " False\n"
          ]
        }
      ],
      "source": [
        "prefix = \"123\"\n",
        "for word in [\"12345\", \"1245\", \"0123\", \"12\", \"\"]:\n",
        "   print(word, word[:len(prefix)] == prefix)"
      ]
    },
    {
      "cell_type": "code",
      "execution_count": null,
      "metadata": {
        "id": "pp5TJ3cmGHjV",
        "outputId": "267c98c3-637c-407d-e752-d79f7f399a0d"
      },
      "outputs": [
        {
          "name": "stdout",
          "output_type": "stream",
          "text": [
            "ab True\n",
            "bc False\n"
          ]
        },
        {
          "ename": "IndexError",
          "evalue": "string index out of range",
          "output_type": "error",
          "traceback": [
            "\u001b[1;31m---------------------------------------------------------------------------\u001b[0m",
            "\u001b[1;31mIndexError\u001b[0m                                Traceback (most recent call last)",
            "\u001b[1;32m<ipython-input-28-2417917e1f16>\u001b[0m in \u001b[0;36m<module>\u001b[1;34m\u001b[0m\n\u001b[0;32m      2\u001b[0m \u001b[1;33m\u001b[0m\u001b[0m\n\u001b[0;32m      3\u001b[0m \u001b[1;32mfor\u001b[0m \u001b[0mword\u001b[0m \u001b[1;32min\u001b[0m \u001b[1;33m[\u001b[0m\u001b[1;34m\"ab\"\u001b[0m\u001b[1;33m,\u001b[0m \u001b[1;34m\"bc\"\u001b[0m\u001b[1;33m,\u001b[0m \u001b[1;34m\"\"\u001b[0m\u001b[1;33m]\u001b[0m\u001b[1;33m:\u001b[0m\u001b[1;33m\u001b[0m\u001b[1;33m\u001b[0m\u001b[0m\n\u001b[1;32m----> 4\u001b[1;33m    \u001b[0mprint\u001b[0m\u001b[1;33m(\u001b[0m\u001b[0mword\u001b[0m\u001b[1;33m,\u001b[0m \u001b[0mword\u001b[0m\u001b[1;33m[\u001b[0m\u001b[1;36m0\u001b[0m\u001b[1;33m]\u001b[0m \u001b[1;33m==\u001b[0m \u001b[1;34m\"a\"\u001b[0m\u001b[1;33m)\u001b[0m\u001b[1;33m\u001b[0m\u001b[1;33m\u001b[0m\u001b[0m\n\u001b[0m",
            "\u001b[1;31mIndexError\u001b[0m: string index out of range"
          ]
        }
      ],
      "source": [
        "# замечание: а индексами - опасно!\n",
        "\n",
        "for word in [\"ab\", \"bc\", \"\"]:\n",
        "   print(word, word[0] == \"a\")"
      ]
    },
    {
      "cell_type": "markdown",
      "metadata": {
        "id": "OLOEfD71GHjW"
      },
      "source": [
        "но рекомендуется использовать методы:\n",
        "- ```s.startswith(шаблон)``` - начинается ли строка ```s``` с указанного шаблона;\n",
        "- ```s.endswith(шаблон)``` - заканчивается ли строка определённым шаблоном.\n",
        "\n",
        "Это удобнее и безопаснее (и соответствует рекомендации PEP8)."
      ]
    },
    {
      "cell_type": "code",
      "execution_count": null,
      "metadata": {
        "id": "BEKFuSheGHjW",
        "outputId": "2106cd25-3fa3-438f-9314-882dea0b2b97"
      },
      "outputs": [
        {
          "name": "stdout",
          "output_type": "stream",
          "text": [
            "2\n"
          ]
        }
      ],
      "source": [
        "# Подсчет непересекающихся вхождений шаблона в строку. \n",
        "# s.count(шаблон, [начало], [конец])\n",
        "\n",
        "p = 'А роза упала на лапу Азора'\n",
        "print(p.count('А'))"
      ]
    },
    {
      "cell_type": "code",
      "execution_count": null,
      "metadata": {
        "id": "R1K31XmDGHjW",
        "outputId": "aefe501e-31c4-42d1-d6c3-414240ddf597"
      },
      "outputs": [
        {
          "name": "stdout",
          "output_type": "stream",
          "text": [
            "12340567089\n",
            "1234***567***89\n"
          ]
        }
      ],
      "source": [
        "# Замена шаблона. s.replace(шаблон, замена). \n",
        "# Помните, что создается новая строка!\n",
        "\n",
        "s = '12340567089'\n",
        "p = s.replace('0', '***')\n",
        "print(s)\n",
        "print(p)"
      ]
    },
    {
      "cell_type": "markdown",
      "metadata": {
        "id": "iSJsrXdrGHjW"
      },
      "source": [
        "> Напомнним еще раз, что строки - объекты типа ```str``` - неизменяемые объекты, следовательно, при использовании метода ```replace``` обязательно должна использоваться операция присваивания! Это частая ошибка у начинающих программировать на Python.\n",
        "\n",
        "```python\n",
        "<имя переменной> = <объект типа str>.replace(<что заменяем>, <на что заменяем>)\n",
        "```"
      ]
    },
    {
      "cell_type": "code",
      "execution_count": null,
      "metadata": {
        "id": "jZkWBY61GHjW",
        "outputId": "b9387a46-a185-46b9-e262-acf027cc45e5"
      },
      "outputs": [
        {
          "name": "stdout",
          "output_type": "stream",
          "text": [
            "True\n",
            "False\n"
          ]
        }
      ],
      "source": [
        "# Проверка: состоит строка из цифр? s.isdigit()\n",
        "\n",
        "print(s.isdigit())\n",
        "print(p.isdigit())"
      ]
    },
    {
      "cell_type": "markdown",
      "metadata": {
        "id": "_Z_FlTkkGHjW"
      },
      "source": [
        "Аналогично предыдущей проверке есть проверки:\n",
        "- ```s.isalpha()``` - состоит ли строка из букв;\n",
        "- ```s.isalnum()``` - состоит ли строка из цифр и букв;\n",
        "- ```s.islower()``` - состоит ли строка из букв в нижнем регистре;\n",
        "- ```s.isupper()``` - состоит ли строка из букв в верхнем регистре;\n",
        "- ```s.isspace()``` - состоит ли строка из пробельных символов;\n",
        "- ```s.istitle()``` - начинаются ли слова в строке с заглавной буквы."
      ]
    },
    {
      "cell_type": "markdown",
      "metadata": {
        "id": "rkiTs90XGHjX"
      },
      "source": [
        "Еще несколько полезных методов, позволяющих быстро редактировать строку:\n",
        "- ```s.upper()``` - переводит все буквы в верхний регистр;\n",
        "- ```s.lower()``` - переводит все буквы в нижний регистр;\n",
        "- ```s.capitalize()``` - переводит первый символ строки в верхний регистр, а остальные - в нижний;\n",
        "- ```s.lstrip()``` - удаляет пробельные символы в начале строки;\n",
        "- ```s.rstrip()``` - удаляет пробельные символы в конце строки;\n",
        "- ```s.strip()``` - удаляет пробельные символы в начале и конце строки;\n",
        "- ```s.zfill(ширина)``` - добавляет нули слева строки до достижения нужной ширины;\n",
        "- ```s.ljust(ширина, символ)``` - добавляет символ в конце строки до нужной ширины;\n",
        "- ```s.rjust(ширина, символ)``` - добавляет символ в начале строки до нужной ширины."
      ]
    },
    {
      "cell_type": "markdown",
      "metadata": {
        "id": "XS5FZpHDGHjX"
      },
      "source": [
        "Полная документация об объекте ```str``` и его методах можно прочитать в документации!!!!"
      ]
    },
    {
      "cell_type": "markdown",
      "metadata": {
        "id": "syuPOkAiGHjX"
      },
      "source": [
        "### f-строки "
      ]
    },
    {
      "cell_type": "markdown",
      "metadata": {
        "id": "YKjveqkUGHjX"
      },
      "source": [
        "Начиная с версии 3.6 в Python появился новый тип строк - f-строки. Эти строки предназначены для подстановки значений выражений непосредственно в строку. Подстановки обозначаются фигурными скобками ```{}```, внутри которых записывается переменная или выражение, результат вычисления которого должен быть встроен в строку, а также дополнительная информация об отображении, например, число знаков после десятичной точки. f-строки улучшают читаемость кода, а также работают быстрее чем другие способы форматирования. Они задаются с помощью литерала «f» перед кавычками."
      ]
    },
    {
      "cell_type": "code",
      "execution_count": null,
      "metadata": {
        "id": "UXSBGCtYGHjX",
        "outputId": "1d72d10e-63d6-4787-85c4-9b8e0a75b328"
      },
      "outputs": [
        {
          "name": "stdout",
          "output_type": "stream",
          "text": [
            "Меня зовут Вася. Мне 13 лет.\n"
          ]
        }
      ],
      "source": [
        "name = \"Вася\"\n",
        "age = 13\n",
        "print(f\"Меня зовут {name}. Мне {age} лет.\")"
      ]
    },
    {
      "cell_type": "markdown",
      "metadata": {
        "id": "3hMSvw-rGHjX"
      },
      "source": [
        "С помощью f-строк можно форматировать вывод чисел, дату и время и т.п. Документация: https://www.python.org/dev/peps/pep-0498/"
      ]
    },
    {
      "cell_type": "markdown",
      "metadata": {
        "id": "4UOq37kVGHjY"
      },
      "source": [
        "**Вставка символа.** В данной строке $S$ вставить символ $c_1$ после каждого вхождения символа $c_2$.  \n",
        "Формат входных данных  \n",
        "На первой строке записан символ $c_1$, на второй - символ $c_2$. На третьей строке дана сама непустая строка $S$. Строка $S$ состоит из букв латинского алфавита. $c_1$ и $c_2$ - буквы латинского алфавита.  \n",
        "Формат выходных данных  \n",
        "Выведите единственную строку - ответ на поставленную задачу.  \n",
        "Пример:  \n",
        "Вход  \n",
        "a  \n",
        "b  \n",
        "abc  \n",
        "Выход  \n",
        "abac  "
      ]
    },
    {
      "cell_type": "code",
      "execution_count": null,
      "metadata": {
        "id": "hsdK0yYyGHjY",
        "outputId": "8aed23ef-924a-452e-d1d8-8f065e02c9b5"
      },
      "outputs": [
        {
          "name": "stdout",
          "output_type": "stream",
          "text": [
            "a\n",
            "b\n",
            "abcbbcd\n",
            "abacbabacd\n"
          ]
        }
      ],
      "source": [
        "c1 = input()\n",
        "c2 = input()\n",
        "s = input()\n",
        "print(s.replace(c2, c2 + c1))"
      ]
    },
    {
      "cell_type": "markdown",
      "metadata": {
        "id": "zhg13GtDGHjY"
      },
      "source": [
        "**Центральная буква.** Дана строка $S$. Удалите из нее среднюю букву, если длина строки нечетная или две средних в противном случае.  \n",
        "Формат входных данных  \n",
        "На первой строке дана непустая строка $S$. Строка $S$ состоит из не менее 3-х и не более 100 букв латинского алфавита.  \n",
        "Формат выходных данных  \n",
        "Выведите единственную строку - ответ на поставленную задачу.  \n",
        "Пример:  \n",
        "Вход  \n",
        "abcd  \n",
        "Выход  \n",
        "ad  "
      ]
    },
    {
      "cell_type": "code",
      "execution_count": null,
      "metadata": {
        "id": "SSlRWLINGHjY",
        "outputId": "1c5bd468-6c6e-495b-fb34-d11515f6f26c"
      },
      "outputs": [
        {
          "name": "stdout",
          "output_type": "stream",
          "text": [
            "12345678\n",
            "123678\n"
          ]
        }
      ],
      "source": [
        "s = input()\n",
        "n = len(s)\n",
        "if n % 2 == 0:\n",
        "    print(s[:n // 2 - 1] + s[n // 2 + 1:])\n",
        "else:\n",
        "    print(s[:n // 2] + s[n // 2 + 1:])"
      ]
    },
    {
      "cell_type": "markdown",
      "metadata": {
        "id": "FfXIz0HmGHjY"
      },
      "source": [
        "**Зачем двоеточия?** Дана строка $S$. Выведите последовательность символов из нее, расположенных до первого двоеточия и после последнего двоеточия.  \n",
        "Формат входных данных  \n",
        "На первой строке дана непустая строка $S$. Строка $S$ состоит из букв латинского алфавита, пробелов и запятых. В ней есть как минимум одно двоеточие.  \n",
        "Формат выходных данных  \n",
        "Выведите единственную строку - ответ на поставленную задачу.  \n",
        "Пример:  \n",
        "Вход  \n",
        "a : b : c : d  \n",
        "Выход  \n",
        "a d"
      ]
    },
    {
      "cell_type": "code",
      "execution_count": null,
      "metadata": {
        "id": "CGvAX2YVGHjY",
        "outputId": "02b943b6-a8db-47c4-9616-c741c7654758"
      },
      "outputs": [
        {
          "name": "stdout",
          "output_type": "stream",
          "text": [
            "abc:def:asd\n",
            "abcasd\n"
          ]
        }
      ],
      "source": [
        "s = input()\n",
        "n1 = s.find(':')\n",
        "n2 = s.rfind(':')\n",
        "print(s[:n1] + s[n2 + 1:])"
      ]
    },
    {
      "cell_type": "markdown",
      "metadata": {
        "id": "EujA9dzkGHjZ"
      },
      "source": [
        "# Списки в Python"
      ]
    },
    {
      "cell_type": "markdown",
      "metadata": {
        "id": "P0tZAVIZGHjZ"
      },
      "source": [
        "*Список* - упорядоченная изменяемая коллекция объектов произвольных типов (```list```)."
      ]
    },
    {
      "cell_type": "code",
      "execution_count": null,
      "metadata": {
        "id": "tNc3WChUGHjZ",
        "outputId": "ba651ca2-899a-4010-a4d5-94eccd84c93f"
      },
      "outputs": [
        {
          "name": "stdout",
          "output_type": "stream",
          "text": [
            "<class 'list'>\n"
          ]
        }
      ],
      "source": [
        "a = [1, '2', 3.4]\n",
        "print(type(a))"
      ]
    },
    {
      "cell_type": "markdown",
      "metadata": {
        "id": "ktfV3-oEGHjZ"
      },
      "source": [
        "Список может содержать любые объекты, в том числе другие списки."
      ]
    },
    {
      "cell_type": "code",
      "execution_count": null,
      "metadata": {
        "id": "HZ514wlzGHjZ",
        "outputId": "1dd82f12-2074-4673-8fe2-83f04b87090a"
      },
      "outputs": [
        {
          "name": "stdout",
          "output_type": "stream",
          "text": [
            "[1, 2, [3, 4], 5]\n"
          ]
        }
      ],
      "source": [
        "b = [1, 2, [3, 4], 5]\n",
        "print(b)"
      ]
    },
    {
      "cell_type": "markdown",
      "metadata": {
        "id": "L1seO3wHGHjZ"
      },
      "source": [
        "При этом список в Питоне реализован как набор переменных-ссылок на своё содержимое: \n",
        "![](media/img/p7.png)"
      ]
    },
    {
      "cell_type": "code",
      "execution_count": null,
      "metadata": {
        "id": "0pccIqYCGHjZ",
        "outputId": "fa072b17-5e25-49c8-c019-3d551a417c7b"
      },
      "outputs": [
        {
          "name": "stdout",
          "output_type": "stream",
          "text": [
            "[]\n"
          ]
        }
      ],
      "source": [
        "# Создание пустого списка\n",
        "\n",
        "empty1 = list()\n",
        "print(empty1)"
      ]
    },
    {
      "cell_type": "code",
      "execution_count": null,
      "metadata": {
        "id": "Y70WSfZrGHja",
        "outputId": "8d2f74f3-e0e6-4629-9871-0a13d432d45b"
      },
      "outputs": [
        {
          "name": "stdout",
          "output_type": "stream",
          "text": [
            "[]\n"
          ]
        }
      ],
      "source": [
        "empty2 = []  # другой пустой список\n",
        "print(empty2)"
      ]
    },
    {
      "cell_type": "markdown",
      "metadata": {
        "id": "FPZw5z_JGHja"
      },
      "source": [
        "### Равные и совпадающие изменяемые объекты "
      ]
    },
    {
      "cell_type": "code",
      "execution_count": null,
      "metadata": {
        "id": "MlMFfFhSGHja",
        "outputId": "7514e9db-e632-4d7d-c222-6ca69ddfbe99"
      },
      "outputs": [
        {
          "name": "stdout",
          "output_type": "stream",
          "text": [
            "Списки равны, но это разные списки\n"
          ]
        }
      ],
      "source": [
        "if empty1 == empty2:\n",
        "   if empty1 is not empty2:\n",
        "       print('Списки равны, но это разные списки')\n",
        "   else:\n",
        "       print('Это один и тот же список')\n",
        "else:\n",
        "   print('Списки не равны')"
      ]
    },
    {
      "cell_type": "markdown",
      "metadata": {
        "id": "KU3pAyazGHja"
      },
      "source": [
        "Равенство списков - это одинаковый состав и порядок элементов."
      ]
    },
    {
      "cell_type": "code",
      "execution_count": null,
      "metadata": {
        "id": "11htT12oGHja",
        "outputId": "3567a9b9-8ee5-4bbf-b488-4f922269e718"
      },
      "outputs": [
        {
          "name": "stdout",
          "output_type": "stream",
          "text": [
            "[1, '2', 3.4]\n",
            "[1, -3, 3.4]\n",
            "[1, '2', 3.4]\n"
          ]
        }
      ],
      "source": [
        "# Поверхностное копирование списка\n",
        "\n",
        "b = a.copy()\n",
        "print(b)\n",
        "b[1] = -3\n",
        "print(b)\n",
        "print(a)"
      ]
    },
    {
      "cell_type": "markdown",
      "metadata": {
        "id": "2_1Kq2gUGHja"
      },
      "source": [
        "### Индексация и срезы "
      ]
    },
    {
      "cell_type": "code",
      "execution_count": null,
      "metadata": {
        "id": "VRaZ7okQGHjb",
        "outputId": "58517d2b-6110-40e9-f1cd-b8341a152eaf"
      },
      "outputs": [
        {
          "name": "stdout",
          "output_type": "stream",
          "text": [
            "2\n",
            "[3, 4]\n",
            "3\n"
          ]
        }
      ],
      "source": [
        "# Обращение к элементу по номеру\n",
        "\n",
        "b = [1, 2, [3, 4], 5]\n",
        "print(b[1])\n",
        "print(b[2])\n",
        "print(b[2][0])"
      ]
    },
    {
      "cell_type": "code",
      "execution_count": null,
      "metadata": {
        "id": "V5I26J65GHjb",
        "outputId": "d61f75ac-e6f4-4303-a37f-5e35bf5286ac"
      },
      "outputs": [
        {
          "name": "stdout",
          "output_type": "stream",
          "text": [
            "[1, '2', 3.4]\n",
            "[1, 0, 3.4]\n"
          ]
        }
      ],
      "source": [
        "# Так как список - изменяемый тип данных, то при обращении по индексу можно \n",
        "# заменить соответствующее значение:\n",
        "\n",
        "print(a)\n",
        "a[1] = 0\n",
        "print(a)"
      ]
    },
    {
      "cell_type": "code",
      "execution_count": null,
      "metadata": {
        "id": "13Yr2fY7GHjb",
        "outputId": "7596c5b4-a5a1-4ba7-e033-4a344c124996"
      },
      "outputs": [
        {
          "name": "stdout",
          "output_type": "stream",
          "text": [
            "2\n",
            "6\n",
            "2\n"
          ]
        }
      ],
      "source": [
        "# list.index(x, [start [,end]])\n",
        "# Возвращает положение первого элемента со значением x (при этом поиск ведется от start до end)\n",
        "\n",
        "a = [1, 2, 3, 4, 1, 2, 3, 4]\n",
        "print(a.index(3))\n",
        "print(a.index(3, 4))\n",
        "print(a.index(3, 0, 4))"
      ]
    },
    {
      "cell_type": "code",
      "execution_count": null,
      "metadata": {
        "id": "g2uXUaTXGHjb",
        "outputId": "806051a0-7601-403a-a264-17fd534fd0c7"
      },
      "outputs": [
        {
          "name": "stdout",
          "output_type": "stream",
          "text": [
            "2\n"
          ]
        }
      ],
      "source": [
        "# Подсчет количества элементов с заданным значением\n",
        "\n",
        "print(a.count(1))"
      ]
    },
    {
      "cell_type": "markdown",
      "metadata": {
        "id": "GCYieRSPGHjb"
      },
      "source": [
        "> Метод ```count()``` работает и для строк. Например, следующий код решает задачу №16 ЕГЭ по информатике: сколько единиц в двоичном представлении следующего выражения $2^{34} + 4^{10} - 17$?\n",
        "```python\n",
        "print(bin(2 ** 34 + 4 ** 10 - 17)[2:].count('1'))\n",
        "```"
      ]
    },
    {
      "cell_type": "code",
      "execution_count": null,
      "metadata": {
        "id": "3HKj1nvSGHjb",
        "outputId": "c3c6c3ac-74e9-41df-803a-45134d923c1d"
      },
      "outputs": [
        {
          "name": "stdout",
          "output_type": "stream",
          "text": [
            "[0, 1, [3, 4]]\n",
            "[5, [3, 4], 2, 1, 3.4, 0, 1]\n"
          ]
        }
      ],
      "source": [
        "# Срезы\n",
        "\n",
        "c = [1, 0, 3.4, 1, 2, [3, 4], 5]\n",
        "d = c[1::2]\n",
        "print(d)\n",
        "f = c[::-1]\n",
        "print(f)"
      ]
    },
    {
      "cell_type": "code",
      "execution_count": null,
      "metadata": {
        "id": "4bSo_8jRGHjc",
        "outputId": "f4b5997e-61c2-4df5-efad-7aa4185cef65"
      },
      "outputs": [
        {
          "name": "stdout",
          "output_type": "stream",
          "text": [
            "[0, 1, [3, 4]]\n"
          ]
        }
      ],
      "source": [
        "# Копирование с помощью среза\n",
        "\n",
        "data = d[:]\n",
        "print(data)"
      ]
    },
    {
      "cell_type": "code",
      "execution_count": null,
      "metadata": {
        "id": "6sWpLYypGHjc",
        "outputId": "2a06deca-dbd3-47af-e94d-d39a44da7c7c"
      },
      "outputs": [
        {
          "name": "stdout",
          "output_type": "stream",
          "text": [
            "[8, 2, 6, 4, 4, 6, 2, 8, 0]\n"
          ]
        }
      ],
      "source": [
        "# С помощью срезов можно менять список, если срез стоит в левой части выражения:\n",
        "\n",
        "a = [1, 2, 3, 4, 5, 6, 7, 8, 9]\n",
        "a[::2] = [8, 6, 4, 2, 0]\n",
        "print(a)"
      ]
    },
    {
      "cell_type": "markdown",
      "metadata": {
        "id": "SBKJngfLGHjc"
      },
      "source": [
        "### Методы списков и типовые операции над ними "
      ]
    },
    {
      "cell_type": "code",
      "execution_count": null,
      "metadata": {
        "id": "HhSAj5eQGHjc",
        "outputId": "f1e05c77-3fe5-4cfd-ea71-11d7e5a9e8cd"
      },
      "outputs": [
        {
          "name": "stdout",
          "output_type": "stream",
          "text": [
            "[8, 2, 6, 4, 4, 6, 2, 8, 0, 100]\n"
          ]
        }
      ],
      "source": [
        "# Добавление элемента в конец списка\n",
        "\n",
        "a.append(100)\n",
        "print(a)"
      ]
    },
    {
      "cell_type": "code",
      "execution_count": null,
      "metadata": {
        "id": "A7oTFXgLGHjc",
        "outputId": "13189073-d26e-498e-ae31-613da238a8a9"
      },
      "outputs": [
        {
          "name": "stdout",
          "output_type": "stream",
          "text": [
            "[8, 2, 6, 200, 4, 4, 6, 2, 8, 0, 100]\n"
          ]
        }
      ],
      "source": [
        "# Вставка объекта в определённую позицию\n",
        "\n",
        "a.insert(3, 200)\n",
        "print(a)"
      ]
    },
    {
      "cell_type": "code",
      "execution_count": null,
      "metadata": {
        "id": "TCuvfwpqGHjc",
        "outputId": "2c3ddd66-e66d-45d9-e2cc-08d3f4225e56"
      },
      "outputs": [
        {
          "name": "stdout",
          "output_type": "stream",
          "text": [
            "[8, 2, 6, 200, 4, 4, 6, 2, 8, 0, 100, 1, 2, [3, 4], 5]\n"
          ]
        }
      ],
      "source": [
        "# Конкатенация списков\n",
        "\n",
        "c = a + b\n",
        "print(c)"
      ]
    },
    {
      "cell_type": "markdown",
      "metadata": {
        "id": "2ykGZlC3GHjd"
      },
      "source": [
        "При сложении списков получаем новый список. Даже если связать результирующий список со старой переменной, это будет уже новый объект."
      ]
    },
    {
      "cell_type": "code",
      "execution_count": null,
      "metadata": {
        "id": "LvQaa1F-GHjd",
        "outputId": "7b2114a4-4090-43db-8cc4-179e63ebe78a"
      },
      "outputs": [
        {
          "name": "stdout",
          "output_type": "stream",
          "text": [
            "84529480\n",
            "89565144\n",
            "[1, 2, 3, 'a', 'b', 'c']\n"
          ]
        }
      ],
      "source": [
        "a = [1, 2, 3]\n",
        "b = ['a', 'b', 'c']\n",
        "print(id(a))\n",
        "a = a + b\n",
        "print(id(a))\n",
        "print(a)"
      ]
    },
    {
      "cell_type": "code",
      "execution_count": null,
      "metadata": {
        "id": "Qc_kYdryGHjd",
        "outputId": "3b3c6388-35d2-412c-a21f-d8d0696f5c15"
      },
      "outputs": [
        {
          "name": "stdout",
          "output_type": "stream",
          "text": [
            "89565144\n",
            "[1, 2, 3, 'a', 'b', 'c', 'a', 'b', 'c']\n"
          ]
        }
      ],
      "source": [
        "# Расширение одного списка другим\n",
        "\n",
        "a += b\n",
        "print(id(a))\n",
        "print(a)"
      ]
    },
    {
      "cell_type": "code",
      "execution_count": null,
      "metadata": {
        "id": "R9UHNk5hGHjd",
        "outputId": "86236269-bca3-4b3c-ec87-f298a8e8dbc8"
      },
      "outputs": [
        {
          "name": "stdout",
          "output_type": "stream",
          "text": [
            "89565144\n",
            "[1, 2, 3, 'a', 'b', 'c', 'a', 'b', 'c', 'a', 'b', 'c']\n"
          ]
        }
      ],
      "source": [
        "# Другой вариант расширения одного списка другим\n",
        "\n",
        "a.extend(b)\n",
        "print(id(a))\n",
        "print(a)"
      ]
    },
    {
      "cell_type": "markdown",
      "metadata": {
        "id": "QaSoogrgGHjd"
      },
      "source": [
        "Как вы видите, в обоих случаях изменяется список ```a```, список ```b``` остаётся без изменений, новых списков не создаётся."
      ]
    },
    {
      "cell_type": "code",
      "execution_count": null,
      "metadata": {
        "id": "3ciWiuy_GHjd",
        "outputId": "f08d3650-752e-4d1a-97ee-4b6251c232d8"
      },
      "outputs": [
        {
          "name": "stdout",
          "output_type": "stream",
          "text": [
            "[0, 0, 0, 0, 0, 0, 0, 0, 0, 0, 0, 0, 0, 0, 0, 0, 0, 0, 0, 0]\n"
          ]
        }
      ],
      "source": [
        "# Умножение списка на число\n",
        "\n",
        "d = [0] * 20\n",
        "print(d)"
      ]
    },
    {
      "cell_type": "code",
      "execution_count": null,
      "metadata": {
        "id": "Zo1GpSpdGHjd",
        "outputId": "505954d7-7dde-45f8-e5d2-38d918ac3a3a"
      },
      "outputs": [
        {
          "name": "stdout",
          "output_type": "stream",
          "text": [
            "['a', 'b', 'c']\n",
            "84529880\n",
            "[]\n",
            "84529880\n"
          ]
        }
      ],
      "source": [
        "# Очистка списка\n",
        "\n",
        "print(b)\n",
        "print(id(b))\n",
        "b.clear()\n",
        "print(b)\n",
        "print(id(b))"
      ]
    },
    {
      "cell_type": "markdown",
      "metadata": {
        "id": "yRfelX25GHje"
      },
      "source": [
        "Обратите внимание, что при этом список остался тем же объектом."
      ]
    },
    {
      "cell_type": "code",
      "execution_count": null,
      "metadata": {
        "id": "AR1VvuKPGHje",
        "outputId": "da7c926a-6688-4873-db51-2e443403d315"
      },
      "outputs": [
        {
          "name": "stdout",
          "output_type": "stream",
          "text": [
            "[1, 2, 3, 'a', 'b', 'c', 'a', 'b', 'c', 'a', 'b', 'c']\n",
            "[1, 2, 3, 'b', 'c', 'a', 'b', 'c', 'a', 'b', 'c']\n"
          ]
        }
      ],
      "source": [
        "# Варианты удаления.\n",
        "# Удаление из списка первого элемента с данным значением.\n",
        "\n",
        "print(a)\n",
        "if 'a' in a:\n",
        "    a.remove('a')\n",
        "print(a)"
      ]
    },
    {
      "cell_type": "code",
      "execution_count": null,
      "metadata": {
        "id": "uc8OsA0VGHje",
        "outputId": "3cd51d69-1764-445a-bd37-7433ad7d797d"
      },
      "outputs": [
        {
          "name": "stdout",
          "output_type": "stream",
          "text": [
            "c\n",
            "[1, 2, 3, 'b', 'c', 'a', 'b', 'c', 'a', 'b']\n",
            "[1, 2, 'b', 'c', 'a', 'b', 'c', 'a', 'b']\n"
          ]
        }
      ],
      "source": [
        "# Удаление элемента с i-ым номером и возврат этого значения. Если i не указано, \n",
        "# то удаляется последний элемент\n",
        "\n",
        "print(a.pop())\n",
        "print(a)\n",
        "a.pop(2)\n",
        "print(a)"
      ]
    },
    {
      "cell_type": "code",
      "execution_count": null,
      "metadata": {
        "id": "H71AzJ_JGHje",
        "outputId": "5226acb8-3075-4704-a41b-cfe2ec22468e"
      },
      "outputs": [
        {
          "name": "stdout",
          "output_type": "stream",
          "text": [
            "[2, 'b', 'c', 'a', 'b', 'c', 'a', 'b']\n",
            "['b', 'a', 'c', 'b']\n"
          ]
        }
      ],
      "source": [
        "# Инструкция del\n",
        "\n",
        "del a[0]\n",
        "print(a)\n",
        "del a[::2]\n",
        "print(a)"
      ]
    },
    {
      "cell_type": "code",
      "execution_count": null,
      "metadata": {
        "id": "TZzK0_rjGHje",
        "outputId": "dfeb48b4-b0d6-4b2c-fd1d-46a9e1123ff1"
      },
      "outputs": [
        {
          "ename": "NameError",
          "evalue": "name 'a' is not defined",
          "output_type": "error",
          "traceback": [
            "\u001b[1;31m---------------------------------------------------------------------------\u001b[0m",
            "\u001b[1;31mNameError\u001b[0m                                 Traceback (most recent call last)",
            "\u001b[1;32m<ipython-input-57-c342333e421e>\u001b[0m in \u001b[0;36m<module>\u001b[1;34m\u001b[0m\n\u001b[0;32m      1\u001b[0m \u001b[1;32mdel\u001b[0m \u001b[0ma\u001b[0m\u001b[1;33m\u001b[0m\u001b[1;33m\u001b[0m\u001b[0m\n\u001b[1;32m----> 2\u001b[1;33m \u001b[0mprint\u001b[0m\u001b[1;33m(\u001b[0m\u001b[0ma\u001b[0m\u001b[1;33m)\u001b[0m\u001b[1;33m\u001b[0m\u001b[1;33m\u001b[0m\u001b[0m\n\u001b[0m",
            "\u001b[1;31mNameError\u001b[0m: name 'a' is not defined"
          ]
        }
      ],
      "source": [
        "del a\n",
        "print(a)"
      ]
    },
    {
      "cell_type": "markdown",
      "metadata": {
        "id": "2idBSSc9GHjf"
      },
      "source": [
        "Удаляется не объект, а ссылка на него (если на объект ссылаются откуда-то ещё, сам объект останется, если нет - будет собран сборщиком мусора)."
      ]
    },
    {
      "cell_type": "code",
      "execution_count": null,
      "metadata": {
        "id": "9eVCidXDGHjf",
        "outputId": "69ac3e5d-830f-4730-d1ec-bd2915195355"
      },
      "outputs": [
        {
          "name": "stdout",
          "output_type": "stream",
          "text": [
            "[[1, 2, 3], [7, 8, 9]]\n",
            "[4, 5, 6]\n"
          ]
        }
      ],
      "source": [
        "row0 = [1, 2, 3]\n",
        "row1 = [4, 5, 6]\n",
        "row2 = [7, 8, 9]\n",
        "table = [row0, row1, row2]\n",
        "del table[1]\n",
        "print(table)\n",
        "print(row1)"
      ]
    },
    {
      "cell_type": "markdown",
      "metadata": {
        "id": "YrPzDVPZGHjf"
      },
      "source": [
        "![](media/img/p8.png)\n",
        "![](media/img/p9.png)"
      ]
    },
    {
      "cell_type": "code",
      "execution_count": null,
      "metadata": {
        "id": "un0OURXoGHjf",
        "outputId": "5ab58578-50ae-4fc5-a16d-fc5b1c875efc"
      },
      "outputs": [
        {
          "name": "stdout",
          "output_type": "stream",
          "text": [
            "[3, 4, 5]\n"
          ]
        }
      ],
      "source": [
        "# Удаление с помощью среза:\n",
        "\n",
        "my_list = [1, 2, 3, 4, 5]\n",
        "my_list[:2] = []    # или del my_list[:2]\n",
        "print(my_list)     "
      ]
    },
    {
      "cell_type": "code",
      "execution_count": null,
      "metadata": {
        "id": "1peIo-CkGHjf",
        "outputId": "0bafaef3-c256-4f35-d023-03b8d784f762"
      },
      "outputs": [
        {
          "name": "stdout",
          "output_type": "stream",
          "text": [
            "[0, 1, 2, 3, 4, 5, 6, 7, 8, 9]\n",
            "[9, 8, 7, 6, 5, 4, 3, 2, 1, 0]\n",
            "[0, 1, 2, 3, 4, 5, 6, 7, 8, 9]\n"
          ]
        }
      ],
      "source": [
        "# Сортировка списка list.sort([key=ключ сортировки],[reverse=False])\n",
        "\n",
        "a = [1, 2, 7, 9, 0, 3, 5, 4, 6, 8]\n",
        "a.sort()\n",
        "print(a)\n",
        "a.sort(reverse=True)\n",
        "print(a)\n",
        "a.reverse()\n",
        "print(a)"
      ]
    },
    {
      "cell_type": "markdown",
      "metadata": {
        "id": "nr_Qr2o7GHjf"
      },
      "source": [
        "**ЕГЭ-2018-25.** Дан целочисленный массив из $N$ элементов. Элементы массива могут принимать целые значения от –10000 до 10000 включительно. Опишите алгоритм, который находит максимальный элемент среди элементов массива, имеющих чётное значение, а затем заменяет каждый элемент с чётным значением на число, равное найденному максимуму. Гарантируется, что хотя бы один такой элемент в массиве есть. В качестве результата необходимо вывести изменённый массив, каждый элемент выводится с новой строчки.  \n",
        "В первой строке вводится натуральное число $N (1 \\le N \\le 100)$. В последующих строках $N$ элементов массива.  \n",
        "Пример входных данных:  \n",
        "6  \n",
        "8  \n",
        "3  \n",
        "4  \n",
        "5  \n",
        "13  \n",
        "10   \n",
        "Пример выходных данных:    \n",
        "10  \n",
        "3  \n",
        "10  \n",
        "5  \n",
        "13  \n",
        "10"
      ]
    },
    {
      "cell_type": "code",
      "execution_count": null,
      "metadata": {
        "id": "IKX57-LxGHjf",
        "outputId": "df2e025b-20b3-41b7-a17a-fa48bd485a2d"
      },
      "outputs": [
        {
          "name": "stdout",
          "output_type": "stream",
          "text": [
            "6\n",
            "8\n",
            "3\n",
            "4\n",
            "5\n",
            "13\n",
            "10\n",
            "10\n",
            "3\n",
            "10\n",
            "5\n",
            "13\n",
            "10\n"
          ]
        }
      ],
      "source": [
        "n = int(input())\n",
        "a = []\n",
        "for _ in range(n):\n",
        "    a.append(int(input()))\n",
        "m = -10000\n",
        "for x in a:\n",
        "    if x % 2 == 0:\n",
        "        m = max(m, x)\n",
        "for i in range(n):\n",
        "    if a[i] % 2 == 0:\n",
        "        a[i] = m\n",
        "for x in a:\n",
        "    print(x)"
      ]
    },
    {
      "cell_type": "markdown",
      "metadata": {
        "id": "4D1Gnn76GHjg"
      },
      "source": [
        "Прокомментируем это решение.\n",
        "\n",
        "Обратите внимание, что в первом цикле используется конструкция ```for _ in range(n): ``` Может возникнуть вопрос - зачем здесь нижнее подчеркивание? В Python это допустимое имя переменной. По традиции нижнее подчёркивание используют для того, чтобы показать, что эта переменная нигде дальше не используется. То есть мы используем какую-то синтаксическую конструкцию, в которой требуется создать новую переменную, но нам нужна не эта переменная, а какие-то другие эффекты от данной синтаксической конструкции.\n",
        "\n",
        "Во втором цикле (поиск максимального четного) и в последнем цикле (вывод элементов массива на экран) применяется доступ к значениям элементов списков без  использования индексов ```for x in a:```."
      ]
    },
    {
      "cell_type": "markdown",
      "metadata": {
        "id": "bIC_ty0wGHjg"
      },
      "source": [
        "> В этом решении немного нарушены требования к задаче 25 ЕГЭ в части именования переменных. Обратите на это внимание."
      ]
    },
    {
      "cell_type": "markdown",
      "metadata": {
        "id": "1n7a6pZoGHjg"
      },
      "source": [
        "**Стек.** Используя стек, проверить, является ли правильной скобочная последовательность, в которую входят скобки 3 типов: (), {}, \\[\\].  \n",
        "На вход программе подается одна строка, представляющая собой последовательность скобок без пробелов.  \n",
        "Выведите Yes, если скобочная последовательность правильная или No в противном случае.  \n",
        "Примеры:  \n",
        "Вход  \n",
        "()({}\\[\\])  \n",
        "Выход  \n",
        "Yes  \n",
        "Вход  \n",
        "(\\[)\\]  \n",
        "Выход  \n",
        "No  \n",
        "Вход  \n",
        "(\\[()\\]  \n",
        "Выход  \n",
        "No"
      ]
    },
    {
      "cell_type": "code",
      "execution_count": null,
      "metadata": {
        "id": "y-A1kEu5GHjg",
        "outputId": "7a4ac8c7-f490-4259-d421-74b4b3f9224f"
      },
      "outputs": [
        {
          "name": "stdout",
          "output_type": "stream",
          "text": [
            "()({}[])\n",
            "Yes\n"
          ]
        }
      ],
      "source": [
        "stack = []\n",
        "string = input()\n",
        "op = '([{'\n",
        "cl = ')]}'\n",
        "for x in string:\n",
        "    if x in op:\n",
        "        stack.append(x)\n",
        "    elif x in cl and len(stack) == 0:\n",
        "        print('No')\n",
        "        break\n",
        "    elif x == ')' and stack[-1] != '(':\n",
        "        print('No')\n",
        "        break\n",
        "    elif x == ']' and stack[-1] != '[':\n",
        "        print('No')\n",
        "        break    \n",
        "    elif x == '}' and stack[-1] != '{':\n",
        "        print('No')\n",
        "        break\n",
        "    else:\n",
        "        stack.pop()\n",
        "else:\n",
        "    print('Yes')"
      ]
    },
    {
      "cell_type": "markdown",
      "metadata": {
        "id": "-ujgFaw2GHjg"
      },
      "source": [
        "**ЕГЭ-2018-27.** На вход программы поступает последовательность из $N$ целых положительных чисел, все числа в последовательности различны. Рассматриваются все пары различных элементов последовательности, находящихся на расстоянии не меньше чем 3 (разница в индексах элементов пары должна быть 3 или более, порядок элементов в паре не важен). Необходимо определить количество таких пар, для которых произведение элементов делится на 13.  \n",
        "Описание входных и выходных данных  \n",
        "В первой строке входных данных задаётся количество чисел $N (3 \\le N \\le 1000)$. В каждой из последующих $N$ строк записано одно целое положительное число, не превышающее 10000.  \n",
        "В качестве результата программа должна вывести одно число: количество пар элементов, находящихся в последовательности на расстоянии не меньше чем 3, в которых произведение элементов кратно 13.  \n",
        "Пример входных данных:  \n",
        "6  \n",
        "26  \n",
        "2  \n",
        "3  \n",
        "5  \n",
        "4  \n",
        "13  \n",
        "Пример выходных данных для приведённого выше примера входных данных:  \n",
        "5"
      ]
    },
    {
      "cell_type": "code",
      "execution_count": null,
      "metadata": {
        "id": "2qasBWOxGHjg",
        "outputId": "4968f202-14a3-4303-fbd6-fa531e193e6e"
      },
      "outputs": [
        {
          "name": "stdout",
          "output_type": "stream",
          "text": [
            "6\n",
            "26\n",
            "2\n",
            "3\n",
            "5\n",
            "4\n",
            "13\n",
            "5\n"
          ]
        }
      ],
      "source": [
        "# Переборное решение\n",
        "\n",
        "n = int(input())\n",
        "res = 0\n",
        "a = []\n",
        "for _ in range(n):\n",
        "    a.append(int(input()))\n",
        "for i in range(n - 3):\n",
        "    for j in range(i + 3, n):\n",
        "        res += a[i] * a[j] % 13 == 0\n",
        "print(res)\n"
      ]
    },
    {
      "cell_type": "code",
      "execution_count": null,
      "metadata": {
        "id": "KqVfMpb-GHjh",
        "outputId": "9a6737ba-57d7-4806-f17a-6cee0d9e440c"
      },
      "outputs": [
        {
          "name": "stdout",
          "output_type": "stream",
          "text": [
            "6\n",
            "26\n",
            "2\n",
            "3\n",
            "5\n",
            "4\n",
            "13\n",
            "5\n"
          ]
        }
      ],
      "source": [
        "# Решение эффективное по времени и по памяти\n",
        "\n",
        "D = 3\n",
        "n = int(input())\n",
        "a = []\n",
        "for _ in range(D):\n",
        "    a.append(int(input()))\n",
        "res = 0\n",
        "k_13 = 0\n",
        "k = 0\n",
        "for i in range(n - D):\n",
        "    if a[0] % 13 == 0:\n",
        "        k_13 += 1\n",
        "    else:\n",
        "        k += 1\n",
        "    x = int(input())\n",
        "    if x % 13 != 0:\n",
        "        res += k_13\n",
        "    res += k\n",
        "    a = a[1:] + [x]\n",
        "print(res)"
      ]
    },
    {
      "cell_type": "markdown",
      "metadata": {
        "id": "QT6AA6--GHjh"
      },
      "source": [
        "Обратите внимание, как в этом решении организован сдвиг в очереди - списке ```a```."
      ]
    },
    {
      "cell_type": "markdown",
      "metadata": {
        "id": "cHKZjRKfGHjh"
      },
      "source": [
        "**Особые пары.** Вам дано $N$ пар натуральных чисел. Найдите среди них количество таких пар, в которых оба числа имеют одинаковую четность, т.е. либо оба четные, либо оба нечетные. Замените все такие пары на пару, содержащую максимальное значение среди всех введенных значений. Если таких пар несколько, возьмите первую из них.  \n",
        "Входные данные  \n",
        "На вход программы в первой строке подается натуральное число $N (1 \\le N \\le 200)$. Каждая следующая строка содержит описание пары: два натуральных числа, разделенные пробелом. Оба числа в каждой паре не превосходят 10000.  \n",
        "Выходные данные  \n",
        "Выведите количество искомых пар, а затем измененный список пар.  \n",
        "Пример  \n",
        "Ввод  \n",
        "5  \n",
        "1 3  \n",
        "2 5  \n",
        "5 2  \n",
        "4 4  \n",
        "1 1  \n",
        "Вывод  \n",
        "3  \n",
        "2 5  \n",
        "2 5  \n",
        "5 2  \n",
        "2 5  \n",
        "2 5"
      ]
    },
    {
      "cell_type": "code",
      "execution_count": null,
      "metadata": {
        "id": "nvFWdknZGHjh",
        "outputId": "5f30c42b-798e-4057-f17c-ac20f56af6a3"
      },
      "outputs": [
        {
          "name": "stdout",
          "output_type": "stream",
          "text": [
            "5\n",
            "1 3\n",
            "2 5\n",
            "5 2\n",
            "1 1\n",
            "4 4\n",
            "3\n",
            "2 5\n",
            "2 5\n",
            "5 2\n",
            "2 5\n",
            "2 5\n"
          ]
        }
      ],
      "source": [
        "n = int(input())\n",
        "a = []\n",
        "elem_max = 0\n",
        "max_pair = (0, 0)\n",
        "res = 0\n",
        "for _ in range(n):\n",
        "    tmp = input().split()\n",
        "    a.append((int(tmp[0]), int(tmp[1])))\n",
        "    if max(a[-1]) > elem_max:\n",
        "        elem_max = max(a[-1])\n",
        "        max_pair = a[-1]\n",
        "    if (a[-1][0] + a[-1][1]) % 2 == 0:\n",
        "        res += 1\n",
        "print(res)\n",
        "for i in range(n):\n",
        "    if (a[i][0] + a[i][1]) % 2 == 0:\n",
        "        a[i] = max_pair\n",
        "for x in a:\n",
        "    print(x[0], x[1])"
      ]
    },
    {
      "cell_type": "markdown",
      "metadata": {
        "id": "zXXSf4T_GHjh"
      },
      "source": [
        "В этой задаче в качестве пар используются *кортежи* ```tuple``` - неизменяемые списки. Это позволяет работать с парами, не используя срезы."
      ]
    },
    {
      "cell_type": "markdown",
      "metadata": {
        "id": "e2jnjpO1GHji"
      },
      "source": [
        "# Множества в Python"
      ]
    },
    {
      "cell_type": "markdown",
      "metadata": {
        "id": "YG1NIxq6GHji"
      },
      "source": [
        "Тип ```set``` – это неупорядоченная коллекция из нуля или более ссылок на объекты.  \n",
        "Все встроенные неизменяемые типы данных, такие как ```float```, ```frozenset```, ```int```, ```str``` и ```tuple```, являются *хешируемыми* объектами и могут добавляться во множества. Встроенные изменяемые типы данных, такие как ```dict```, ```list``` и ```set```, не являются хешируемыми объектами, так как значение хеша в каждом конкретном случае зависит от содержащихся в объекте элементов, поэтому они не могут добавляться в множества."
      ]
    },
    {
      "cell_type": "code",
      "execution_count": null,
      "metadata": {
        "id": "5r5MRaZqGHji",
        "outputId": "a7b1b3e2-54ba-4afc-ccb3-d5f696b7551a"
      },
      "outputs": [
        {
          "name": "stdout",
          "output_type": "stream",
          "text": [
            "set()\n"
          ]
        }
      ],
      "source": [
        "# Создание пустого множества\n",
        "\n",
        "a = set()\n",
        "print(a)"
      ]
    },
    {
      "cell_type": "code",
      "execution_count": null,
      "metadata": {
        "id": "mOcxNPptGHji",
        "outputId": "ea398a47-03ab-4faa-ac67-51f7aaead8ae"
      },
      "outputs": [
        {
          "name": "stdout",
          "output_type": "stream",
          "text": [
            "{'b', 'c', 'd', 'e', 'a', 'f'}\n",
            "{1, 2, 3, 4, 5, 9}\n"
          ]
        }
      ],
      "source": [
        "# Создание множества из списка или строки\n",
        "\n",
        "a = set('abcdefabcde')\n",
        "b = set([1, 2, 3, 4, 5, 1, 9])\n",
        "print(a)\n",
        "print(b)"
      ]
    },
    {
      "cell_type": "code",
      "execution_count": null,
      "metadata": {
        "id": "ys0HT9CLGHjj",
        "outputId": "bafe86e2-fdb7-4161-ca9f-ae072e9f9aa9"
      },
      "outputs": [
        {
          "name": "stdout",
          "output_type": "stream",
          "text": [
            "False\n",
            "True\n"
          ]
        }
      ],
      "source": [
        "# Проверка наличия элемента во множестве\n",
        "\n",
        "print(5 in a)\n",
        "print(5 in b)"
      ]
    },
    {
      "cell_type": "code",
      "execution_count": null,
      "metadata": {
        "id": "s3mUYHixGHjj",
        "outputId": "956be964-c50d-4a4f-ac02-a24bf644741f"
      },
      "outputs": [
        {
          "name": "stdout",
          "output_type": "stream",
          "text": [
            "6\n"
          ]
        }
      ],
      "source": [
        "# Мощность множества \n",
        "\n",
        "print(len(a))"
      ]
    },
    {
      "cell_type": "code",
      "execution_count": null,
      "metadata": {
        "id": "gT3Xp9q9GHjj",
        "outputId": "95957ec7-68b9-4ce8-d8f2-e524720f547a"
      },
      "outputs": [
        {
          "name": "stdout",
          "output_type": "stream",
          "text": [
            "{1, 2, 3, 4, 5, 7, 9}\n",
            "{3, 5}\n",
            "{1, 2, 4}\n",
            "{1, 2, 4, 7, 9}\n"
          ]
        }
      ],
      "source": [
        "# Операции на множествах\n",
        "\n",
        "a = set([1, 2, 3, 4, 5])\n",
        "b = set([3, 5, 7, 9])\n",
        "print(a | b)  # Объединение\n",
        "print(a & b)  # Пересечение\n",
        "print(a - b)  # Разность: a без b\n",
        "print(a ^ b)  # Симметричная разность"
      ]
    },
    {
      "cell_type": "code",
      "execution_count": null,
      "metadata": {
        "id": "NDKIBvWmGHjj",
        "outputId": "38dfe5b0-4e5e-4660-a747-87e8922e1600"
      },
      "outputs": [
        {
          "name": "stdout",
          "output_type": "stream",
          "text": [
            "abcdabbbcccddd\n",
            "4\n"
          ]
        }
      ],
      "source": [
        "# Вывести количество различных букв строки\n",
        "print(len(set(input().lower())))"
      ]
    },
    {
      "cell_type": "markdown",
      "metadata": {
        "id": "TMxDJ9f7GHjj"
      },
      "source": [
        "### Методы множеств "
      ]
    },
    {
      "cell_type": "markdown",
      "metadata": {
        "id": "5UJVgZAaGHjj"
      },
      "source": [
        "***Добавление и удаление***\n",
        "- ```s.add(x)``` - добавляет элементы ```x``` во множество ```s```, если они отсутствуют в ```s```;\n",
        "- ```s.discard(x)``` - удаляет элемент ```x``` из множества ```s```, если он присутствует в множестве ```s```;\n",
        "- ```s.pop()``` - возвращает и удаляет случайный элемент множества ```s``` или возбуждает исключение ```KeyError```, если ```s``` – это пустое множество;\n",
        "- ```s.remove(x)``` - удаляет элемент ```x``` из множества ```s``` или возбуждает исключение ```KeyError```, если элемент ```x``` отсутствует в множестве ```s```, аналогично ```set.discard()```;\n",
        "- ```s.clear()``` - удаляет все элементы из множества ```s```;\n",
        "- ```s.copy()``` - возвращает поверхностную копию множества ```s```."
      ]
    },
    {
      "cell_type": "markdown",
      "metadata": {
        "id": "OO2oxiRbGHjk"
      },
      "source": [
        "***Специфичные для множеств методы***\n",
        "- ```s.difference(t)``` - возвращает новое множество, включающее элементы множества ```s```, которые отсутствуют в множестве ```t```, аналогично ```s - t```;\n",
        "- ```s.difference_update(t)``` - удаляет из множества ```s``` все элементы, присутствующие в множестве ```t```, аналогично ```s -= t```;\n",
        "- ```s.intersection(t)``` - возвращает новое множество, включающее элементы, присутствующие одновременно в множествах ```s``` и ```t```, аналогично ```s & t```;\n",
        "- ```s.intersection_update(t)``` - оставляет во множестве ```s``` пересечение множеств ```s``` и ```t```, аналогично ```s &= t```;\n",
        "- ```s.isdisjoint(t)``` - возвращает ```True```, если множества ```s``` и ```t``` не имеют общих элементов;\n",
        "- ```s.issubset(t)``` или ```s <= t``` - возвращает ```True```, если множество ```s``` эквивалентно множеству ```t``` или является его подмножеством; чтобы проверить, является ли множество ```s``` только подмножеством множества ```t```, следует использовать проверку ```s < t```;\n",
        "- ```s.issuperset(t)``` или ```s >= t``` - возвращает ```True```, если множество ```s``` эквивалентно множеству ```t``` или является его над множеством; чтобы проверить, является ли множество ```s``` только над множеством множества ```t```, следует использовать проверку ```s > t```;\n",
        "- ```s.symmetric_difference(t)``` - возвращает новое множество, включающее все элементы, присутствующие в множествах ```s``` и ```t```, за исключением элементов, присутствующих в обоих множествах одновременно, аналогично ```s ^ t```;\n",
        "- ```s.symmetric_difference_update(t)``` - возвращает в множестве ```s``` результат строгой дизъюнкции множеств ```s``` и ```t```, аналогично ```s ^= t```;\n",
        "- ```s.union(t)``` - возвращает новое множество, включающее все элементы множества ```s``` и все элементы множества ```t```, отсутствующие в множестве ```s```, аналогично ```s | t```;\n",
        "- ```s.update(t)``` - добавляет во множество ```s``` все элементы множества ```t```, отсутствующие в множестве ```s```, аналогично ```s |= t``` (```update``` есть и у словарей, о которых мы поговорим чуть позже)."
      ]
    },
    {
      "cell_type": "markdown",
      "metadata": {
        "id": "Nc_BqiCBGHjk"
      },
      "source": [
        "**Телефонный справочник.** На вход программе подаются сведения о телефонах всех сотрудников некоторого учреждения. В первой строке сообщается количество сотрудников $N$, каждая из следующих $N$ строк имеет следующий формат: <Фамилия> <Инициалы> <телефон> где <Фамилия> – строка, состоящая не более чем из 20 символов, <Инициалы> - строка, состоящая не более чем из 4-х символов (буква, точка, буква, точка), <телефон> – семизначный номер, 3-я и 4, я, а также 5-я и 6-я цифры которого разделены символом «–». <Фамилия> и <Инициалы>, а также <Инициалы> и <телефон> разделены одним пробелом. Пример входной строки: Иванов П.С. 555-66-77   \n",
        "Сотрудники одного подразделения имеют один и тот же номер телефона. Номера телефонов в учреждении отличаются только двумя последними цифрами. Требуется написать программу, которая будет выводить на экран информацию, сколько в среднем сотрудников работает в одном подразделении данного учреждения."
      ]
    },
    {
      "cell_type": "code",
      "execution_count": null,
      "metadata": {
        "id": "4LL_Dcn6GHjk",
        "outputId": "38bced04-c91d-4350-9462-e7c901611f0d"
      },
      "outputs": [
        {
          "name": "stdout",
          "output_type": "stream",
          "text": [
            "5\n",
            "Иванов И.И. 555-66-77\n",
            "Петров П.П. 555-66-78\n",
            "Сергеев С.С. 555-66-77\n",
            "Николаев Н.Н. 555-66-78\n",
            "Алексеева А.А. 555-66-79\n",
            "1.6666666666666667\n"
          ]
        }
      ],
      "source": [
        "n =  int(input())\n",
        "s = set()\n",
        "for _ in range(n):\n",
        "    s.add(input().split('-')[2])\n",
        "print(n / len(s))"
      ]
    },
    {
      "cell_type": "markdown",
      "metadata": {
        "id": "zxDB0NKYGHjk"
      },
      "source": [
        "**Отфильтрованное число.** На вход программе подается последовательность символов, среди которых могут быть и цифры. Требуется написать программу, которая составляет и выводит минимальное число из тех цифр, которые не встречаются во входных данных. Ноль не используется. Если во входных данных встречаются все цифры от 1 до 9, то следует вывести «0». Например, если исходная последовательность была такая: 1A734B39. то результат должен быть следующий: 2568"
      ]
    },
    {
      "cell_type": "code",
      "execution_count": null,
      "metadata": {
        "id": "m7pP1sbpGHjk",
        "outputId": "6786c67b-cb25-4519-944d-34ea72ab5052"
      },
      "outputs": [
        {
          "name": "stdout",
          "output_type": "stream",
          "text": [
            "1A734B39\n",
            "2568"
          ]
        }
      ],
      "source": [
        "s = input()\n",
        "m = set([str(i) for i in range(1, 10)])\n",
        "for x in s:\n",
        "    if x.isdigit():\n",
        "        m -= set(x)\n",
        "if len(m) > 0:\n",
        "    for x in sorted(m):\n",
        "        print(x, end='')\n",
        "else:\n",
        "    print(0)"
      ]
    },
    {
      "cell_type": "markdown",
      "metadata": {
        "id": "ITofN2tCGHjk"
      },
      "source": [
        "В этом примере нам встретилась функция ```sorted()```, которая сортирует итерируемый объект."
      ]
    },
    {
      "cell_type": "markdown",
      "source": [
        "работа словарей\n"
      ],
      "metadata": {
        "id": "6XtIBHWDmuV9"
      }
    },
    {
      "cell_type": "markdown",
      "metadata": {
        "id": "q12K40CFGm49"
      },
      "source": [
        "# Словари в Python"
      ]
    },
    {
      "cell_type": "markdown",
      "metadata": {
        "id": "oXpNg5ViGm5B"
      },
      "source": [
        "Тип ```dict``` – это неупорядоченная коллекция из нуля или более пар «ключ-значение», в которых в качестве ключей могут использоваться ссылки на неизменяемые объекты, а в качестве значений – ссылки на объекты любого типа. Словари относятся к категории изменяемых типов, поэтому легко можно добавлять и удалять их элементы. Словари, по своей сути, являются *хэш-контейнерами*, поэтому к ним неприменимо понятие индекса и не применима операция извлечения среза.\n",
        "\n",
        "Подробнее о хэш-таблицах (хеш-контейнерах) можно прочитать: \n",
        "- https://bitsofmind.wordpress.com/2008/07/28/introduction_in_hash_tables/\n",
        "- https://habr.com/ru/post/432996/"
      ]
    },
    {
      "cell_type": "code",
      "execution_count": null,
      "metadata": {
        "id": "z9h9ubmcGm5C",
        "outputId": "ff39133d-3b86-4e2d-ae21-54c75320a87d"
      },
      "outputs": [
        {
          "name": "stdout",
          "output_type": "stream",
          "text": [
            "<class 'dict'>\n",
            "<class 'dict'>\n"
          ]
        }
      ],
      "source": [
        "# Создание пустого словаря\n",
        "d_1 = {}\n",
        "d_2 = dict()\n",
        "print(type(d_1))\n",
        "print(type(d_2))"
      ]
    },
    {
      "cell_type": "code",
      "execution_count": null,
      "metadata": {
        "id": "aLMQchbxGm5E",
        "outputId": "ac1152fe-e21a-44ba-f243-10fa67e82158"
      },
      "outputs": [
        {
          "name": "stdout",
          "output_type": "stream",
          "text": [
            "{'id': 1948, 'name': 'Washer', 'size': 3}\n",
            "{'id': 1948, 'name': 'Washer', 'size': 3}\n",
            "{'id': 1948, 'name': 'Washer', 'size': 3}\n",
            "{'id': 1948, 'name': 'Washer', 'size': 3}\n"
          ]
        }
      ],
      "source": [
        "# Примеры создания словарей\n",
        "d1 = {\"id\": 1948, \"name\": \"Washer\", \"size\": 3}\n",
        "d2 = dict(id=1948, name=\"Washer\", size=3)\n",
        "d3 = dict([(\"id\", 1948), (\"name\", \"Washer\"), (\"size\", 3)])\n",
        "d4 = dict(zip((\"id\", \"name\", \"size\"), (1948, \"Washer\", 3)))\n",
        "\n",
        "print(d1)\n",
        "print(d2)\n",
        "print(d3)\n",
        "print(d4)"
      ]
    },
    {
      "cell_type": "markdown",
      "metadata": {
        "id": "nVyUuH29Gm5E"
      },
      "source": [
        "А ещё можно использовать генерацию словаря по аналогии со списочными выражениями:"
      ]
    },
    {
      "cell_type": "code",
      "execution_count": null,
      "metadata": {
        "id": "8OT8YWMjGm5F",
        "outputId": "250282bf-9d81-4c39-f6af-996338031645"
      },
      "outputs": [
        {
          "name": "stdout",
          "output_type": "stream",
          "text": [
            "{'a': 4, 'b': 3, 'c': 3, 'd': 2, 'e': 1, 'f': 1}\n"
          ]
        }
      ],
      "source": [
        "data = 'abcdefaaabbccd'\n",
        "print({x: data.count(x) for x in data})"
      ]
    },
    {
      "cell_type": "code",
      "execution_count": null,
      "metadata": {
        "id": "tC2fgyMnGm5G",
        "outputId": "e86dd839-c9c7-4fe0-bf20-646eabb6ca17"
      },
      "outputs": [
        {
          "name": "stdout",
          "output_type": "stream",
          "text": [
            "{'id': 1948, 'name': 'Washer', 'size': 3, 'wight': 176}\n"
          ]
        }
      ],
      "source": [
        "# Добавление в словарь еще одного значения или изменение значения  на новое\n",
        "d1[\"wight\"] = 176\n",
        "print(d1)"
      ]
    },
    {
      "cell_type": "markdown",
      "metadata": {
        "id": "cS8ccwgRGm5G"
      },
      "source": [
        "Изменить ключ невозможно, эта операция равносильна удалению пары ключ-значение и добавлению новой."
      ]
    },
    {
      "cell_type": "code",
      "execution_count": null,
      "metadata": {
        "id": "6N7htuYXGm5H",
        "outputId": "e12c6a4a-b07a-4df6-dc3e-bd78dce7bdee"
      },
      "outputs": [
        {
          "name": "stdout",
          "output_type": "stream",
          "text": [
            "{'id': 1948, 'name': 'Washer', 'size': 3}\n"
          ]
        }
      ],
      "source": [
        "# Удаление элемента из словаря\n",
        "del d1[\"wight\"]\n",
        "print(d1)"
      ]
    },
    {
      "cell_type": "code",
      "execution_count": null,
      "metadata": {
        "id": "mrSITaSOGm5I",
        "outputId": "5cc0ee64-7487-4e39-c219-19a9fac87551"
      },
      "outputs": [
        {
          "name": "stdout",
          "output_type": "stream",
          "text": [
            "{'id': 1948, 'size': 3}\n",
            "Washer\n"
          ]
        }
      ],
      "source": [
        "x = d1.pop('name')\n",
        "print(d1)\n",
        "print(x)"
      ]
    },
    {
      "cell_type": "code",
      "execution_count": null,
      "metadata": {
        "id": "3i-kg9XTGm5I",
        "outputId": "76b18193-8651-4856-ff24-189925977bbd"
      },
      "outputs": [
        {
          "name": "stdout",
          "output_type": "stream",
          "text": [
            "2\n"
          ]
        }
      ],
      "source": [
        "# Длина словаря - количество ключей\n",
        "print(len(d1))"
      ]
    },
    {
      "cell_type": "markdown",
      "metadata": {
        "id": "h1KdRQLvGm5J"
      },
      "source": [
        "Обращение к значению по ключу может вызвать исключение ```KeyError```. Чтобы этого избежать, можно предварительно проверить наличие элемента в словаре."
      ]
    },
    {
      "cell_type": "code",
      "execution_count": null,
      "metadata": {
        "id": "gin_nTpqGm5J",
        "outputId": "75a48cd6-a11d-4c90-d455-b16637f8d622"
      },
      "outputs": [
        {
          "name": "stdout",
          "output_type": "stream",
          "text": [
            "False\n",
            "True\n"
          ]
        }
      ],
      "source": [
        "# Проверка на наличие ключа в словаре\n",
        "print('name' in d1)\n",
        "print('name' in d2)"
      ]
    },
    {
      "cell_type": "markdown",
      "metadata": {
        "id": "1IwRmuIXGm5J"
      },
      "source": [
        "Еще один удобный способ избежать исключения, использовать метод ```get```.\n",
        "\n",
        "```d.get(k, default)``` - возвращает значение ключа ```k``` или ```default```, если ключ ```k``` отсутствует в словаре. Если значение по умолчанию не указать, им будет ```None```.\n",
        "\n",
        "Типичный пример использования - подсчёт количества:\n",
        "```python\n",
        "d[k] = d.get(k, 0) + 1\n",
        "```"
      ]
    },
    {
      "cell_type": "code",
      "execution_count": null,
      "metadata": {
        "id": "SIC49nhoGm5K",
        "outputId": "909f5a02-be13-4f0c-b644-941797e6e9be"
      },
      "outputs": [
        {
          "name": "stdout",
          "output_type": "stream",
          "text": [
            "id 1948\n",
            "name Washer\n",
            "size 3\n"
          ]
        }
      ],
      "source": [
        "# Обход по парам ключ-значение\n",
        "for item in d2.items():\n",
        "    print(item[0], item[1])"
      ]
    },
    {
      "cell_type": "code",
      "execution_count": null,
      "metadata": {
        "id": "7BqgOJ5aGm5K",
        "outputId": "3ce47f5f-3811-487e-d0b6-041fa0439a1c"
      },
      "outputs": [
        {
          "name": "stdout",
          "output_type": "stream",
          "text": [
            "id 1948\n",
            "name Washer\n",
            "size 3\n"
          ]
        }
      ],
      "source": [
        "# То же самое с распаковкой пары\n",
        "for key, value in d2.items():\n",
        "    print(key, value)"
      ]
    },
    {
      "cell_type": "markdown",
      "metadata": {
        "id": "VgX4_1GdGm5L"
      },
      "source": [
        "### Методы работы со словарями "
      ]
    },
    {
      "cell_type": "markdown",
      "metadata": {
        "id": "69eG67pqGm5L"
      },
      "source": [
        "- ```d.clear()``` - удаляет все элементы из словаря ```d```;\n",
        "- ```d.fromkeys(s, v)``` - возвращает словарь, ключами которого являются элементы последовательности ```s```, а значениями либо ```None```, либо ```v```, если аргумент ```v``` определен;\n",
        "- ```d.keys()``` - возвращает представление всех ключей словаря ```d```;\n",
        "- ```d.values()``` - возвращает представление всех значений в словаре ```d```;\n",
        "- ```d.update(a)``` - добавляет в словарь ```d``` пары (ключ, значение) из ```a```, которые отсутствуют в словаре ```d```, а для каждого ключа, который уже присутствует в словаре ```d```, выполняется замена соответствующим значением из ```a```; ```a``` может быть словарем, итерируемым объектом с парами (ключ, значение) или именованными аргументами;\n",
        "- ```d.setdefault(k, default)``` - похоже на ```get```, но не только возвращает значение, но ещё и устанавливает его, например: ```d.setdefault(k, []).append(value)```.\n",
        "\n",
        "Начиная с версии 3.6 неофициально и 3.7 официально словарь сохраняет порядок ключей, в котором происходило заполнение. Но зачастую вывод требуется организовать по другому принципу, например, в лексикографическом порядке ключей, тогда можно использовать функцию ```sorted```. В результате её применения получается не словарь, а список ключей, если применить её к самому словарю, или список пар ключ-значение, если к ```items```."
      ]
    },
    {
      "cell_type": "code",
      "execution_count": null,
      "metadata": {
        "id": "TlX6DXvFGm5L",
        "outputId": "9f2b83c8-f652-4fae-a7b5-6ac8ac00e67f"
      },
      "outputs": [
        {
          "name": "stdout",
          "output_type": "stream",
          "text": [
            "['a', 'b', 'z']\n",
            "a 3\n",
            "b 5\n",
            "z 6\n",
            "[('a', 3), ('b', 5), ('z', 6)]\n"
          ]
        }
      ],
      "source": [
        "d = {'b': 5, 'a': 3, 'z': 6}\n",
        "print(sorted(d))\n",
        "for key in sorted(d):\n",
        "   print(key, d[key])\n",
        "print(sorted(d.items()))"
      ]
    },
    {
      "cell_type": "markdown",
      "metadata": {
        "id": "4Kx8vXpqGm5M"
      },
      "source": [
        "Для получения обратного порядке можно использовать необязательный параметр ```reverse```:"
      ]
    },
    {
      "cell_type": "code",
      "execution_count": null,
      "metadata": {
        "id": "8CCdF6amGm5M",
        "outputId": "747ddbfb-b879-4715-8eea-4b2cbedaafeb"
      },
      "outputs": [
        {
          "name": "stdout",
          "output_type": "stream",
          "text": [
            "[('z', 6), ('b', 5), ('a', 3)]\n"
          ]
        }
      ],
      "source": [
        "print(sorted(d.items(), reverse=True))"
      ]
    },
    {
      "cell_type": "markdown",
      "metadata": {
        "id": "eGid69FCGm5M"
      },
      "source": [
        "Однако и этого может быть недостаточно, если порядок должен зависеть от ключа не напрямую или вообще не от ключа. В таком случае нам поможет ещё один параметр функции ```sorted``` - ```key```. Этот параметр определяет способ получения для каждого элемента специального значения, по которому он будет сравниваться с остальными.  Например, мы можем использовать функцию ```abs``` для сравнения чисел по абсолютному значению:"
      ]
    },
    {
      "cell_type": "code",
      "execution_count": null,
      "metadata": {
        "id": "K0_gtusjGm5M",
        "outputId": "5cb29602-85cb-44f6-c16d-ba84a9be376e"
      },
      "outputs": [
        {
          "name": "stdout",
          "output_type": "stream",
          "text": [
            "[12, -56, -100]\n"
          ]
        }
      ],
      "source": [
        "print(sorted([-100, 12, -56], key=abs))"
      ]
    },
    {
      "cell_type": "markdown",
      "metadata": {
        "id": "st57baZuGm5N"
      },
      "source": [
        "Использование ```key``` и ```reverse``` можно комбинировать.\n",
        "\n",
        "Если подходящей встроенной функции не нашлось или нужно использовать дополнительные параметры, можно определить получение ключа вручную, например, сравнение производить не по ключам словаря, а по их значениям:"
      ]
    },
    {
      "cell_type": "code",
      "execution_count": null,
      "metadata": {
        "id": "JwAX33w4Gm5N",
        "outputId": "7cd40498-2510-49fe-a52c-f4ac395ef440"
      },
      "outputs": [
        {
          "name": "stdout",
          "output_type": "stream",
          "text": [
            "['b', 'a', 'z']\n"
          ]
        }
      ],
      "source": [
        "d = {'a': 5, 'b': 3, 'z': 6}\n",
        "print(sorted(d, key=lambda x: d[x]))"
      ]
    },
    {
      "cell_type": "markdown",
      "metadata": {
        "id": "Wh5EMSoOGm5N"
      },
      "source": [
        "Здесь ```lambda``` - это маленькая безымянная функция, которая получает элемент для сортировки (в данном случае ключ словаря) и возвращает значение, с помощью которого он должен сравниваться с другими (в данном случае - значение из словаря для этого ключа).\n",
        "\n",
        "Если у двух ключей словаря будут одинаковые значения, эти ключи останутся в исходном порядке (стандартная сортировка в Питоне устойчива). Чтобы изменить это поведение, например, при равенстве значений сортировать по ключам лексикографически, нужно расширить ключ сортировки: "
      ]
    },
    {
      "cell_type": "code",
      "execution_count": null,
      "metadata": {
        "id": "UPRtNc6tGm5N",
        "outputId": "73cb77db-db17-48bb-b9b9-b222c35c441e"
      },
      "outputs": [
        {
          "name": "stdout",
          "output_type": "stream",
          "text": [
            "['a', 'b', 'c', 'n', 'z']\n",
            "[('a', 3), ('b', 5), ('c', 6), ('n', 6), ('z', 6)]\n"
          ]
        }
      ],
      "source": [
        "d = {'n': 6, 'b': 5, 'a': 3, 'z': 6, 'c': 6}\n",
        "print(sorted(d, key=lambda x: (d[x], x)))\n",
        "print(sorted(d.items(), key=lambda x: (x[1], x[0])))"
      ]
    },
    {
      "cell_type": "markdown",
      "metadata": {
        "id": "H_7-JcV0Gm5O"
      },
      "source": [
        "Т.е. для сравнения будут использоваться кортежи, а кортежи сравниваются поэлементно до первого несовпадения: сначала по первому элементу, при равенстве по второму и т.д. Во второй строке сортировка применяется к парам ключ-значение, функция по-прежнему принимает один параметр, но он представляет собой двухэлементный кортеж.\n",
        "\n",
        "И напоследок ещё один распространённый ‘трюк’, связанный с сортировкой чисел по убыванию:"
      ]
    },
    {
      "cell_type": "code",
      "execution_count": null,
      "metadata": {
        "id": "TsSpGkYVGm5O",
        "outputId": "779f2a45-b30d-4ee4-98b6-5eb7fa3149e1"
      },
      "outputs": [
        {
          "name": "stdout",
          "output_type": "stream",
          "text": [
            "['c', 'n', 'z', 'b', 'a']\n",
            "[('c', 6), ('n', 6), ('z', 6), ('b', 5), ('a', 3)]\n"
          ]
        }
      ],
      "source": [
        "d = {'n': 6, 'b': 5, 'a': 3, 'z': 6, 'c': 6}\n",
        "print(sorted(d, key=lambda x: (-d[x], x)))\n",
        "print(sorted(d.items(), key=lambda x: (-x[1], x[0])))"
      ]
    },
    {
      "cell_type": "markdown",
      "metadata": {
        "id": "s2ySBnrYGm5O"
      },
      "source": [
        "Обратите внимание, буквы 'c', 'n' и 'z' всё ещё расположены по алфавиту, минус использован для того, чтобы развернуть сортировку не целиком, а только по числовой части ключа.\n",
        "\n",
        "Кстати, параметр ```key``` есть также у функций ```min``` и ```max```."
      ]
    },
    {
      "cell_type": "markdown",
      "metadata": {
        "id": "XGYTZh7bGm5O"
      },
      "source": [
        "**Олимпиада.** На вход программе подаются сведения о номерах школ учащихся, участвовавших в олимпиаде. В первой строке сообщается количество учащихся $N$, каждая из следующих $N$ строк имеет формат: <Фамилия> <Инициалы> <номер школы>, где <Фамилия> – строка, состоящая не более чем из 20 символов, <Инициалы> – строка, состоящая из 4-х символов (буква, точка, буква, точка), <номер школы> – не более чем двузначный номер. <Фамилия> и <Инициалы>, а также <Инициалы> и <номер школы> разделены одним пробелом. Пример входной строки:  \n",
        "Иванов П.С. 57  \n",
        "Требуется написать программу, которая будет выводить на экран информацию, из какой школы было меньше всего участников (таких школ может быть несколько). При этом необходимо вывести информацию только по школам, пославшим хотя бы одного участника. "
      ]
    },
    {
      "cell_type": "code",
      "execution_count": null,
      "metadata": {
        "colab": {
          "base_uri": "https://localhost:8080/"
        },
        "id": "YV2hnU8sGm5O",
        "outputId": "584415a8-657a-4dca-9c75-976f36b7aa7d"
      },
      "outputs": [
        {
          "output_type": "stream",
          "name": "stdout",
          "text": [
            "2\n",
            "Bdfy F.A. 34 45\n",
            "fdsf D.R. 34 120\n",
            "34 "
          ]
        }
      ],
      "source": [
        "n = int(input())\n",
        "d = {}\n",
        "\n",
        "for _ in range(n):\n",
        "    s = input().split()\n",
        "    if s[2] not in d:\n",
        "        d[s[2]] = 1\n",
        "    else: \n",
        "        d[s[2]] += 1\n",
        "          \n",
        "min_tmp = min(d.values())\n",
        "\n",
        "for x, y in d.items():\n",
        "    if y == min_tmp:\n",
        "          print(x, end=' ')"
      ]
    },
    {
      "cell_type": "markdown",
      "metadata": {
        "id": "Xv0lf2zxGm5P"
      },
      "source": [
        "**Выборы.** Имеется список результатов голосования избирателей за несколько партий, в виде списка названий данных партий. На вход программе в первой строке подаётся количество избирателей в списке $N$. В каждой из последующих $N$ строк записано название партии, за которую проголосовал данный избиратель, в виде текстовой строки. Длина строки не превосходит 50 символов, название может содержать буквы, цифры, пробелы и прочие символы.   \n",
        "Пример входных данных:  \n",
        "6  \n",
        "Party one  \n",
        "Party two  \n",
        "Party three  \n",
        "Party three  \n",
        "Party two  \n",
        "Party three  \n",
        "Программа должна вывести список всех партий, встречающихся в исходном списке, в порядке убывания количества голосов, отданных за эту партию. При этом название каждой партии должно быть выведено ровно один раз, вне зависимости от того, сколько голосов было отдано за данную партию.   \n",
        "Пример выходных данных для приведенного выше примера входных данных:  \n",
        "Party three  \n",
        "Party two  \n",
        "Party one  \n",
        "При этом следует учитывать, что количество голосов избирателей в исходном списке может быть велико (свыше 1000), а количество различных партий в этом списке не превосходит 10."
      ]
    },
    {
      "cell_type": "code",
      "execution_count": null,
      "metadata": {
        "id": "4BeCfforGm5P",
        "outputId": "7b8bb411-76e5-4971-9c33-7dc390ffa57c"
      },
      "outputs": [
        {
          "name": "stdout",
          "output_type": "stream",
          "text": [
            "6\n",
            "Party one\n",
            "Party two\n",
            "Party three\n",
            "Party three\n",
            "Party two\n",
            "Party three\n",
            "Party three\n",
            "Party two\n",
            "Party one\n"
          ]
        }
      ],
      "source": [
        "party = {}\n",
        "n = int(input())\n",
        "\n",
        "for _ in range(n):\n",
        "    s = input()\n",
        "    party[s] = party.get(s, 0) + 1\n",
        "\n",
        "for key, values in sorted(party.items(), reverse=True, key=lambda x: x[1]):\n",
        "    print(key)"
      ]
    },
    {
      "cell_type": "markdown",
      "metadata": {
        "id": "laO4yCwbGm5P"
      },
      "source": [
        "**Телефонная книга-2**. Имеется список людей и их номера телефонов. Одному человеку может принадлежать несколько номеров. На вход программе в первой строке подаётся количество номеров телефонов в списке $N$. В каждой из последующих $N$ строк записаны фамилия человека и номер телефона.  \n",
        "Пример входных данных:  \n",
        "5  \n",
        "Иванов 123-45-78  \n",
        "Петров 23-67-89  \n",
        "Иванов 78-90-11  \n",
        "Петров 56-78-91  \n",
        "Николаев 67-89-12  \n",
        "Программа должна вывести список всех людей и номеров телефонов, им принадлежащих, в алфавитном порядке. Номера телефонов должны быть выведены в порядке встречи в исходном списке. При этом каждый человек должен быть выведен ровно один раз, вне зависимости от того, сколько номеров телефонов ему принадлежит.   \n",
        "Пример выходных данных для приведенного выше примера входных данных:  \n",
        "Иванов: 123-45-78, 78-90-11  \n",
        "Николаев: 67-89-12   \n",
        "Петров: 23-67-89, 56-78-91"
      ]
    },
    {
      "cell_type": "code",
      "execution_count": null,
      "metadata": {
        "colab": {
          "base_uri": "https://localhost:8080/"
        },
        "id": "pEE9GWRuGm5P",
        "outputId": "b96fcc5b-c79e-431c-dcbb-41d65ba9743f"
      },
      "outputs": [
        {
          "output_type": "stream",
          "name": "stdout",
          "text": [
            "5\n",
            "Иванов 123-45-78\n",
            "Петров 23-67-89\n",
            "Иванов 78-90-11\n",
            "Петров 56-78-91\n",
            "Николаев 67-89-12\n",
            "Иванов: 123-45-78, 78-90-11\n",
            "Николаев: 67-89-12\n",
            "Петров: 23-67-89, 56-78-91\n"
          ]
        }
      ],
      "source": [
        "import collections\n",
        "telephon = collections.defaultdict(list) \n",
        "\n",
        "n = int(input())\n",
        "for _ in range(n):\n",
        "    s = input().split()\n",
        "    telephon[s[0]].append(s[1])\n",
        "\n",
        "for key, values in sorted(telephon.items()):\n",
        "    print(key + ':', end=' ')\n",
        "    print(*values, sep=', ')"
      ]
    }
  ],
  "metadata": {
    "kernelspec": {
      "display_name": "Python 3",
      "language": "python",
      "name": "python3"
    },
    "language_info": {
      "codemirror_mode": {
        "name": "ipython",
        "version": 3
      },
      "file_extension": ".py",
      "mimetype": "text/x-python",
      "name": "python",
      "nbconvert_exporter": "python",
      "pygments_lexer": "ipython3",
      "version": "3.7.2"
    },
    "colab": {
      "name": "Лекция 2. Строки, списки, множества, словари.ipynb",
      "provenance": [],
      "include_colab_link": true
    }
  },
  "nbformat": 4,
  "nbformat_minor": 0
}