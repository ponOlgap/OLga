{
 "cells": [
  {
   "cell_type": "markdown",
   "id": "8ac432e2",
   "metadata": {},
   "source": [
    "## Работа с БД SqLite"
   ]
  },
  {
   "cell_type": "code",
   "execution_count": 2,
   "id": "4e6e7f35",
   "metadata": {},
   "outputs": [],
   "source": [
    "# Импортируем библиотеку, соответствующую типу нашей базы данных \n",
    "import sqlite3\n",
    "\n",
    "# Создаем соединение \n",
    "# Один из способов создания базы данных\n",
    "conn = sqlite3.connect('bd_Students.sqlite')\n",
    "\n",
    "# Создаем курсор - это специальный объект \n",
    "cursor = conn.cursor()\n",
    "\n"
   ]
  },
  {
   "cell_type": "code",
   "execution_count": 11,
   "id": "8dd254b2",
   "metadata": {},
   "outputs": [
    {
     "data": {
      "text/plain": [
       "<sqlite3.Cursor at 0x20818fa2490>"
      ]
     },
     "execution_count": 11,
     "metadata": {},
     "output_type": "execute_result"
    }
   ],
   "source": [
    "# создаём таблицу в БД\n",
    "cursor.execute('CREATE TABLE IF NOT EXISTS students(userid INTEGER PRIMARY KEY, name TEXT, balls REAL, info BLOB)')"
   ]
  },
  {
   "cell_type": "code",
   "execution_count": 12,
   "id": "85c1727b",
   "metadata": {},
   "outputs": [],
   "source": [
    "#закрепляем изменения\n",
    "conn.commit()"
   ]
  },
  {
   "cell_type": "code",
   "execution_count": 13,
   "id": "2928da68",
   "metadata": {},
   "outputs": [],
   "source": [
    "# добавляем строки в таблицу (3 строки)\n",
    "studs = []\n",
    "studs.append(('1', 'Ииванов', 56.89, '345 3893 fdjf'))\n",
    "studs.append(('3', 'Петров', 46.89, '345 3893 fdjf'))\n",
    "studs.append(('4', 'Сидоров', 67.89, '345 3893 fdjf  ооо'))"
   ]
  },
  {
   "cell_type": "code",
   "execution_count": 18,
   "id": "4a601a00",
   "metadata": {},
   "outputs": [],
   "source": [
    "for x in studs:\n",
    "    cursor.execute('INSERT INTO students VALUES(?, ?, ?, ?)', x)"
   ]
  },
  {
   "cell_type": "code",
   "execution_count": null,
   "id": "c1ec6219",
   "metadata": {},
   "outputs": [],
   "source": [
    "#закрепляем изменения\n",
    "conn.commit()"
   ]
  },
  {
   "cell_type": "code",
   "execution_count": 24,
   "id": "1edf3f05",
   "metadata": {},
   "outputs": [
    {
     "name": "stdout",
     "output_type": "stream",
     "text": [
      "(1, 'Ииванов', 56.89, '345 3893 fdjf')\n",
      "(3, 'Петров', 46.89, '345 3893 fdjf')\n"
     ]
    }
   ],
   "source": [
    "# выполняем запрос по извлечению данных из таблицы БД\n",
    "cursor.execute(\"SELECT * FROM students\")\n",
    "# получаем очередную строку по рузультату\n",
    "result = cursor.fetchone()\n",
    "print(result)\n",
    "# получаем очередную строку по рузультату\n",
    "result = cursor.fetchone()\n",
    "print(result)\n",
    "# можно организавать бесконечный цикл"
   ]
  },
  {
   "cell_type": "code",
   "execution_count": 23,
   "id": "a267a06a",
   "metadata": {},
   "outputs": [
    {
     "name": "stdout",
     "output_type": "stream",
     "text": [
      "(1, 'Ииванов', 56.89, '345 3893 fdjf')\n",
      "(3, 'Петров', 46.89, '345 3893 fdjf')\n",
      "(4, 'Сидоров', 67.89, '345 3893 fdjf  ооо')\n"
     ]
    }
   ],
   "source": [
    "# получаем весь результат\n",
    "cursor.execute(\"SELECT * FROM students\")\n",
    "results = cursor.fetchall()\n",
    "print(*results, sep='\\n')"
   ]
  },
  {
   "cell_type": "markdown",
   "id": "27af6f89",
   "metadata": {},
   "source": [
    "## Создание графического интерфейса -- библиотека tkinter"
   ]
  },
  {
   "cell_type": "code",
   "execution_count": 65,
   "id": "2a8faa79",
   "metadata": {},
   "outputs": [],
   "source": [
    "from tkinter import *  \n",
    "from tkinter.ttk import Combobox  \n",
    "  \n",
    "# Создаём объект Окно\n",
    "window = Tk()  \n",
    "window.title('Виджет-->Окно')  \n",
    "# размеры\n",
    "window.geometry('350x350')\n",
    "# подпись\n",
    "label1 = Label(window, text=\"Добрый день!\")  \n",
    "# положение на окне\n",
    "label1.grid(column=0, row=0)  \n",
    "# кнопка button\n",
    "knopka1 = Button(window, text=\"Первая кнопка\")\n",
    "knopka1.grid(column=3, row=1)\n",
    "window.mainloop()"
   ]
  },
  {
   "cell_type": "code",
   "execution_count": 63,
   "id": "fe31fb52",
   "metadata": {},
   "outputs": [],
   "source": [
    "# функция для обработки события - нажатие на кнопку button\n",
    "def selected():\n",
    "    name = combo.get()\n",
    "    balls = 0.0\n",
    "    for x in results:\n",
    "        if x[0]==name:\n",
    "            balls = x[1]\n",
    "            break\n",
    "    label1.configure(text=\"Студент: \"+str(name)+\",    баллы:\"+str(balls))  \n"
   ]
  },
  {
   "cell_type": "code",
   "execution_count": 66,
   "id": "d2e2a8e8",
   "metadata": {},
   "outputs": [],
   "source": [
    "\n",
    "# Создаём объект Окно\n",
    "window1 = Tk()  \n",
    "window1.title('Укажите Фамилию нужного Вам студента')  \n",
    "window1.geometry('450x300')  \n",
    "\n",
    "# подпись\n",
    "label1 = Label(window1, text=\"Здесь будут баллы студента\", font=(\"Arial\", 20))  \n",
    "label1.grid(column=0, row=0) \n",
    "\n",
    "# combobox \n",
    "combo = Combobox(window1) \n",
    "\n",
    "#Получаем Фамилии студентов и баллы\n",
    "cursor.execute(\"SELECT name, balls FROM students\")\n",
    "results = cursor.fetchall()\n",
    "names_stud = [x[0] for x in results]\n",
    "\n",
    "#заносим фамилии в combobox\n",
    "combo['values'] = names_stud\n",
    "combo.current(1)  # вариант по умолчанию  \n",
    "combo.grid(column=0, row=1) \n",
    "\n",
    "# кнопка button\n",
    "knopka1 = Button(window1, text=\"Посмотреть баллы\", command=selected)\n",
    "knopka1.grid(column=0, row=2)\n",
    "\n",
    "window.mainloop()"
   ]
  },
  {
   "cell_type": "code",
   "execution_count": null,
   "id": "02ca8160",
   "metadata": {},
   "outputs": [],
   "source": []
  }
 ],
 "metadata": {
  "kernelspec": {
   "display_name": "Python 3 (ipykernel)",
   "language": "python",
   "name": "python3"
  },
  "language_info": {
   "codemirror_mode": {
    "name": "ipython",
    "version": 3
   },
   "file_extension": ".py",
   "mimetype": "text/x-python",
   "name": "python",
   "nbconvert_exporter": "python",
   "pygments_lexer": "ipython3",
   "version": "3.9.7"
  }
 },
 "nbformat": 4,
 "nbformat_minor": 5
}
