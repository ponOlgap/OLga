{
  "nbformat": 4,
  "nbformat_minor": 0,
  "metadata": {
    "colab": {
      "provenance": [],
      "include_colab_link": true
    },
    "kernelspec": {
      "name": "python3",
      "display_name": "Python 3"
    },
    "language_info": {
      "name": "python"
    }
  },
  "cells": [
    {
      "cell_type": "markdown",
      "metadata": {
        "id": "view-in-github",
        "colab_type": "text"
      },
      "source": [
        "<a href=\"https://colab.research.google.com/github/ponOlgap/OLga/blob/main/nlp_sentiment_simple_vectorization.ipynb\" target=\"_parent\"><img src=\"https://colab.research.google.com/assets/colab-badge.svg\" alt=\"Open In Colab\"/></a>"
      ]
    },
    {
      "cell_type": "markdown",
      "source": [
        "# Определение тональности отзывов на банки с помощью классических алгоритмов машинного обучения \n",
        "\n",
        "Используем логистическую регрессию и мешок слов.\n",
        "\n"
      ],
      "metadata": {
        "id": "2nqxFEmUEJtN"
      }
    },
    {
      "cell_type": "code",
      "source": [
        "!pip install pymorphy2[fast] "
      ],
      "metadata": {
        "colab": {
          "base_uri": "https://localhost:8080/"
        },
        "id": "KZo_JvvFsy1V",
        "outputId": "079b15b7-92c4-4bf6-c7be-cb5993e12176"
      },
      "execution_count": null,
      "outputs": [
        {
          "output_type": "stream",
          "name": "stdout",
          "text": [
            "Looking in indexes: https://pypi.org/simple, https://us-python.pkg.dev/colab-wheels/public/simple/\n",
            "Collecting pymorphy2[fast]\n",
            "  Downloading pymorphy2-0.9.1-py3-none-any.whl (55 kB)\n",
            "\u001b[2K     \u001b[90m━━━━━━━━━━━━━━━━━━━━━━━━━━━━━━━━━━━━━━━━\u001b[0m \u001b[32m55.5/55.5 KB\u001b[0m \u001b[31m3.7 MB/s\u001b[0m eta \u001b[36m0:00:00\u001b[0m\n",
            "\u001b[?25hCollecting dawg-python>=0.7.1\n",
            "  Downloading DAWG_Python-0.7.2-py2.py3-none-any.whl (11 kB)\n",
            "Collecting pymorphy2-dicts-ru<3.0,>=2.4\n",
            "  Downloading pymorphy2_dicts_ru-2.4.417127.4579844-py2.py3-none-any.whl (8.2 MB)\n",
            "\u001b[2K     \u001b[90m━━━━━━━━━━━━━━━━━━━━━━━━━━━━━━━━━━━━━━━━\u001b[0m \u001b[32m8.2/8.2 MB\u001b[0m \u001b[31m29.1 MB/s\u001b[0m eta \u001b[36m0:00:00\u001b[0m\n",
            "\u001b[?25hCollecting docopt>=0.6\n",
            "  Downloading docopt-0.6.2.tar.gz (25 kB)\n",
            "  Preparing metadata (setup.py) ... \u001b[?25l\u001b[?25hdone\n",
            "Collecting DAWG>=0.8\n",
            "  Downloading DAWG-0.8.0.tar.gz (371 kB)\n",
            "\u001b[2K     \u001b[90m━━━━━━━━━━━━━━━━━━━━━━━━━━━━━━━━━━━━━━\u001b[0m \u001b[32m371.1/371.1 KB\u001b[0m \u001b[31m40.0 MB/s\u001b[0m eta \u001b[36m0:00:00\u001b[0m\n",
            "\u001b[?25h  Preparing metadata (setup.py) ... \u001b[?25l\u001b[?25hdone\n",
            "Building wheels for collected packages: DAWG, docopt\n",
            "  Building wheel for DAWG (setup.py) ... \u001b[?25l\u001b[?25hdone\n",
            "  Created wheel for DAWG: filename=DAWG-0.8.0-cp38-cp38-linux_x86_64.whl size=936218 sha256=048049d065c0410db4627874dc89d3d079ada25afa6e6f5ae092413710b311c2\n",
            "  Stored in directory: /root/.cache/pip/wheels/1c/e6/8f/313a7ccc57b29a7affb7205664277a1d5ebe73bf600a69a615\n",
            "  Building wheel for docopt (setup.py) ... \u001b[?25l\u001b[?25hdone\n",
            "  Created wheel for docopt: filename=docopt-0.6.2-py2.py3-none-any.whl size=13723 sha256=c1189703f547fb3362333adf905284ae1ef4ad4bec58adde1a3ff170d9829840\n",
            "  Stored in directory: /root/.cache/pip/wheels/56/ea/58/ead137b087d9e326852a851351d1debf4ada529b6ac0ec4e8c\n",
            "Successfully built DAWG docopt\n",
            "Installing collected packages: pymorphy2-dicts-ru, docopt, dawg-python, DAWG, pymorphy2\n",
            "Successfully installed DAWG-0.8.0 dawg-python-0.7.2 docopt-0.6.2 pymorphy2-0.9.1 pymorphy2-dicts-ru-2.4.417127.4579844\n"
          ]
        }
      ]
    },
    {
      "cell_type": "code",
      "source": [
        "import pandas as pd\n",
        "import numpy as np\n",
        "import pymorphy2\n",
        "import nltk\n",
        "from nltk.tokenize import word_tokenize\n",
        "from nltk.corpus import stopwords\n",
        "from sklearn.linear_model import LogisticRegression\n",
        "from sklearn.model_selection import train_test_split\n",
        "from collections import Counter"
      ],
      "metadata": {
        "id": "29_zjsOiEVbw"
      },
      "execution_count": null,
      "outputs": []
    },
    {
      "cell_type": "code",
      "source": [
        "nltk.download('punkt')\n",
        "nltk.download('stopwords')"
      ],
      "metadata": {
        "colab": {
          "base_uri": "https://localhost:8080/"
        },
        "id": "7KYR3C6BnTZJ",
        "outputId": "1db73a13-9096-4f4a-e90c-5bd2b8454bdd"
      },
      "execution_count": null,
      "outputs": [
        {
          "output_type": "stream",
          "name": "stderr",
          "text": [
            "[nltk_data] Downloading package punkt to /root/nltk_data...\n",
            "[nltk_data]   Unzipping tokenizers/punkt.zip.\n",
            "[nltk_data] Downloading package stopwords to /root/nltk_data...\n",
            "[nltk_data]   Unzipping corpora/stopwords.zip.\n"
          ]
        },
        {
          "output_type": "execute_result",
          "data": {
            "text/plain": [
              "True"
            ]
          },
          "metadata": {},
          "execution_count": 4
        }
      ]
    },
    {
      "cell_type": "markdown",
      "source": [
        "Константы"
      ],
      "metadata": {
        "id": "8etz_oQ0aKoV"
      }
    },
    {
      "cell_type": "code",
      "source": [
        "max_words = 10000\n",
        "random_state = 42"
      ],
      "metadata": {
        "id": "MmtoD1fpaJJB"
      },
      "execution_count": null,
      "outputs": []
    },
    {
      "cell_type": "markdown",
      "source": [
        "## Загружаем и готовим набор данных"
      ],
      "metadata": {
        "id": "2e6G1MDEf7cW"
      }
    },
    {
      "cell_type": "code",
      "source": [
        "!wget https://www.dropbox.com/s/a9r0b2yj3vqvi13/banks.csv?dl=1 -O banks.csv"
      ],
      "metadata": {
        "colab": {
          "base_uri": "https://localhost:8080/"
        },
        "id": "7JXJr-AXgA6X",
        "outputId": "f4ca2469-776b-47de-d6bd-d6ce1c54030b"
      },
      "execution_count": null,
      "outputs": [
        {
          "output_type": "stream",
          "name": "stdout",
          "text": [
            "--2023-01-04 12:59:48--  https://www.dropbox.com/s/a9r0b2yj3vqvi13/banks.csv?dl=1\n",
            "Resolving www.dropbox.com (www.dropbox.com)... 162.125.4.18, 2620:100:6019:18::a27d:412\n",
            "Connecting to www.dropbox.com (www.dropbox.com)|162.125.4.18|:443... connected.\n",
            "HTTP request sent, awaiting response... 302 Found\n",
            "Location: /s/dl/a9r0b2yj3vqvi13/banks.csv [following]\n",
            "--2023-01-04 12:59:48--  https://www.dropbox.com/s/dl/a9r0b2yj3vqvi13/banks.csv\n",
            "Reusing existing connection to www.dropbox.com:443.\n",
            "HTTP request sent, awaiting response... 302 Found\n",
            "Location: https://uc9725cbaa9e1a68b371466a787c.dl.dropboxusercontent.com/cd/0/get/Bz4lrVksNuNGncN_do-sbrbcoQ5G_nzEGHz_kuQ930SwQ_VvhluvMjTi1fh89kpu9rgPUjJw9f5ySTyeezNdneDX6zk1znCjeY1_ayS8YcwvMoyCpaO-mBJneCo2P0vM5P38PAGiPmbaRoLYnEcCwyJLQL0VtnYn2vf01zOEjYOt5g/file?dl=1# [following]\n",
            "--2023-01-04 12:59:48--  https://uc9725cbaa9e1a68b371466a787c.dl.dropboxusercontent.com/cd/0/get/Bz4lrVksNuNGncN_do-sbrbcoQ5G_nzEGHz_kuQ930SwQ_VvhluvMjTi1fh89kpu9rgPUjJw9f5ySTyeezNdneDX6zk1znCjeY1_ayS8YcwvMoyCpaO-mBJneCo2P0vM5P38PAGiPmbaRoLYnEcCwyJLQL0VtnYn2vf01zOEjYOt5g/file?dl=1\n",
            "Resolving uc9725cbaa9e1a68b371466a787c.dl.dropboxusercontent.com (uc9725cbaa9e1a68b371466a787c.dl.dropboxusercontent.com)... 162.125.4.15, 2620:100:6019:15::a27d:40f\n",
            "Connecting to uc9725cbaa9e1a68b371466a787c.dl.dropboxusercontent.com (uc9725cbaa9e1a68b371466a787c.dl.dropboxusercontent.com)|162.125.4.15|:443... connected.\n",
            "HTTP request sent, awaiting response... 200 OK\n",
            "Length: 40746652 (39M) [application/binary]\n",
            "Saving to: ‘banks.csv’\n",
            "\n",
            "banks.csv           100%[===================>]  38.86M   122MB/s    in 0.3s    \n",
            "\n",
            "2023-01-04 12:59:49 (122 MB/s) - ‘banks.csv’ saved [40746652/40746652]\n",
            "\n"
          ]
        }
      ]
    },
    {
      "cell_type": "code",
      "source": [
        "banks = pd.read_csv('banks.csv', sep='\\t', index_col='idx');"
      ],
      "metadata": {
        "id": "i9XvxDmWhHPm"
      },
      "execution_count": null,
      "outputs": []
    },
    {
      "cell_type": "code",
      "source": [
        "def preprocess(text, stop_words, punctuation_marks, morph):\n",
        "    tokens = word_tokenize(text.lower())\n",
        "    preprocessed_text = []\n",
        "    for token in tokens:\n",
        "        if token not in punctuation_marks:\n",
        "            lemma = morph.parse(token)[0].normal_form\n",
        "            if lemma not in stop_words:\n",
        "                preprocessed_text.append(lemma)\n",
        "    return preprocessed_text"
      ],
      "metadata": {
        "id": "bhnSU0F6wUZp"
      },
      "execution_count": null,
      "outputs": []
    },
    {
      "cell_type": "code",
      "source": [
        "punctuation_marks = ['!', ',', '(', ')', ':', '-', '?', '.', '..', '...', '«', '»', ';', '–', '--']\n",
        "stop_words = stopwords.words(\"russian\")\n",
        "morph = pymorphy2.MorphAnalyzer()"
      ],
      "metadata": {
        "id": "Ic2qusuK7_3r"
      },
      "execution_count": null,
      "outputs": []
    },
    {
      "cell_type": "code",
      "source": [
        "banks['Preprocessed_texts'] = banks.apply(lambda row: preprocess(row['Text'], punctuation_marks, stop_words, morph), axis=1)"
      ],
      "metadata": {
        "id": "4kCef9Kkx2ai"
      },
      "execution_count": null,
      "outputs": []
    },
    {
      "cell_type": "markdown",
      "source": [
        "Считаем частоту слов во всех отзывах"
      ],
      "metadata": {
        "id": "u6qbrT57X1pj"
      }
    },
    {
      "cell_type": "code",
      "source": [
        "words = Counter()"
      ],
      "metadata": {
        "id": "xeL0KiDxXDS2"
      },
      "execution_count": null,
      "outputs": []
    },
    {
      "cell_type": "code",
      "source": [
        "for txt in banks['Preprocessed_texts']:\n",
        "    words.update(txt)"
      ],
      "metadata": {
        "id": "5sJuUJmiWu3h"
      },
      "execution_count": null,
      "outputs": []
    },
    {
      "cell_type": "markdown",
      "source": [
        "Создаем словарь, упорядоченный по частоте\n",
        "\n",
        "В словаре будем использовать 2 специальных кода:\n",
        "- Код заполнитель: 0\n",
        "- Неизвестное слово: 1\n",
        "\n",
        "Нумерация слов в словаре начинается с 2."
      ],
      "metadata": {
        "id": "xvMGD3wPY0Jo"
      }
    },
    {
      "cell_type": "code",
      "source": [
        "# Словарь, отображающий слова в коды\n",
        "word_to_index = dict()\n",
        "# Словарь, отображающий коды в слова\n",
        "index_to_word = dict()"
      ],
      "metadata": {
        "id": "YHNfN0QoY51K"
      },
      "execution_count": null,
      "outputs": []
    },
    {
      "cell_type": "markdown",
      "source": [
        "Создаем словари"
      ],
      "metadata": {
        "id": "ZXc73aNPaSX7"
      }
    },
    {
      "cell_type": "code",
      "source": [
        "for i, word in enumerate(words.most_common(max_words - 2)):\n",
        "    word_to_index[word[0]] = i + 2\n",
        "    index_to_word[i + 2] = word[0]"
      ],
      "metadata": {
        "id": "8m6ZXwixrMf-"
      },
      "execution_count": null,
      "outputs": []
    },
    {
      "cell_type": "markdown",
      "source": [
        "Функция для преобразования списка слов в список кодов"
      ],
      "metadata": {
        "id": "tjgxtx4ThPiE"
      }
    },
    {
      "cell_type": "code",
      "source": [
        "def text_to_sequence(txt, word_to_index):\n",
        "    seq = []\n",
        "    for word in txt:\n",
        "        index = word_to_index.get(word, 1) # 1 означает неизвестное слово\n",
        "        # Неизвестные слова не добавляем в выходную последовательность\n",
        "        if index != 1:\n",
        "            seq.append(index)\n",
        "    return seq"
      ],
      "metadata": {
        "id": "aaFcC87ifsjO"
      },
      "execution_count": null,
      "outputs": []
    },
    {
      "cell_type": "markdown",
      "source": [
        "Преобразуем все тексты в последовательность кодов слов"
      ],
      "metadata": {
        "id": "9WbPzZwCjIgK"
      }
    },
    {
      "cell_type": "code",
      "source": [
        "banks['Sequences'] = banks.apply(lambda row: text_to_sequence(row['Preprocessed_texts'], word_to_index), axis=1)"
      ],
      "metadata": {
        "id": "t92mWXLVjQof"
      },
      "execution_count": null,
      "outputs": []
    },
    {
      "cell_type": "code",
      "source": [
        "banks"
      ],
      "metadata": {
        "colab": {
          "base_uri": "https://localhost:8080/",
          "height": 603
        },
        "id": "y10HHUPGkC5z",
        "outputId": "b09946db-6d89-44b4-d123-b672cc0f005b"
      },
      "execution_count": null,
      "outputs": [
        {
          "output_type": "execute_result",
          "data": {
            "text/plain": [
              "          Score                                               Text  \\\n",
              "idx                                                                  \n",
              "0      Positive  В Альфа-Банке работает замечательная девушка -...   \n",
              "1      Negative  Оформляя рассрочку в м. Видео в меге тёплый ст...   \n",
              "2      Positive  Очень порадовала оперативность работы в банке....   \n",
              "3      Negative  Имела неосторожность оформить потреб. кредит в...   \n",
              "4      Negative  Небольшая предыстория: Нашел на сайте MDM банк...   \n",
              "...         ...                                                ...   \n",
              "13994  Positive  О высокой надёжности МКБ, порядочности и добро...   \n",
              "13995  Positive  Обслуживаюсь в офисе на Чернореченской 42а, ка...   \n",
              "13996  Positive  Попала сегодня в очень неприятную ситуацию. Ре...   \n",
              "13997  Positive  Добрый день! Давно являюсь клиентом банка Русс...   \n",
              "13998  Negative  Сначала было все банально. Взял в кредит mp3 п...   \n",
              "\n",
              "                                      Preprocessed_texts  \\\n",
              "idx                                                        \n",
              "0      [альфа-банк, работать, замечательный, девушка,...   \n",
              "1      [оформлять, рассрочка, м., видео, мег, тёплый,...   \n",
              "2      [очень, порадовать, оперативность, работа, бан...   \n",
              "3      [иметь, неосторожность, оформить, потреба, кре...   \n",
              "4      [небольшой, предыстория, найти, сайт, mdm, бан...   \n",
              "...                                                  ...   \n",
              "13994  [высокий, надёжность, мкб, порядочность, добро...   \n",
              "13995  [обслуживаться, офис, чернореченский, 42а, физ...   \n",
              "13996  [попасть, сегодня, очень, неприятный, ситуация...   \n",
              "13997  [добрый, день, давно, являться, клиент, банк, ...   \n",
              "13998  [сначала, банально, взять, кредит, mp3, плеер,...   \n",
              "\n",
              "                                               Sequences  \n",
              "idx                                                       \n",
              "0      [62, 43, 916, 78, 204, 1867, 357, 2711, 409, 1...  \n",
              "1      [267, 855, 1178, 3215, 3892, 2982, 7347, 171, ...  \n",
              "2      [18, 1055, 910, 29, 2, 475, 183, 3, 628, 1768,...  \n",
              "3      [118, 4818, 72, 2368, 9, 62, 18, 2665, 1287, 3...  \n",
              "4      [418, 3851, 275, 87, 2, 648, 3, 4894, 2, 296, ...  \n",
              "...                                                  ...  \n",
              "13994  [401, 2321, 809, 5028, 8159, 7, 3099, 126, 441...  \n",
              "13995  [362, 24, 9494, 2152, 201, 14, 24, 96, 141, 66...  \n",
              "13996  [517, 109, 18, 992, 53, 38, 224, 233, 3, 46, 3...  \n",
              "13997  [181, 5, 397, 86, 13, 2, 674, 691, 118, 343, 3...  \n",
              "13998  [438, 4111, 127, 9, 460, 2038, 202, 660, 3984,...  \n",
              "\n",
              "[13999 rows x 4 columns]"
            ],
            "text/html": [
              "\n",
              "  <div id=\"df-7d25d5d5-176e-4666-ba19-db45cebe4f38\">\n",
              "    <div class=\"colab-df-container\">\n",
              "      <div>\n",
              "<style scoped>\n",
              "    .dataframe tbody tr th:only-of-type {\n",
              "        vertical-align: middle;\n",
              "    }\n",
              "\n",
              "    .dataframe tbody tr th {\n",
              "        vertical-align: top;\n",
              "    }\n",
              "\n",
              "    .dataframe thead th {\n",
              "        text-align: right;\n",
              "    }\n",
              "</style>\n",
              "<table border=\"1\" class=\"dataframe\">\n",
              "  <thead>\n",
              "    <tr style=\"text-align: right;\">\n",
              "      <th></th>\n",
              "      <th>Score</th>\n",
              "      <th>Text</th>\n",
              "      <th>Preprocessed_texts</th>\n",
              "      <th>Sequences</th>\n",
              "    </tr>\n",
              "    <tr>\n",
              "      <th>idx</th>\n",
              "      <th></th>\n",
              "      <th></th>\n",
              "      <th></th>\n",
              "      <th></th>\n",
              "    </tr>\n",
              "  </thead>\n",
              "  <tbody>\n",
              "    <tr>\n",
              "      <th>0</th>\n",
              "      <td>Positive</td>\n",
              "      <td>В Альфа-Банке работает замечательная девушка -...</td>\n",
              "      <td>[альфа-банк, работать, замечательный, девушка,...</td>\n",
              "      <td>[62, 43, 916, 78, 204, 1867, 357, 2711, 409, 1...</td>\n",
              "    </tr>\n",
              "    <tr>\n",
              "      <th>1</th>\n",
              "      <td>Negative</td>\n",
              "      <td>Оформляя рассрочку в м. Видео в меге тёплый ст...</td>\n",
              "      <td>[оформлять, рассрочка, м., видео, мег, тёплый,...</td>\n",
              "      <td>[267, 855, 1178, 3215, 3892, 2982, 7347, 171, ...</td>\n",
              "    </tr>\n",
              "    <tr>\n",
              "      <th>2</th>\n",
              "      <td>Positive</td>\n",
              "      <td>Очень порадовала оперативность работы в банке....</td>\n",
              "      <td>[очень, порадовать, оперативность, работа, бан...</td>\n",
              "      <td>[18, 1055, 910, 29, 2, 475, 183, 3, 628, 1768,...</td>\n",
              "    </tr>\n",
              "    <tr>\n",
              "      <th>3</th>\n",
              "      <td>Negative</td>\n",
              "      <td>Имела неосторожность оформить потреб. кредит в...</td>\n",
              "      <td>[иметь, неосторожность, оформить, потреба, кре...</td>\n",
              "      <td>[118, 4818, 72, 2368, 9, 62, 18, 2665, 1287, 3...</td>\n",
              "    </tr>\n",
              "    <tr>\n",
              "      <th>4</th>\n",
              "      <td>Negative</td>\n",
              "      <td>Небольшая предыстория: Нашел на сайте MDM банк...</td>\n",
              "      <td>[небольшой, предыстория, найти, сайт, mdm, бан...</td>\n",
              "      <td>[418, 3851, 275, 87, 2, 648, 3, 4894, 2, 296, ...</td>\n",
              "    </tr>\n",
              "    <tr>\n",
              "      <th>...</th>\n",
              "      <td>...</td>\n",
              "      <td>...</td>\n",
              "      <td>...</td>\n",
              "      <td>...</td>\n",
              "    </tr>\n",
              "    <tr>\n",
              "      <th>13994</th>\n",
              "      <td>Positive</td>\n",
              "      <td>О высокой надёжности МКБ, порядочности и добро...</td>\n",
              "      <td>[высокий, надёжность, мкб, порядочность, добро...</td>\n",
              "      <td>[401, 2321, 809, 5028, 8159, 7, 3099, 126, 441...</td>\n",
              "    </tr>\n",
              "    <tr>\n",
              "      <th>13995</th>\n",
              "      <td>Positive</td>\n",
              "      <td>Обслуживаюсь в офисе на Чернореченской 42а, ка...</td>\n",
              "      <td>[обслуживаться, офис, чернореченский, 42а, физ...</td>\n",
              "      <td>[362, 24, 9494, 2152, 201, 14, 24, 96, 141, 66...</td>\n",
              "    </tr>\n",
              "    <tr>\n",
              "      <th>13996</th>\n",
              "      <td>Positive</td>\n",
              "      <td>Попала сегодня в очень неприятную ситуацию. Ре...</td>\n",
              "      <td>[попасть, сегодня, очень, неприятный, ситуация...</td>\n",
              "      <td>[517, 109, 18, 992, 53, 38, 224, 233, 3, 46, 3...</td>\n",
              "    </tr>\n",
              "    <tr>\n",
              "      <th>13997</th>\n",
              "      <td>Positive</td>\n",
              "      <td>Добрый день! Давно являюсь клиентом банка Русс...</td>\n",
              "      <td>[добрый, день, давно, являться, клиент, банк, ...</td>\n",
              "      <td>[181, 5, 397, 86, 13, 2, 674, 691, 118, 343, 3...</td>\n",
              "    </tr>\n",
              "    <tr>\n",
              "      <th>13998</th>\n",
              "      <td>Negative</td>\n",
              "      <td>Сначала было все банально. Взял в кредит mp3 п...</td>\n",
              "      <td>[сначала, банально, взять, кредит, mp3, плеер,...</td>\n",
              "      <td>[438, 4111, 127, 9, 460, 2038, 202, 660, 3984,...</td>\n",
              "    </tr>\n",
              "  </tbody>\n",
              "</table>\n",
              "<p>13999 rows × 4 columns</p>\n",
              "</div>\n",
              "      <button class=\"colab-df-convert\" onclick=\"convertToInteractive('df-7d25d5d5-176e-4666-ba19-db45cebe4f38')\"\n",
              "              title=\"Convert this dataframe to an interactive table.\"\n",
              "              style=\"display:none;\">\n",
              "        \n",
              "  <svg xmlns=\"http://www.w3.org/2000/svg\" height=\"24px\"viewBox=\"0 0 24 24\"\n",
              "       width=\"24px\">\n",
              "    <path d=\"M0 0h24v24H0V0z\" fill=\"none\"/>\n",
              "    <path d=\"M18.56 5.44l.94 2.06.94-2.06 2.06-.94-2.06-.94-.94-2.06-.94 2.06-2.06.94zm-11 1L8.5 8.5l.94-2.06 2.06-.94-2.06-.94L8.5 2.5l-.94 2.06-2.06.94zm10 10l.94 2.06.94-2.06 2.06-.94-2.06-.94-.94-2.06-.94 2.06-2.06.94z\"/><path d=\"M17.41 7.96l-1.37-1.37c-.4-.4-.92-.59-1.43-.59-.52 0-1.04.2-1.43.59L10.3 9.45l-7.72 7.72c-.78.78-.78 2.05 0 2.83L4 21.41c.39.39.9.59 1.41.59.51 0 1.02-.2 1.41-.59l7.78-7.78 2.81-2.81c.8-.78.8-2.07 0-2.86zM5.41 20L4 18.59l7.72-7.72 1.47 1.35L5.41 20z\"/>\n",
              "  </svg>\n",
              "      </button>\n",
              "      \n",
              "  <style>\n",
              "    .colab-df-container {\n",
              "      display:flex;\n",
              "      flex-wrap:wrap;\n",
              "      gap: 12px;\n",
              "    }\n",
              "\n",
              "    .colab-df-convert {\n",
              "      background-color: #E8F0FE;\n",
              "      border: none;\n",
              "      border-radius: 50%;\n",
              "      cursor: pointer;\n",
              "      display: none;\n",
              "      fill: #1967D2;\n",
              "      height: 32px;\n",
              "      padding: 0 0 0 0;\n",
              "      width: 32px;\n",
              "    }\n",
              "\n",
              "    .colab-df-convert:hover {\n",
              "      background-color: #E2EBFA;\n",
              "      box-shadow: 0px 1px 2px rgba(60, 64, 67, 0.3), 0px 1px 3px 1px rgba(60, 64, 67, 0.15);\n",
              "      fill: #174EA6;\n",
              "    }\n",
              "\n",
              "    [theme=dark] .colab-df-convert {\n",
              "      background-color: #3B4455;\n",
              "      fill: #D2E3FC;\n",
              "    }\n",
              "\n",
              "    [theme=dark] .colab-df-convert:hover {\n",
              "      background-color: #434B5C;\n",
              "      box-shadow: 0px 1px 3px 1px rgba(0, 0, 0, 0.15);\n",
              "      filter: drop-shadow(0px 1px 2px rgba(0, 0, 0, 0.3));\n",
              "      fill: #FFFFFF;\n",
              "    }\n",
              "  </style>\n",
              "\n",
              "      <script>\n",
              "        const buttonEl =\n",
              "          document.querySelector('#df-7d25d5d5-176e-4666-ba19-db45cebe4f38 button.colab-df-convert');\n",
              "        buttonEl.style.display =\n",
              "          google.colab.kernel.accessAllowed ? 'block' : 'none';\n",
              "\n",
              "        async function convertToInteractive(key) {\n",
              "          const element = document.querySelector('#df-7d25d5d5-176e-4666-ba19-db45cebe4f38');\n",
              "          const dataTable =\n",
              "            await google.colab.kernel.invokeFunction('convertToInteractive',\n",
              "                                                     [key], {});\n",
              "          if (!dataTable) return;\n",
              "\n",
              "          const docLinkHtml = 'Like what you see? Visit the ' +\n",
              "            '<a target=\"_blank\" href=https://colab.research.google.com/notebooks/data_table.ipynb>data table notebook</a>'\n",
              "            + ' to learn more about interactive tables.';\n",
              "          element.innerHTML = '';\n",
              "          dataTable['output_type'] = 'display_data';\n",
              "          await google.colab.output.renderOutput(dataTable, element);\n",
              "          const docLink = document.createElement('div');\n",
              "          docLink.innerHTML = docLinkHtml;\n",
              "          element.appendChild(docLink);\n",
              "        }\n",
              "      </script>\n",
              "    </div>\n",
              "  </div>\n",
              "  "
            ]
          },
          "metadata": {},
          "execution_count": 18
        }
      ]
    },
    {
      "cell_type": "markdown",
      "source": [
        "## Готовим данные для обучения"
      ],
      "metadata": {
        "id": "tSo9Q59pQEVm"
      }
    },
    {
      "cell_type": "markdown",
      "source": [
        "Преобразуем текстовые метки классов в числовые"
      ],
      "metadata": {
        "id": "6qgk9QzIQH8m"
      }
    },
    {
      "cell_type": "code",
      "source": [
        "mapping = {'Negative': 0, 'Positive': 1}"
      ],
      "metadata": {
        "id": "RSc0tTcrQDw0"
      },
      "execution_count": null,
      "outputs": []
    },
    {
      "cell_type": "code",
      "source": [
        "banks.replace({'Score': mapping}, inplace=True)"
      ],
      "metadata": {
        "id": "Z_-OK2pAQOg3"
      },
      "execution_count": null,
      "outputs": []
    },
    {
      "cell_type": "code",
      "source": [
        "banks"
      ],
      "metadata": {
        "colab": {
          "base_uri": "https://localhost:8080/",
          "height": 568
        },
        "id": "JQP4M7FGQUD6",
        "outputId": "fc8caedd-8b21-4b61-88a6-b76d30ecc9e5"
      },
      "execution_count": null,
      "outputs": [
        {
          "output_type": "execute_result",
          "data": {
            "text/plain": [
              "       Score                                               Text  \\\n",
              "idx                                                               \n",
              "0          1  В Альфа-Банке работает замечательная девушка -...   \n",
              "1          0  Оформляя рассрочку в м. Видео в меге тёплый ст...   \n",
              "2          1  Очень порадовала оперативность работы в банке....   \n",
              "3          0  Имела неосторожность оформить потреб. кредит в...   \n",
              "4          0  Небольшая предыстория: Нашел на сайте MDM банк...   \n",
              "...      ...                                                ...   \n",
              "13994      1  О высокой надёжности МКБ, порядочности и добро...   \n",
              "13995      1  Обслуживаюсь в офисе на Чернореченской 42а, ка...   \n",
              "13996      1  Попала сегодня в очень неприятную ситуацию. Ре...   \n",
              "13997      1  Добрый день! Давно являюсь клиентом банка Русс...   \n",
              "13998      0  Сначала было все банально. Взял в кредит mp3 п...   \n",
              "\n",
              "                                      Preprocessed_texts  \\\n",
              "idx                                                        \n",
              "0      [альфа-банк, работать, замечательный, девушка,...   \n",
              "1      [оформлять, рассрочка, м., видео, мег, тёплый,...   \n",
              "2      [очень, порадовать, оперативность, работа, бан...   \n",
              "3      [иметь, неосторожность, оформить, потреба, кре...   \n",
              "4      [небольшой, предыстория, найти, сайт, mdm, бан...   \n",
              "...                                                  ...   \n",
              "13994  [высокий, надёжность, мкб, порядочность, добро...   \n",
              "13995  [обслуживаться, офис, чернореченский, 42а, физ...   \n",
              "13996  [попасть, сегодня, очень, неприятный, ситуация...   \n",
              "13997  [добрый, день, давно, являться, клиент, банк, ...   \n",
              "13998  [сначала, банально, взять, кредит, mp3, плеер,...   \n",
              "\n",
              "                                               Sequences  \n",
              "idx                                                       \n",
              "0      [62, 43, 916, 78, 204, 1867, 357, 2711, 409, 1...  \n",
              "1      [267, 855, 1178, 3215, 3892, 2982, 7347, 171, ...  \n",
              "2      [18, 1055, 910, 29, 2, 475, 183, 3, 628, 1768,...  \n",
              "3      [118, 4818, 72, 2368, 9, 62, 18, 2665, 1287, 3...  \n",
              "4      [418, 3851, 275, 87, 2, 648, 3, 4894, 2, 296, ...  \n",
              "...                                                  ...  \n",
              "13994  [401, 2321, 809, 5028, 8159, 7, 3099, 126, 441...  \n",
              "13995  [362, 24, 9494, 2152, 201, 14, 24, 96, 141, 66...  \n",
              "13996  [517, 109, 18, 992, 53, 38, 224, 233, 3, 46, 3...  \n",
              "13997  [181, 5, 397, 86, 13, 2, 674, 691, 118, 343, 3...  \n",
              "13998  [438, 4111, 127, 9, 460, 2038, 202, 660, 3984,...  \n",
              "\n",
              "[13999 rows x 4 columns]"
            ],
            "text/html": [
              "\n",
              "  <div id=\"df-cc5ec010-10ea-4bed-89c5-b859b1c05170\">\n",
              "    <div class=\"colab-df-container\">\n",
              "      <div>\n",
              "<style scoped>\n",
              "    .dataframe tbody tr th:only-of-type {\n",
              "        vertical-align: middle;\n",
              "    }\n",
              "\n",
              "    .dataframe tbody tr th {\n",
              "        vertical-align: top;\n",
              "    }\n",
              "\n",
              "    .dataframe thead th {\n",
              "        text-align: right;\n",
              "    }\n",
              "</style>\n",
              "<table border=\"1\" class=\"dataframe\">\n",
              "  <thead>\n",
              "    <tr style=\"text-align: right;\">\n",
              "      <th></th>\n",
              "      <th>Score</th>\n",
              "      <th>Text</th>\n",
              "      <th>Preprocessed_texts</th>\n",
              "      <th>Sequences</th>\n",
              "    </tr>\n",
              "    <tr>\n",
              "      <th>idx</th>\n",
              "      <th></th>\n",
              "      <th></th>\n",
              "      <th></th>\n",
              "      <th></th>\n",
              "    </tr>\n",
              "  </thead>\n",
              "  <tbody>\n",
              "    <tr>\n",
              "      <th>0</th>\n",
              "      <td>1</td>\n",
              "      <td>В Альфа-Банке работает замечательная девушка -...</td>\n",
              "      <td>[альфа-банк, работать, замечательный, девушка,...</td>\n",
              "      <td>[62, 43, 916, 78, 204, 1867, 357, 2711, 409, 1...</td>\n",
              "    </tr>\n",
              "    <tr>\n",
              "      <th>1</th>\n",
              "      <td>0</td>\n",
              "      <td>Оформляя рассрочку в м. Видео в меге тёплый ст...</td>\n",
              "      <td>[оформлять, рассрочка, м., видео, мег, тёплый,...</td>\n",
              "      <td>[267, 855, 1178, 3215, 3892, 2982, 7347, 171, ...</td>\n",
              "    </tr>\n",
              "    <tr>\n",
              "      <th>2</th>\n",
              "      <td>1</td>\n",
              "      <td>Очень порадовала оперативность работы в банке....</td>\n",
              "      <td>[очень, порадовать, оперативность, работа, бан...</td>\n",
              "      <td>[18, 1055, 910, 29, 2, 475, 183, 3, 628, 1768,...</td>\n",
              "    </tr>\n",
              "    <tr>\n",
              "      <th>3</th>\n",
              "      <td>0</td>\n",
              "      <td>Имела неосторожность оформить потреб. кредит в...</td>\n",
              "      <td>[иметь, неосторожность, оформить, потреба, кре...</td>\n",
              "      <td>[118, 4818, 72, 2368, 9, 62, 18, 2665, 1287, 3...</td>\n",
              "    </tr>\n",
              "    <tr>\n",
              "      <th>4</th>\n",
              "      <td>0</td>\n",
              "      <td>Небольшая предыстория: Нашел на сайте MDM банк...</td>\n",
              "      <td>[небольшой, предыстория, найти, сайт, mdm, бан...</td>\n",
              "      <td>[418, 3851, 275, 87, 2, 648, 3, 4894, 2, 296, ...</td>\n",
              "    </tr>\n",
              "    <tr>\n",
              "      <th>...</th>\n",
              "      <td>...</td>\n",
              "      <td>...</td>\n",
              "      <td>...</td>\n",
              "      <td>...</td>\n",
              "    </tr>\n",
              "    <tr>\n",
              "      <th>13994</th>\n",
              "      <td>1</td>\n",
              "      <td>О высокой надёжности МКБ, порядочности и добро...</td>\n",
              "      <td>[высокий, надёжность, мкб, порядочность, добро...</td>\n",
              "      <td>[401, 2321, 809, 5028, 8159, 7, 3099, 126, 441...</td>\n",
              "    </tr>\n",
              "    <tr>\n",
              "      <th>13995</th>\n",
              "      <td>1</td>\n",
              "      <td>Обслуживаюсь в офисе на Чернореченской 42а, ка...</td>\n",
              "      <td>[обслуживаться, офис, чернореченский, 42а, физ...</td>\n",
              "      <td>[362, 24, 9494, 2152, 201, 14, 24, 96, 141, 66...</td>\n",
              "    </tr>\n",
              "    <tr>\n",
              "      <th>13996</th>\n",
              "      <td>1</td>\n",
              "      <td>Попала сегодня в очень неприятную ситуацию. Ре...</td>\n",
              "      <td>[попасть, сегодня, очень, неприятный, ситуация...</td>\n",
              "      <td>[517, 109, 18, 992, 53, 38, 224, 233, 3, 46, 3...</td>\n",
              "    </tr>\n",
              "    <tr>\n",
              "      <th>13997</th>\n",
              "      <td>1</td>\n",
              "      <td>Добрый день! Давно являюсь клиентом банка Русс...</td>\n",
              "      <td>[добрый, день, давно, являться, клиент, банк, ...</td>\n",
              "      <td>[181, 5, 397, 86, 13, 2, 674, 691, 118, 343, 3...</td>\n",
              "    </tr>\n",
              "    <tr>\n",
              "      <th>13998</th>\n",
              "      <td>0</td>\n",
              "      <td>Сначала было все банально. Взял в кредит mp3 п...</td>\n",
              "      <td>[сначала, банально, взять, кредит, mp3, плеер,...</td>\n",
              "      <td>[438, 4111, 127, 9, 460, 2038, 202, 660, 3984,...</td>\n",
              "    </tr>\n",
              "  </tbody>\n",
              "</table>\n",
              "<p>13999 rows × 4 columns</p>\n",
              "</div>\n",
              "      <button class=\"colab-df-convert\" onclick=\"convertToInteractive('df-cc5ec010-10ea-4bed-89c5-b859b1c05170')\"\n",
              "              title=\"Convert this dataframe to an interactive table.\"\n",
              "              style=\"display:none;\">\n",
              "        \n",
              "  <svg xmlns=\"http://www.w3.org/2000/svg\" height=\"24px\"viewBox=\"0 0 24 24\"\n",
              "       width=\"24px\">\n",
              "    <path d=\"M0 0h24v24H0V0z\" fill=\"none\"/>\n",
              "    <path d=\"M18.56 5.44l.94 2.06.94-2.06 2.06-.94-2.06-.94-.94-2.06-.94 2.06-2.06.94zm-11 1L8.5 8.5l.94-2.06 2.06-.94-2.06-.94L8.5 2.5l-.94 2.06-2.06.94zm10 10l.94 2.06.94-2.06 2.06-.94-2.06-.94-.94-2.06-.94 2.06-2.06.94z\"/><path d=\"M17.41 7.96l-1.37-1.37c-.4-.4-.92-.59-1.43-.59-.52 0-1.04.2-1.43.59L10.3 9.45l-7.72 7.72c-.78.78-.78 2.05 0 2.83L4 21.41c.39.39.9.59 1.41.59.51 0 1.02-.2 1.41-.59l7.78-7.78 2.81-2.81c.8-.78.8-2.07 0-2.86zM5.41 20L4 18.59l7.72-7.72 1.47 1.35L5.41 20z\"/>\n",
              "  </svg>\n",
              "      </button>\n",
              "      \n",
              "  <style>\n",
              "    .colab-df-container {\n",
              "      display:flex;\n",
              "      flex-wrap:wrap;\n",
              "      gap: 12px;\n",
              "    }\n",
              "\n",
              "    .colab-df-convert {\n",
              "      background-color: #E8F0FE;\n",
              "      border: none;\n",
              "      border-radius: 50%;\n",
              "      cursor: pointer;\n",
              "      display: none;\n",
              "      fill: #1967D2;\n",
              "      height: 32px;\n",
              "      padding: 0 0 0 0;\n",
              "      width: 32px;\n",
              "    }\n",
              "\n",
              "    .colab-df-convert:hover {\n",
              "      background-color: #E2EBFA;\n",
              "      box-shadow: 0px 1px 2px rgba(60, 64, 67, 0.3), 0px 1px 3px 1px rgba(60, 64, 67, 0.15);\n",
              "      fill: #174EA6;\n",
              "    }\n",
              "\n",
              "    [theme=dark] .colab-df-convert {\n",
              "      background-color: #3B4455;\n",
              "      fill: #D2E3FC;\n",
              "    }\n",
              "\n",
              "    [theme=dark] .colab-df-convert:hover {\n",
              "      background-color: #434B5C;\n",
              "      box-shadow: 0px 1px 3px 1px rgba(0, 0, 0, 0.15);\n",
              "      filter: drop-shadow(0px 1px 2px rgba(0, 0, 0, 0.3));\n",
              "      fill: #FFFFFF;\n",
              "    }\n",
              "  </style>\n",
              "\n",
              "      <script>\n",
              "        const buttonEl =\n",
              "          document.querySelector('#df-cc5ec010-10ea-4bed-89c5-b859b1c05170 button.colab-df-convert');\n",
              "        buttonEl.style.display =\n",
              "          google.colab.kernel.accessAllowed ? 'block' : 'none';\n",
              "\n",
              "        async function convertToInteractive(key) {\n",
              "          const element = document.querySelector('#df-cc5ec010-10ea-4bed-89c5-b859b1c05170');\n",
              "          const dataTable =\n",
              "            await google.colab.kernel.invokeFunction('convertToInteractive',\n",
              "                                                     [key], {});\n",
              "          if (!dataTable) return;\n",
              "\n",
              "          const docLinkHtml = 'Like what you see? Visit the ' +\n",
              "            '<a target=\"_blank\" href=https://colab.research.google.com/notebooks/data_table.ipynb>data table notebook</a>'\n",
              "            + ' to learn more about interactive tables.';\n",
              "          element.innerHTML = '';\n",
              "          dataTable['output_type'] = 'display_data';\n",
              "          await google.colab.output.renderOutput(dataTable, element);\n",
              "          const docLink = document.createElement('div');\n",
              "          docLink.innerHTML = docLinkHtml;\n",
              "          element.appendChild(docLink);\n",
              "        }\n",
              "      </script>\n",
              "    </div>\n",
              "  </div>\n",
              "  "
            ]
          },
          "metadata": {},
          "execution_count": 21
        }
      ]
    },
    {
      "cell_type": "markdown",
      "source": [
        "### Выделяем данные для обучения и тестирования"
      ],
      "metadata": {
        "id": "FrD9el8pQYEJ"
      }
    },
    {
      "cell_type": "code",
      "source": [
        "train, test = train_test_split(banks, test_size=0.2)"
      ],
      "metadata": {
        "id": "XlaVMvgGQdZU"
      },
      "execution_count": null,
      "outputs": []
    },
    {
      "cell_type": "code",
      "source": [
        "train"
      ],
      "metadata": {
        "colab": {
          "base_uri": "https://localhost:8080/",
          "height": 499
        },
        "id": "8NJOp_GAQ_El",
        "outputId": "9d56d38c-6530-4b21-bb0a-0c38d115761f"
      },
      "execution_count": null,
      "outputs": [
        {
          "output_type": "execute_result",
          "data": {
            "text/plain": [
              "      Score                                               Text  \\\n",
              "idx                                                              \n",
              "4535      0  Я являлась клиентом ЗАО Москомприватбанк с 201...   \n",
              "7266      1  Как сотрудник другого банка (не Сити), причем ...   \n",
              "4140      0  19.09.2015 я решила приобрести телефон в расср...   \n",
              "6149      1  Работал со многими банками: вклады, кредиты, п...   \n",
              "1853      0  Желаете потерять полдня, а потом остаться с но...   \n",
              "...     ...                                                ...   \n",
              "7367      0  Уже длительное время поступают звонки по повод...   \n",
              "212       0  Добрый день. Хочу поделиться с вами печальной ...   \n",
              "7807      1  Мне нравится. А хороший или не хороший? Это ка...   \n",
              "5886      1  Обслуживался в центральном офисе банка на Цвет...   \n",
              "759       1  Привет всем. Некогда пользовался картой Рокетб...   \n",
              "\n",
              "                                     Preprocessed_texts  \\\n",
              "idx                                                       \n",
              "4535  [являться, клиент, зао, москомприватбанк, 2012...   \n",
              "7266  [сотрудник, другой, банк, сити, причём, работа...   \n",
              "4140  [19.09.2015, решить, приобрести, телефон, расс...   \n",
              "6149  [работать, многий, банк, вклад, кредит, перево...   \n",
              "1853  [желать, потерять, полдень, остаться, нос, заб...   \n",
              "...                                                 ...   \n",
              "7367  [длительный, время, поступать, звонок, повод, ...   \n",
              "212   [добрый, день, хотеть, поделиться, вы, печальн...   \n",
              "7807  [нравиться, хороший, хороший, это, водка, сего...   \n",
              "5886  [обслуживаться, центральный, офис, банк, цветн...   \n",
              "759   [привет, весь, некогда, пользоваться, карта, р...   \n",
              "\n",
              "                                              Sequences  \n",
              "idx                                                      \n",
              "4535  [86, 13, 1752, 1045, 1038, 126, 665, 77, 21, 3...  \n",
              "7266  [7, 48, 2, 1095, 314, 43, 1291, 1934, 14, 1202...  \n",
              "4140  [38, 1174, 32, 855, 265, 2151, 87, 265, 2151, ...  \n",
              "6149  [43, 803, 2, 47, 9, 105, 262, 21, 3, 112, 85, ...  \n",
              "1853  [735, 610, 3324, 218, 3502, 493, 845, 158, 187...  \n",
              "...                                                 ...  \n",
              "7367  [1380, 19, 554, 49, 386, 920, 201, 7893, 50, 1...  \n",
              "212   [181, 5, 39, 999, 740, 2848, 169, 29, 1803, 26...  \n",
              "7807  [590, 131, 131, 4, 109, 9989, 642, 1263, 1000,...  \n",
              "5886  [362, 884, 24, 2, 2995, 2227, 355, 1469, 85, 6...  \n",
              "759   [1930, 64, 3762, 77, 3, 6752, 2018, 3, 643, 32...  \n",
              "\n",
              "[11199 rows x 4 columns]"
            ],
            "text/html": [
              "\n",
              "  <div id=\"df-0b4375f2-cbae-4685-b48a-ba117e6af559\">\n",
              "    <div class=\"colab-df-container\">\n",
              "      <div>\n",
              "<style scoped>\n",
              "    .dataframe tbody tr th:only-of-type {\n",
              "        vertical-align: middle;\n",
              "    }\n",
              "\n",
              "    .dataframe tbody tr th {\n",
              "        vertical-align: top;\n",
              "    }\n",
              "\n",
              "    .dataframe thead th {\n",
              "        text-align: right;\n",
              "    }\n",
              "</style>\n",
              "<table border=\"1\" class=\"dataframe\">\n",
              "  <thead>\n",
              "    <tr style=\"text-align: right;\">\n",
              "      <th></th>\n",
              "      <th>Score</th>\n",
              "      <th>Text</th>\n",
              "      <th>Preprocessed_texts</th>\n",
              "      <th>Sequences</th>\n",
              "    </tr>\n",
              "    <tr>\n",
              "      <th>idx</th>\n",
              "      <th></th>\n",
              "      <th></th>\n",
              "      <th></th>\n",
              "      <th></th>\n",
              "    </tr>\n",
              "  </thead>\n",
              "  <tbody>\n",
              "    <tr>\n",
              "      <th>4535</th>\n",
              "      <td>0</td>\n",
              "      <td>Я являлась клиентом ЗАО Москомприватбанк с 201...</td>\n",
              "      <td>[являться, клиент, зао, москомприватбанк, 2012...</td>\n",
              "      <td>[86, 13, 1752, 1045, 1038, 126, 665, 77, 21, 3...</td>\n",
              "    </tr>\n",
              "    <tr>\n",
              "      <th>7266</th>\n",
              "      <td>1</td>\n",
              "      <td>Как сотрудник другого банка (не Сити), причем ...</td>\n",
              "      <td>[сотрудник, другой, банк, сити, причём, работа...</td>\n",
              "      <td>[7, 48, 2, 1095, 314, 43, 1291, 1934, 14, 1202...</td>\n",
              "    </tr>\n",
              "    <tr>\n",
              "      <th>4140</th>\n",
              "      <td>0</td>\n",
              "      <td>19.09.2015 я решила приобрести телефон в расср...</td>\n",
              "      <td>[19.09.2015, решить, приобрести, телефон, расс...</td>\n",
              "      <td>[38, 1174, 32, 855, 265, 2151, 87, 265, 2151, ...</td>\n",
              "    </tr>\n",
              "    <tr>\n",
              "      <th>6149</th>\n",
              "      <td>1</td>\n",
              "      <td>Работал со многими банками: вклады, кредиты, п...</td>\n",
              "      <td>[работать, многий, банк, вклад, кредит, перево...</td>\n",
              "      <td>[43, 803, 2, 47, 9, 105, 262, 21, 3, 112, 85, ...</td>\n",
              "    </tr>\n",
              "    <tr>\n",
              "      <th>1853</th>\n",
              "      <td>0</td>\n",
              "      <td>Желаете потерять полдня, а потом остаться с но...</td>\n",
              "      <td>[желать, потерять, полдень, остаться, нос, заб...</td>\n",
              "      <td>[735, 610, 3324, 218, 3502, 493, 845, 158, 187...</td>\n",
              "    </tr>\n",
              "    <tr>\n",
              "      <th>...</th>\n",
              "      <td>...</td>\n",
              "      <td>...</td>\n",
              "      <td>...</td>\n",
              "      <td>...</td>\n",
              "    </tr>\n",
              "    <tr>\n",
              "      <th>7367</th>\n",
              "      <td>0</td>\n",
              "      <td>Уже длительное время поступают звонки по повод...</td>\n",
              "      <td>[длительный, время, поступать, звонок, повод, ...</td>\n",
              "      <td>[1380, 19, 554, 49, 386, 920, 201, 7893, 50, 1...</td>\n",
              "    </tr>\n",
              "    <tr>\n",
              "      <th>212</th>\n",
              "      <td>0</td>\n",
              "      <td>Добрый день. Хочу поделиться с вами печальной ...</td>\n",
              "      <td>[добрый, день, хотеть, поделиться, вы, печальн...</td>\n",
              "      <td>[181, 5, 39, 999, 740, 2848, 169, 29, 1803, 26...</td>\n",
              "    </tr>\n",
              "    <tr>\n",
              "      <th>7807</th>\n",
              "      <td>1</td>\n",
              "      <td>Мне нравится. А хороший или не хороший? Это ка...</td>\n",
              "      <td>[нравиться, хороший, хороший, это, водка, сего...</td>\n",
              "      <td>[590, 131, 131, 4, 109, 9989, 642, 1263, 1000,...</td>\n",
              "    </tr>\n",
              "    <tr>\n",
              "      <th>5886</th>\n",
              "      <td>1</td>\n",
              "      <td>Обслуживался в центральном офисе банка на Цвет...</td>\n",
              "      <td>[обслуживаться, центральный, офис, банк, цветн...</td>\n",
              "      <td>[362, 884, 24, 2, 2995, 2227, 355, 1469, 85, 6...</td>\n",
              "    </tr>\n",
              "    <tr>\n",
              "      <th>759</th>\n",
              "      <td>1</td>\n",
              "      <td>Привет всем. Некогда пользовался картой Рокетб...</td>\n",
              "      <td>[привет, весь, некогда, пользоваться, карта, р...</td>\n",
              "      <td>[1930, 64, 3762, 77, 3, 6752, 2018, 3, 643, 32...</td>\n",
              "    </tr>\n",
              "  </tbody>\n",
              "</table>\n",
              "<p>11199 rows × 4 columns</p>\n",
              "</div>\n",
              "      <button class=\"colab-df-convert\" onclick=\"convertToInteractive('df-0b4375f2-cbae-4685-b48a-ba117e6af559')\"\n",
              "              title=\"Convert this dataframe to an interactive table.\"\n",
              "              style=\"display:none;\">\n",
              "        \n",
              "  <svg xmlns=\"http://www.w3.org/2000/svg\" height=\"24px\"viewBox=\"0 0 24 24\"\n",
              "       width=\"24px\">\n",
              "    <path d=\"M0 0h24v24H0V0z\" fill=\"none\"/>\n",
              "    <path d=\"M18.56 5.44l.94 2.06.94-2.06 2.06-.94-2.06-.94-.94-2.06-.94 2.06-2.06.94zm-11 1L8.5 8.5l.94-2.06 2.06-.94-2.06-.94L8.5 2.5l-.94 2.06-2.06.94zm10 10l.94 2.06.94-2.06 2.06-.94-2.06-.94-.94-2.06-.94 2.06-2.06.94z\"/><path d=\"M17.41 7.96l-1.37-1.37c-.4-.4-.92-.59-1.43-.59-.52 0-1.04.2-1.43.59L10.3 9.45l-7.72 7.72c-.78.78-.78 2.05 0 2.83L4 21.41c.39.39.9.59 1.41.59.51 0 1.02-.2 1.41-.59l7.78-7.78 2.81-2.81c.8-.78.8-2.07 0-2.86zM5.41 20L4 18.59l7.72-7.72 1.47 1.35L5.41 20z\"/>\n",
              "  </svg>\n",
              "      </button>\n",
              "      \n",
              "  <style>\n",
              "    .colab-df-container {\n",
              "      display:flex;\n",
              "      flex-wrap:wrap;\n",
              "      gap: 12px;\n",
              "    }\n",
              "\n",
              "    .colab-df-convert {\n",
              "      background-color: #E8F0FE;\n",
              "      border: none;\n",
              "      border-radius: 50%;\n",
              "      cursor: pointer;\n",
              "      display: none;\n",
              "      fill: #1967D2;\n",
              "      height: 32px;\n",
              "      padding: 0 0 0 0;\n",
              "      width: 32px;\n",
              "    }\n",
              "\n",
              "    .colab-df-convert:hover {\n",
              "      background-color: #E2EBFA;\n",
              "      box-shadow: 0px 1px 2px rgba(60, 64, 67, 0.3), 0px 1px 3px 1px rgba(60, 64, 67, 0.15);\n",
              "      fill: #174EA6;\n",
              "    }\n",
              "\n",
              "    [theme=dark] .colab-df-convert {\n",
              "      background-color: #3B4455;\n",
              "      fill: #D2E3FC;\n",
              "    }\n",
              "\n",
              "    [theme=dark] .colab-df-convert:hover {\n",
              "      background-color: #434B5C;\n",
              "      box-shadow: 0px 1px 3px 1px rgba(0, 0, 0, 0.15);\n",
              "      filter: drop-shadow(0px 1px 2px rgba(0, 0, 0, 0.3));\n",
              "      fill: #FFFFFF;\n",
              "    }\n",
              "  </style>\n",
              "\n",
              "      <script>\n",
              "        const buttonEl =\n",
              "          document.querySelector('#df-0b4375f2-cbae-4685-b48a-ba117e6af559 button.colab-df-convert');\n",
              "        buttonEl.style.display =\n",
              "          google.colab.kernel.accessAllowed ? 'block' : 'none';\n",
              "\n",
              "        async function convertToInteractive(key) {\n",
              "          const element = document.querySelector('#df-0b4375f2-cbae-4685-b48a-ba117e6af559');\n",
              "          const dataTable =\n",
              "            await google.colab.kernel.invokeFunction('convertToInteractive',\n",
              "                                                     [key], {});\n",
              "          if (!dataTable) return;\n",
              "\n",
              "          const docLinkHtml = 'Like what you see? Visit the ' +\n",
              "            '<a target=\"_blank\" href=https://colab.research.google.com/notebooks/data_table.ipynb>data table notebook</a>'\n",
              "            + ' to learn more about interactive tables.';\n",
              "          element.innerHTML = '';\n",
              "          dataTable['output_type'] = 'display_data';\n",
              "          await google.colab.output.renderOutput(dataTable, element);\n",
              "          const docLink = document.createElement('div');\n",
              "          docLink.innerHTML = docLinkHtml;\n",
              "          element.appendChild(docLink);\n",
              "        }\n",
              "      </script>\n",
              "    </div>\n",
              "  </div>\n",
              "  "
            ]
          },
          "metadata": {},
          "execution_count": 23
        }
      ]
    },
    {
      "cell_type": "code",
      "source": [
        "test"
      ],
      "metadata": {
        "colab": {
          "base_uri": "https://localhost:8080/",
          "height": 499
        },
        "id": "CNSudRogRjUL",
        "outputId": "57652c75-383f-4930-9f75-99b249663df1"
      },
      "execution_count": null,
      "outputs": [
        {
          "output_type": "execute_result",
          "data": {
            "text/plain": [
              "       Score                                               Text  \\\n",
              "idx                                                               \n",
              "5544       0  Мне всё труднее писать что-либо об Альфа-банке...   \n",
              "5321       1  Было бы не справедливо, если бы не написал это...   \n",
              "2750       1  Подключился к Модулю (тогда Региональный Креди...   \n",
              "13254      0  Сегодня надо было оплатить пошлину за регистра...   \n",
              "13034      0  20 января в 17 часов я обратился в единственны...   \n",
              "...      ...                                                ...   \n",
              "2260       1  Являюсь вкладчиком и пользователем дебетной ка...   \n",
              "13657      0  Я являюсь вашим клиентом с июля 2007 года. В н...   \n",
              "13106      1  Решила написать этот отзыв после некоторых поп...   \n",
              "11685      0  11.11.2014 года в Читинском филиале мною был о...   \n",
              "7755       0  Начнём с того, что клиентом этой конторы я не ...   \n",
              "\n",
              "                                      Preprocessed_texts  \\\n",
              "idx                                                        \n",
              "5544   [всё, трудный, писать, что-либо, альфа-банк, т...   \n",
              "5321   [справедливо, написать, отзыв, оставлять, ране...   \n",
              "2750   [подключиться, модуль, региональный, кредит, н...   \n",
              "13254  [сегодня, оплатить, пошлина, регистрация, даре...   \n",
              "13034  [20, январь, 17, час, обратиться, единственный...   \n",
              "...                                                  ...   \n",
              "2260   [являться, вкладчик, пользователь, дебетной, к...   \n",
              "13657  [являться, ваш, клиент, июль, 2007, год, ноябр...   \n",
              "13106  [решить, написать, отзыв, некоторый, попытка, ...   \n",
              "11685  [11.11.2014, год, читинский, филиал, я, открыт...   \n",
              "7755   [начать, клиент, контора, являться, являться, ...   \n",
              "\n",
              "                                               Sequences  \n",
              "idx                                                       \n",
              "5544   [123, 2736, 114, 2823, 62, 112, 158, 576, 123,...  \n",
              "5321   [4884, 51, 93, 695, 478, 93, 2, 1305, 191, 320...  \n",
              "2750   [2769, 4425, 3092, 9, 459, 717, 14, 1100, 2, 3...  \n",
              "13254  [109, 193, 4961, 806, 2123, 122, 211, 229, 182...  \n",
              "13034  [315, 434, 1054, 108, 74, 443, 24, 245, 291, 4...  \n",
              "...                                                  ...  \n",
              "2260   [86, 933, 1579, 9691, 3, 213, 434, 793, 14, 47...  \n",
              "13657  [86, 42, 13, 485, 1397, 14, 459, 1149, 14, 72,...  \n",
              "13106  [38, 51, 93, 332, 503, 780, 242, 398, 48, 2, 2...  \n",
              "11685  [14, 344, 90, 119, 47, 1212, 512, 778, 189, 16...  \n",
              "7755   [278, 13, 2007, 86, 86, 61, 86, 236, 94, 443, ...  \n",
              "\n",
              "[2800 rows x 4 columns]"
            ],
            "text/html": [
              "\n",
              "  <div id=\"df-a7c9d06c-6bb2-4990-8b06-b86153320329\">\n",
              "    <div class=\"colab-df-container\">\n",
              "      <div>\n",
              "<style scoped>\n",
              "    .dataframe tbody tr th:only-of-type {\n",
              "        vertical-align: middle;\n",
              "    }\n",
              "\n",
              "    .dataframe tbody tr th {\n",
              "        vertical-align: top;\n",
              "    }\n",
              "\n",
              "    .dataframe thead th {\n",
              "        text-align: right;\n",
              "    }\n",
              "</style>\n",
              "<table border=\"1\" class=\"dataframe\">\n",
              "  <thead>\n",
              "    <tr style=\"text-align: right;\">\n",
              "      <th></th>\n",
              "      <th>Score</th>\n",
              "      <th>Text</th>\n",
              "      <th>Preprocessed_texts</th>\n",
              "      <th>Sequences</th>\n",
              "    </tr>\n",
              "    <tr>\n",
              "      <th>idx</th>\n",
              "      <th></th>\n",
              "      <th></th>\n",
              "      <th></th>\n",
              "      <th></th>\n",
              "    </tr>\n",
              "  </thead>\n",
              "  <tbody>\n",
              "    <tr>\n",
              "      <th>5544</th>\n",
              "      <td>0</td>\n",
              "      <td>Мне всё труднее писать что-либо об Альфа-банке...</td>\n",
              "      <td>[всё, трудный, писать, что-либо, альфа-банк, т...</td>\n",
              "      <td>[123, 2736, 114, 2823, 62, 112, 158, 576, 123,...</td>\n",
              "    </tr>\n",
              "    <tr>\n",
              "      <th>5321</th>\n",
              "      <td>1</td>\n",
              "      <td>Было бы не справедливо, если бы не написал это...</td>\n",
              "      <td>[справедливо, написать, отзыв, оставлять, ране...</td>\n",
              "      <td>[4884, 51, 93, 695, 478, 93, 2, 1305, 191, 320...</td>\n",
              "    </tr>\n",
              "    <tr>\n",
              "      <th>2750</th>\n",
              "      <td>1</td>\n",
              "      <td>Подключился к Модулю (тогда Региональный Креди...</td>\n",
              "      <td>[подключиться, модуль, региональный, кредит, н...</td>\n",
              "      <td>[2769, 4425, 3092, 9, 459, 717, 14, 1100, 2, 3...</td>\n",
              "    </tr>\n",
              "    <tr>\n",
              "      <th>13254</th>\n",
              "      <td>0</td>\n",
              "      <td>Сегодня надо было оплатить пошлину за регистра...</td>\n",
              "      <td>[сегодня, оплатить, пошлина, регистрация, даре...</td>\n",
              "      <td>[109, 193, 4961, 806, 2123, 122, 211, 229, 182...</td>\n",
              "    </tr>\n",
              "    <tr>\n",
              "      <th>13034</th>\n",
              "      <td>0</td>\n",
              "      <td>20 января в 17 часов я обратился в единственны...</td>\n",
              "      <td>[20, январь, 17, час, обратиться, единственный...</td>\n",
              "      <td>[315, 434, 1054, 108, 74, 443, 24, 245, 291, 4...</td>\n",
              "    </tr>\n",
              "    <tr>\n",
              "      <th>...</th>\n",
              "      <td>...</td>\n",
              "      <td>...</td>\n",
              "      <td>...</td>\n",
              "      <td>...</td>\n",
              "    </tr>\n",
              "    <tr>\n",
              "      <th>2260</th>\n",
              "      <td>1</td>\n",
              "      <td>Являюсь вкладчиком и пользователем дебетной ка...</td>\n",
              "      <td>[являться, вкладчик, пользователь, дебетной, к...</td>\n",
              "      <td>[86, 933, 1579, 9691, 3, 213, 434, 793, 14, 47...</td>\n",
              "    </tr>\n",
              "    <tr>\n",
              "      <th>13657</th>\n",
              "      <td>0</td>\n",
              "      <td>Я являюсь вашим клиентом с июля 2007 года. В н...</td>\n",
              "      <td>[являться, ваш, клиент, июль, 2007, год, ноябр...</td>\n",
              "      <td>[86, 42, 13, 485, 1397, 14, 459, 1149, 14, 72,...</td>\n",
              "    </tr>\n",
              "    <tr>\n",
              "      <th>13106</th>\n",
              "      <td>1</td>\n",
              "      <td>Решила написать этот отзыв после некоторых поп...</td>\n",
              "      <td>[решить, написать, отзыв, некоторый, попытка, ...</td>\n",
              "      <td>[38, 51, 93, 332, 503, 780, 242, 398, 48, 2, 2...</td>\n",
              "    </tr>\n",
              "    <tr>\n",
              "      <th>11685</th>\n",
              "      <td>0</td>\n",
              "      <td>11.11.2014 года в Читинском филиале мною был о...</td>\n",
              "      <td>[11.11.2014, год, читинский, филиал, я, открыт...</td>\n",
              "      <td>[14, 344, 90, 119, 47, 1212, 512, 778, 189, 16...</td>\n",
              "    </tr>\n",
              "    <tr>\n",
              "      <th>7755</th>\n",
              "      <td>0</td>\n",
              "      <td>Начнём с того, что клиентом этой конторы я не ...</td>\n",
              "      <td>[начать, клиент, контора, являться, являться, ...</td>\n",
              "      <td>[278, 13, 2007, 86, 86, 61, 86, 236, 94, 443, ...</td>\n",
              "    </tr>\n",
              "  </tbody>\n",
              "</table>\n",
              "<p>2800 rows × 4 columns</p>\n",
              "</div>\n",
              "      <button class=\"colab-df-convert\" onclick=\"convertToInteractive('df-a7c9d06c-6bb2-4990-8b06-b86153320329')\"\n",
              "              title=\"Convert this dataframe to an interactive table.\"\n",
              "              style=\"display:none;\">\n",
              "        \n",
              "  <svg xmlns=\"http://www.w3.org/2000/svg\" height=\"24px\"viewBox=\"0 0 24 24\"\n",
              "       width=\"24px\">\n",
              "    <path d=\"M0 0h24v24H0V0z\" fill=\"none\"/>\n",
              "    <path d=\"M18.56 5.44l.94 2.06.94-2.06 2.06-.94-2.06-.94-.94-2.06-.94 2.06-2.06.94zm-11 1L8.5 8.5l.94-2.06 2.06-.94-2.06-.94L8.5 2.5l-.94 2.06-2.06.94zm10 10l.94 2.06.94-2.06 2.06-.94-2.06-.94-.94-2.06-.94 2.06-2.06.94z\"/><path d=\"M17.41 7.96l-1.37-1.37c-.4-.4-.92-.59-1.43-.59-.52 0-1.04.2-1.43.59L10.3 9.45l-7.72 7.72c-.78.78-.78 2.05 0 2.83L4 21.41c.39.39.9.59 1.41.59.51 0 1.02-.2 1.41-.59l7.78-7.78 2.81-2.81c.8-.78.8-2.07 0-2.86zM5.41 20L4 18.59l7.72-7.72 1.47 1.35L5.41 20z\"/>\n",
              "  </svg>\n",
              "      </button>\n",
              "      \n",
              "  <style>\n",
              "    .colab-df-container {\n",
              "      display:flex;\n",
              "      flex-wrap:wrap;\n",
              "      gap: 12px;\n",
              "    }\n",
              "\n",
              "    .colab-df-convert {\n",
              "      background-color: #E8F0FE;\n",
              "      border: none;\n",
              "      border-radius: 50%;\n",
              "      cursor: pointer;\n",
              "      display: none;\n",
              "      fill: #1967D2;\n",
              "      height: 32px;\n",
              "      padding: 0 0 0 0;\n",
              "      width: 32px;\n",
              "    }\n",
              "\n",
              "    .colab-df-convert:hover {\n",
              "      background-color: #E2EBFA;\n",
              "      box-shadow: 0px 1px 2px rgba(60, 64, 67, 0.3), 0px 1px 3px 1px rgba(60, 64, 67, 0.15);\n",
              "      fill: #174EA6;\n",
              "    }\n",
              "\n",
              "    [theme=dark] .colab-df-convert {\n",
              "      background-color: #3B4455;\n",
              "      fill: #D2E3FC;\n",
              "    }\n",
              "\n",
              "    [theme=dark] .colab-df-convert:hover {\n",
              "      background-color: #434B5C;\n",
              "      box-shadow: 0px 1px 3px 1px rgba(0, 0, 0, 0.15);\n",
              "      filter: drop-shadow(0px 1px 2px rgba(0, 0, 0, 0.3));\n",
              "      fill: #FFFFFF;\n",
              "    }\n",
              "  </style>\n",
              "\n",
              "      <script>\n",
              "        const buttonEl =\n",
              "          document.querySelector('#df-a7c9d06c-6bb2-4990-8b06-b86153320329 button.colab-df-convert');\n",
              "        buttonEl.style.display =\n",
              "          google.colab.kernel.accessAllowed ? 'block' : 'none';\n",
              "\n",
              "        async function convertToInteractive(key) {\n",
              "          const element = document.querySelector('#df-a7c9d06c-6bb2-4990-8b06-b86153320329');\n",
              "          const dataTable =\n",
              "            await google.colab.kernel.invokeFunction('convertToInteractive',\n",
              "                                                     [key], {});\n",
              "          if (!dataTable) return;\n",
              "\n",
              "          const docLinkHtml = 'Like what you see? Visit the ' +\n",
              "            '<a target=\"_blank\" href=https://colab.research.google.com/notebooks/data_table.ipynb>data table notebook</a>'\n",
              "            + ' to learn more about interactive tables.';\n",
              "          element.innerHTML = '';\n",
              "          dataTable['output_type'] = 'display_data';\n",
              "          await google.colab.output.renderOutput(dataTable, element);\n",
              "          const docLink = document.createElement('div');\n",
              "          docLink.innerHTML = docLinkHtml;\n",
              "          element.appendChild(docLink);\n",
              "        }\n",
              "      </script>\n",
              "    </div>\n",
              "  </div>\n",
              "  "
            ]
          },
          "metadata": {},
          "execution_count": 24
        }
      ]
    },
    {
      "cell_type": "markdown",
      "source": [
        "### Разделяем метки классов и данные для обучения"
      ],
      "metadata": {
        "id": "vdin3TyORreE"
      }
    },
    {
      "cell_type": "markdown",
      "source": [
        "Данные для обучения"
      ],
      "metadata": {
        "id": "zwqYdYujSPIb"
      }
    },
    {
      "cell_type": "code",
      "source": [
        "x_train_seq = train['Sequences']\n",
        "y_train = train['Score']"
      ],
      "metadata": {
        "id": "QmVVgp8BRxpZ"
      },
      "execution_count": null,
      "outputs": []
    },
    {
      "cell_type": "code",
      "source": [
        "x_train_seq"
      ],
      "metadata": {
        "colab": {
          "base_uri": "https://localhost:8080/"
        },
        "id": "0r4qjru0R_Z5",
        "outputId": "dd15581a-d1bd-4a87-eaad-548522bdefb3"
      },
      "execution_count": null,
      "outputs": [
        {
          "output_type": "execute_result",
          "data": {
            "text/plain": [
              "idx\n",
              "4535    [86, 13, 1752, 1045, 1038, 126, 665, 77, 21, 3...\n",
              "7266    [7, 48, 2, 1095, 314, 43, 1291, 1934, 14, 1202...\n",
              "4140    [38, 1174, 32, 855, 265, 2151, 87, 265, 2151, ...\n",
              "6149    [43, 803, 2, 47, 9, 105, 262, 21, 3, 112, 85, ...\n",
              "1853    [735, 610, 3324, 218, 3502, 493, 845, 158, 187...\n",
              "                              ...                        \n",
              "7367    [1380, 19, 554, 49, 386, 920, 201, 7893, 50, 1...\n",
              "212     [181, 5, 39, 999, 740, 2848, 169, 29, 1803, 26...\n",
              "7807    [590, 131, 131, 4, 109, 9989, 642, 1263, 1000,...\n",
              "5886    [362, 884, 24, 2, 2995, 2227, 355, 1469, 85, 6...\n",
              "759     [1930, 64, 3762, 77, 3, 6752, 2018, 3, 643, 32...\n",
              "Name: Sequences, Length: 11199, dtype: object"
            ]
          },
          "metadata": {},
          "execution_count": 26
        }
      ]
    },
    {
      "cell_type": "code",
      "source": [
        "y_train"
      ],
      "metadata": {
        "colab": {
          "base_uri": "https://localhost:8080/"
        },
        "id": "SP5ljjhESDNI",
        "outputId": "a16dbc8f-3bf8-4262-d541-ccecf9f11e5e"
      },
      "execution_count": null,
      "outputs": [
        {
          "output_type": "execute_result",
          "data": {
            "text/plain": [
              "idx\n",
              "4535    0\n",
              "7266    1\n",
              "4140    0\n",
              "6149    1\n",
              "1853    0\n",
              "       ..\n",
              "7367    0\n",
              "212     0\n",
              "7807    1\n",
              "5886    1\n",
              "759     1\n",
              "Name: Score, Length: 11199, dtype: int64"
            ]
          },
          "metadata": {},
          "execution_count": 27
        }
      ]
    },
    {
      "cell_type": "markdown",
      "source": [
        "Данные для тестирования"
      ],
      "metadata": {
        "id": "xuG4RvMjSSbY"
      }
    },
    {
      "cell_type": "code",
      "source": [
        "x_test_seq = test['Sequences']\n",
        "y_test = test['Score']"
      ],
      "metadata": {
        "id": "PCJJMYLnSW_n"
      },
      "execution_count": null,
      "outputs": []
    },
    {
      "cell_type": "code",
      "source": [
        "x_test_seq"
      ],
      "metadata": {
        "colab": {
          "base_uri": "https://localhost:8080/"
        },
        "id": "8SsYE9FPSdTA",
        "outputId": "23c40852-be9c-442f-dcf5-832b72bc51fb"
      },
      "execution_count": null,
      "outputs": [
        {
          "output_type": "execute_result",
          "data": {
            "text/plain": [
              "idx\n",
              "5544     [123, 2736, 114, 2823, 62, 112, 158, 576, 123,...\n",
              "5321     [4884, 51, 93, 695, 478, 93, 2, 1305, 191, 320...\n",
              "2750     [2769, 4425, 3092, 9, 459, 717, 14, 1100, 2, 3...\n",
              "13254    [109, 193, 4961, 806, 2123, 122, 211, 229, 182...\n",
              "13034    [315, 434, 1054, 108, 74, 443, 24, 245, 291, 4...\n",
              "                               ...                        \n",
              "2260     [86, 933, 1579, 9691, 3, 213, 434, 793, 14, 47...\n",
              "13657    [86, 42, 13, 485, 1397, 14, 459, 1149, 14, 72,...\n",
              "13106    [38, 51, 93, 332, 503, 780, 242, 398, 48, 2, 2...\n",
              "11685    [14, 344, 90, 119, 47, 1212, 512, 778, 189, 16...\n",
              "7755     [278, 13, 2007, 86, 86, 61, 86, 236, 94, 443, ...\n",
              "Name: Sequences, Length: 2800, dtype: object"
            ]
          },
          "metadata": {},
          "execution_count": 29
        }
      ]
    },
    {
      "cell_type": "code",
      "source": [
        "y_test"
      ],
      "metadata": {
        "colab": {
          "base_uri": "https://localhost:8080/"
        },
        "id": "w9JqW2WtSfqV",
        "outputId": "5c3de649-b150-44d3-93f4-ad69d92d1cef"
      },
      "execution_count": null,
      "outputs": [
        {
          "output_type": "execute_result",
          "data": {
            "text/plain": [
              "idx\n",
              "5544     0\n",
              "5321     1\n",
              "2750     1\n",
              "13254    0\n",
              "13034    0\n",
              "        ..\n",
              "2260     1\n",
              "13657    0\n",
              "13106    1\n",
              "11685    0\n",
              "7755     0\n",
              "Name: Score, Length: 2800, dtype: int64"
            ]
          },
          "metadata": {},
          "execution_count": 30
        }
      ]
    },
    {
      "cell_type": "markdown",
      "source": [
        "## Создаем мешок слов"
      ],
      "metadata": {
        "id": "LZ5E_sd6X945"
      }
    },
    {
      "cell_type": "code",
      "source": [
        "def vectorize_sequences(sequences, dimension=10000):\n",
        "    results = np.zeros((len(sequences), dimension))\n",
        "    for i, sequence in enumerate(sequences):\n",
        "        for index in sequence:\n",
        "            results[i, index] += 1.\n",
        "    return results"
      ],
      "metadata": {
        "id": "hbPcLZAok_wf"
      },
      "execution_count": null,
      "outputs": []
    },
    {
      "cell_type": "code",
      "source": [
        "x_train = vectorize_sequences(x_train_seq, max_words)"
      ],
      "metadata": {
        "id": "xkMU-sKYl62K"
      },
      "execution_count": null,
      "outputs": []
    },
    {
      "cell_type": "code",
      "source": [
        "x_test = vectorize_sequences(x_test_seq, max_words)"
      ],
      "metadata": {
        "id": "V2zUvuwGSrHI"
      },
      "execution_count": null,
      "outputs": []
    },
    {
      "cell_type": "code",
      "source": [
        "x_train[0][:100]"
      ],
      "metadata": {
        "colab": {
          "base_uri": "https://localhost:8080/"
        },
        "id": "EY3r6KMdm4ce",
        "outputId": "11798034-774b-4019-ec85-99806bd01f94"
      },
      "execution_count": null,
      "outputs": [
        {
          "output_type": "execute_result",
          "data": {
            "text/plain": [
              "array([0., 0., 7., 8., 2., 2., 1., 3., 0., 0., 0., 1., 0., 4., 0., 0., 1.,\n",
              "       2., 2., 0., 0., 5., 0., 0., 2., 3., 0., 1., 0., 2., 0., 0., 0., 0.,\n",
              "       0., 0., 0., 1., 1., 1., 2., 0., 0., 0., 0., 0., 0., 0., 1., 0., 0.,\n",
              "       0., 1., 0., 0., 0., 2., 0., 0., 0., 2., 0., 0., 0., 0., 1., 3., 0.,\n",
              "       0., 1., 0., 1., 0., 1., 0., 0., 0., 1., 0., 0., 0., 0., 0., 2., 0.,\n",
              "       1., 1., 0., 0., 0., 0., 0., 0., 1., 2., 2., 0., 1., 0., 0.])"
            ]
          },
          "metadata": {},
          "execution_count": 34
        }
      ]
    },
    {
      "cell_type": "code",
      "source": [
        "len(x_train[0])"
      ],
      "metadata": {
        "colab": {
          "base_uri": "https://localhost:8080/"
        },
        "id": "9XF0zMIqm9dC",
        "outputId": "1ab35291-ac85-40ea-8d67-21546cb82636"
      },
      "execution_count": null,
      "outputs": [
        {
          "output_type": "execute_result",
          "data": {
            "text/plain": [
              "10000"
            ]
          },
          "metadata": {},
          "execution_count": 35
        }
      ]
    },
    {
      "cell_type": "markdown",
      "source": [
        "## Создаем модель машинного обучения"
      ],
      "metadata": {
        "id": "2JjAx-4iS14d"
      }
    },
    {
      "cell_type": "code",
      "source": [
        "lr = LogisticRegression(random_state=random_state, max_iter=500)"
      ],
      "metadata": {
        "id": "5riQenkMdIz3"
      },
      "execution_count": null,
      "outputs": []
    },
    {
      "cell_type": "markdown",
      "source": [
        "## Обучаем модель машинного обучения"
      ],
      "metadata": {
        "id": "VNiz55OBTKnV"
      }
    },
    {
      "cell_type": "code",
      "source": [
        "lr.fit(x_train, y_train)"
      ],
      "metadata": {
        "colab": {
          "base_uri": "https://localhost:8080/"
        },
        "id": "cnpiCQ2JdVwR",
        "outputId": "de25d7fa-32e3-4cca-b5d5-fc9e106e915b"
      },
      "execution_count": null,
      "outputs": [
        {
          "output_type": "execute_result",
          "data": {
            "text/plain": [
              "LogisticRegression(max_iter=500, random_state=42)"
            ]
          },
          "metadata": {},
          "execution_count": 37
        }
      ]
    },
    {
      "cell_type": "markdown",
      "source": [
        "## Оцениваем качество обучения на тестовом наборе данных"
      ],
      "metadata": {
        "id": "1pZ4iYXAcSnE"
      }
    },
    {
      "cell_type": "markdown",
      "source": [
        "Определяем долю правильных ответов (accuracy) на тестовом наборе данных"
      ],
      "metadata": {
        "id": "Kf5pEuAGcojj"
      }
    },
    {
      "cell_type": "code",
      "source": [
        "lr.score(x_test, y_test)"
      ],
      "metadata": {
        "colab": {
          "base_uri": "https://localhost:8080/"
        },
        "id": "7dAGLK-_d6Ut",
        "outputId": "57506040-71bb-4fd9-e592-dd3e55634fdc"
      },
      "execution_count": null,
      "outputs": [
        {
          "output_type": "execute_result",
          "data": {
            "text/plain": [
              "0.9492857142857143"
            ]
          },
          "metadata": {},
          "execution_count": 38
        }
      ]
    },
    {
      "cell_type": "markdown",
      "source": [
        "## Применяем модель для определения тональности отзыва на банк"
      ],
      "metadata": {
        "id": "5HNdGjOuc0P7"
      }
    },
    {
      "cell_type": "markdown",
      "source": [
        "**Позитивный отзыв**"
      ],
      "metadata": {
        "id": "pFr1P1dcc_Tf"
      }
    },
    {
      "cell_type": "code",
      "source": [
        "positive_text = \"\"\"Брал кредит в Мегабанке на автомобиль. Выдали за один день. Никаких скрытых комиссий и переплат. \n",
        "У банка удобное мобильное приложение, через которое можно быстро отправить ежемесячный платеж. \n",
        "Досрочное гасить начал через три месяца. Я доволен оперативностью и удобством. Огромное спасибо!\n",
        "\"\"\""
      ],
      "metadata": {
        "id": "jSXOhJvRczmQ"
      },
      "execution_count": null,
      "outputs": []
    },
    {
      "cell_type": "markdown",
      "source": [
        "Подготовка текста к обработке"
      ],
      "metadata": {
        "id": "QJ4DcyaQgHuf"
      }
    },
    {
      "cell_type": "code",
      "source": [
        "positive_preprocessed_text = preprocess(positive_text, stop_words, punctuation_marks, morph)"
      ],
      "metadata": {
        "id": "xWVnIw5We-vr"
      },
      "execution_count": null,
      "outputs": []
    },
    {
      "cell_type": "code",
      "source": [
        "positive_preprocessed_text"
      ],
      "metadata": {
        "colab": {
          "base_uri": "https://localhost:8080/"
        },
        "id": "1m5v4pKpfOCb",
        "outputId": "42e69850-78f0-4ce7-a856-e62bb786f68f"
      },
      "execution_count": null,
      "outputs": [
        {
          "output_type": "execute_result",
          "data": {
            "text/plain": [
              "['брать',\n",
              " 'кредит',\n",
              " 'мегабанк',\n",
              " 'автомобиль',\n",
              " 'выдать',\n",
              " 'день',\n",
              " 'никакой',\n",
              " 'скрытый',\n",
              " 'комиссия',\n",
              " 'переплата',\n",
              " 'банк',\n",
              " 'удобный',\n",
              " 'мобильный',\n",
              " 'приложение',\n",
              " 'который',\n",
              " 'быстро',\n",
              " 'отправить',\n",
              " 'ежемесячный',\n",
              " 'платёж',\n",
              " 'досрочный',\n",
              " 'гасить',\n",
              " 'начать',\n",
              " 'месяц',\n",
              " 'довольный',\n",
              " 'оперативность',\n",
              " 'удобство',\n",
              " 'огромный',\n",
              " 'спасибо']"
            ]
          },
          "metadata": {},
          "execution_count": 42
        }
      ]
    },
    {
      "cell_type": "code",
      "source": [
        "positive_seq = text_to_sequence(positive_preprocessed_text, word_to_index)"
      ],
      "metadata": {
        "id": "b2RY-EDVfUy_"
      },
      "execution_count": null,
      "outputs": []
    },
    {
      "cell_type": "code",
      "source": [
        "positive_seq"
      ],
      "metadata": {
        "colab": {
          "base_uri": "https://localhost:8080/"
        },
        "id": "-XHmvBhffiou",
        "outputId": "75bb55e5-d2d4-44f1-bfb4-889d6045ff0e"
      },
      "execution_count": null,
      "outputs": [
        {
          "output_type": "execute_result",
          "data": {
            "text/plain": [
              "[170,\n",
              " 9,\n",
              " 963,\n",
              " 136,\n",
              " 5,\n",
              " 81,\n",
              " 1890,\n",
              " 80,\n",
              " 1028,\n",
              " 2,\n",
              " 287,\n",
              " 305,\n",
              " 763,\n",
              " 8,\n",
              " 128,\n",
              " 205,\n",
              " 489,\n",
              " 30,\n",
              " 358,\n",
              " 1422,\n",
              " 278,\n",
              " 34,\n",
              " 299,\n",
              " 910,\n",
              " 1316,\n",
              " 312,\n",
              " 75]"
            ]
          },
          "metadata": {},
          "execution_count": 44
        }
      ]
    },
    {
      "cell_type": "code",
      "source": [
        "positive_bow = vectorize_sequences([positive_seq], max_words)"
      ],
      "metadata": {
        "id": "bSAf7HXMfwVC"
      },
      "execution_count": null,
      "outputs": []
    },
    {
      "cell_type": "code",
      "source": [
        "positive_bow[0][0:100]"
      ],
      "metadata": {
        "colab": {
          "base_uri": "https://localhost:8080/"
        },
        "id": "FDJoCeaaf-OY",
        "outputId": "e7ea59a0-6188-40c1-b2f9-c37597d67b12"
      },
      "execution_count": null,
      "outputs": [
        {
          "output_type": "execute_result",
          "data": {
            "text/plain": [
              "array([0., 0., 1., 0., 0., 1., 0., 0., 1., 1., 0., 0., 0., 0., 0., 0., 0.,\n",
              "       0., 0., 0., 0., 0., 0., 0., 0., 0., 0., 0., 0., 0., 1., 0., 0., 0.,\n",
              "       1., 0., 0., 0., 0., 0., 0., 0., 0., 0., 0., 0., 0., 0., 0., 0., 0.,\n",
              "       0., 0., 0., 0., 0., 0., 0., 0., 0., 0., 0., 0., 0., 0., 0., 0., 0.,\n",
              "       0., 0., 0., 0., 0., 0., 0., 1., 0., 0., 0., 0., 1., 1., 0., 0., 0.,\n",
              "       0., 0., 0., 0., 0., 0., 0., 0., 0., 0., 0., 0., 0., 0., 0.])"
            ]
          },
          "metadata": {},
          "execution_count": 46
        }
      ]
    },
    {
      "cell_type": "markdown",
      "source": [
        "Выполняем распознавание"
      ],
      "metadata": {
        "id": "n5K4rGNagLih"
      }
    },
    {
      "cell_type": "code",
      "source": [
        "result = lr.predict(positive_bow)"
      ],
      "metadata": {
        "id": "BhRAVQTUgPGX"
      },
      "execution_count": null,
      "outputs": []
    },
    {
      "cell_type": "code",
      "source": [
        "result"
      ],
      "metadata": {
        "colab": {
          "base_uri": "https://localhost:8080/"
        },
        "id": "BRGoBtDBgUyM",
        "outputId": "508056ee-3feb-480a-8c46-8a1a346e259a"
      },
      "execution_count": null,
      "outputs": [
        {
          "output_type": "execute_result",
          "data": {
            "text/plain": [
              "array([1])"
            ]
          },
          "metadata": {},
          "execution_count": 48
        }
      ]
    },
    {
      "cell_type": "markdown",
      "source": [
        "**Негативный отзыв**"
      ],
      "metadata": {
        "id": "3K6awLQigq-D"
      }
    },
    {
      "cell_type": "code",
      "source": [
        "negative_text = \"\"\"Взял кредит в ТакСебеБанке на автомобиль. В договор включили обязательный контракт\n",
        "на помощь на дороге, который мне не нужен. Узнал об этом только во время подписания договора, иначе бы отказался.\n",
        "Альтернативы была страхование жизни, но мне это даже не предложили. Скорее всего, менеджер продвигает\n",
        "продажи услуг этой компании в ущерб интересов клиента. Как минимум, непорядочно и непрофессионально.\n",
        "У банка ужасное мобильное приложение, из-за которого с меня взяли штраф 10 тыс.руб. По требованиям \n",
        "банка после покупки автомобиля в приложении нужно загрузить ПТС. Я загрузил и проверил, что ПТС в приложении есть.\n",
        "Но через некоторое время ПТС из приложения пропал и с меня взяли штраф. Никому не рекомендую связываться с ТакСебеБанком.\n",
        "\"\"\""
      ],
      "metadata": {
        "id": "ZqUkDs21guEN"
      },
      "execution_count": null,
      "outputs": []
    },
    {
      "cell_type": "code",
      "source": [
        "negative_preprocessed_text = preprocess(negative_text, stop_words, punctuation_marks, morph)\n",
        "negative_seq = text_to_sequence(negative_preprocessed_text, word_to_index)\n",
        "negative_bow = vectorize_sequences([negative_seq], max_words)"
      ],
      "metadata": {
        "id": "AiBvb3Qqh8ep"
      },
      "execution_count": null,
      "outputs": []
    },
    {
      "cell_type": "code",
      "source": [
        "result = lr.predict(negative_bow)"
      ],
      "metadata": {
        "id": "576AFyxQii_S"
      },
      "execution_count": null,
      "outputs": []
    },
    {
      "cell_type": "code",
      "source": [
        "result"
      ],
      "metadata": {
        "colab": {
          "base_uri": "https://localhost:8080/"
        },
        "id": "o-c25tMrioT7",
        "outputId": "64bb3f0f-b964-49fe-93f8-5ecce3e289e0"
      },
      "execution_count": null,
      "outputs": [
        {
          "output_type": "execute_result",
          "data": {
            "text/plain": [
              "array([0])"
            ]
          },
          "metadata": {},
          "execution_count": 52
        }
      ]
    },
    {
      "cell_type": "code",
      "source": [
        "result = lr.predict_proba(negative_bow)"
      ],
      "metadata": {
        "id": "mo2-L3cQj4Ho"
      },
      "execution_count": null,
      "outputs": []
    },
    {
      "cell_type": "code",
      "source": [
        "result"
      ],
      "metadata": {
        "colab": {
          "base_uri": "https://localhost:8080/"
        },
        "id": "Mme2NEeAj7ZC",
        "outputId": "d6c41d80-f821-4066-c622-b2988eed4f23"
      },
      "execution_count": null,
      "outputs": [
        {
          "output_type": "execute_result",
          "data": {
            "text/plain": [
              "array([[0.99854494, 0.00145506]])"
            ]
          },
          "metadata": {},
          "execution_count": 54
        }
      ]
    }
  ]
}