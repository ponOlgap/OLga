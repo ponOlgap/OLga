{
  "nbformat": 4,
  "nbformat_minor": 0,
  "metadata": {
    "colab": {
      "provenance": [],
      "include_colab_link": true
    },
    "kernelspec": {
      "name": "python3",
      "display_name": "Python 3"
    },
    "language_info": {
      "name": "python"
    }
  },
  "cells": [
    {
      "cell_type": "markdown",
      "metadata": {
        "id": "view-in-github",
        "colab_type": "text"
      },
      "source": [
        "<a href=\"https://colab.research.google.com/github/ponOlgap/OLga/blob/main/nlp_morph.ipynb\" target=\"_parent\"><img src=\"https://colab.research.google.com/assets/colab-badge.svg\" alt=\"Open In Colab\"/></a>"
      ]
    },
    {
      "cell_type": "markdown",
      "source": [
        "## Морфологический анализ текста на русском языке"
      ],
      "metadata": {
        "id": "xfhUqLGcCJ4b"
      }
    },
    {
      "cell_type": "markdown",
      "source": [
        "## Библиотека [pymorphy2](https://pymorphy2.readthedocs.io/en/stable/user/index.html).\n",
        "\n",
        "Установка библиотеки"
      ],
      "metadata": {
        "id": "nxPYp8bsCiaR"
      }
    },
    {
      "cell_type": "code",
      "source": [
        "!pip install pymorphy2[fast] "
      ],
      "metadata": {
        "colab": {
          "base_uri": "https://localhost:8080/"
        },
        "id": "cikkrgs2CPFg",
        "outputId": "091219a1-dd81-4ec3-d7ec-6ac886f6429a"
      },
      "execution_count": null,
      "outputs": [
        {
          "output_type": "stream",
          "name": "stdout",
          "text": [
            "Requirement already satisfied: pymorphy2[fast] in /usr/local/lib/python3.7/dist-packages (0.9.1)\n",
            "Requirement already satisfied: dawg-python>=0.7.1 in /usr/local/lib/python3.7/dist-packages (from pymorphy2[fast]) (0.7.2)\n",
            "Requirement already satisfied: docopt>=0.6 in /usr/local/lib/python3.7/dist-packages (from pymorphy2[fast]) (0.6.2)\n",
            "Requirement already satisfied: pymorphy2-dicts-ru<3.0,>=2.4 in /usr/local/lib/python3.7/dist-packages (from pymorphy2[fast]) (2.4.417127.4579844)\n",
            "Requirement already satisfied: DAWG>=0.8 in /usr/local/lib/python3.7/dist-packages (from pymorphy2[fast]) (0.8.0)\n"
          ]
        }
      ]
    },
    {
      "cell_type": "markdown",
      "source": [
        "Подключение библиотеки"
      ],
      "metadata": {
        "id": "-aP8IroiCysw"
      }
    },
    {
      "cell_type": "code",
      "execution_count": null,
      "metadata": {
        "id": "EruMxe9XBsb3"
      },
      "outputs": [],
      "source": [
        "import pymorphy2"
      ]
    },
    {
      "cell_type": "markdown",
      "source": [
        "Создаем морфологический анализатор pymorphy2"
      ],
      "metadata": {
        "id": "Ik68E3aSC0zX"
      }
    },
    {
      "cell_type": "code",
      "source": [
        "morph = pymorphy2.MorphAnalyzer()"
      ],
      "metadata": {
        "id": "f9V_Uw3qC4OZ"
      },
      "execution_count": null,
      "outputs": []
    },
    {
      "cell_type": "markdown",
      "source": [
        "Выполняем морфологический разбор"
      ],
      "metadata": {
        "id": "ztiFp0aMDBcQ"
      }
    },
    {
      "cell_type": "code",
      "source": [
        "morph.parse('деревья')"
      ],
      "metadata": {
        "colab": {
          "base_uri": "https://localhost:8080/"
        },
        "id": "hNrx56quC9kE",
        "outputId": "82f85902-e59a-4909-aee9-b47e8f611480"
      },
      "execution_count": null,
      "outputs": [
        {
          "output_type": "execute_result",
          "data": {
            "text/plain": [
              "[Parse(word='деревья', tag=OpencorporaTag('NOUN,inan,neut plur,nomn'), normal_form='дерево', score=0.653846, methods_stack=((DictionaryAnalyzer(), 'деревья', 1330, 7),)),\n",
              " Parse(word='деревья', tag=OpencorporaTag('NOUN,inan,neut plur,accs'), normal_form='дерево', score=0.346153, methods_stack=((DictionaryAnalyzer(), 'деревья', 1330, 13),))]"
            ]
          },
          "metadata": {},
          "execution_count": 47
        }
      ]
    },
    {
      "cell_type": "code",
      "source": [
        "morph.parse('родился')"
      ],
      "metadata": {
        "colab": {
          "base_uri": "https://localhost:8080/"
        },
        "id": "v02yDI7tDYTl",
        "outputId": "9091b4cf-84f0-4bec-9340-aad0b4225009"
      },
      "execution_count": null,
      "outputs": [
        {
          "output_type": "execute_result",
          "data": {
            "text/plain": [
              "[Parse(word='родился', tag=OpencorporaTag('VERB,perf,intr masc,sing,past,indc'), normal_form='родиться', score=0.5, methods_stack=((DictionaryAnalyzer(), 'родился', 2802, 1),)),\n",
              " Parse(word='родился', tag=OpencorporaTag('VERB,impf,intr masc,sing,past,indc'), normal_form='родиться', score=0.5, methods_stack=((DictionaryAnalyzer(), 'родился', 2802, 21),))]"
            ]
          },
          "metadata": {},
          "execution_count": 48
        }
      ]
    },
    {
      "cell_type": "markdown",
      "source": [
        "Неоднозначное слово"
      ],
      "metadata": {
        "id": "A2I1bamlDe2E"
      }
    },
    {
      "cell_type": "code",
      "source": [
        "morph.parse('стали')"
      ],
      "metadata": {
        "colab": {
          "base_uri": "https://localhost:8080/"
        },
        "id": "taLaE1STDg-y",
        "outputId": "06d0dfcc-8cbe-4c02-ffa2-ea249c866d5c"
      },
      "execution_count": null,
      "outputs": [
        {
          "output_type": "execute_result",
          "data": {
            "text/plain": [
              "[Parse(word='стали', tag=OpencorporaTag('VERB,perf,intr plur,past,indc'), normal_form='стать', score=0.975342, methods_stack=((DictionaryAnalyzer(), 'стали', 945, 4),)),\n",
              " Parse(word='стали', tag=OpencorporaTag('NOUN,inan,femn sing,gent'), normal_form='сталь', score=0.010958, methods_stack=((DictionaryAnalyzer(), 'стали', 13, 1),)),\n",
              " Parse(word='стали', tag=OpencorporaTag('NOUN,inan,femn plur,nomn'), normal_form='сталь', score=0.005479, methods_stack=((DictionaryAnalyzer(), 'стали', 13, 6),)),\n",
              " Parse(word='стали', tag=OpencorporaTag('NOUN,inan,femn sing,datv'), normal_form='сталь', score=0.002739, methods_stack=((DictionaryAnalyzer(), 'стали', 13, 2),)),\n",
              " Parse(word='стали', tag=OpencorporaTag('NOUN,inan,femn sing,loct'), normal_form='сталь', score=0.002739, methods_stack=((DictionaryAnalyzer(), 'стали', 13, 5),)),\n",
              " Parse(word='стали', tag=OpencorporaTag('NOUN,inan,femn plur,accs'), normal_form='сталь', score=0.002739, methods_stack=((DictionaryAnalyzer(), 'стали', 13, 9),))]"
            ]
          },
          "metadata": {},
          "execution_count": 49
        }
      ]
    },
    {
      "cell_type": "markdown",
      "source": [
        "Сложное слово"
      ],
      "metadata": {
        "id": "XxSeAx_DDq_9"
      }
    },
    {
      "cell_type": "code",
      "source": [
        "morph.parse('физико-математической')"
      ],
      "metadata": {
        "colab": {
          "base_uri": "https://localhost:8080/"
        },
        "id": "jRp40121DrSc",
        "outputId": "a1861c6d-40a0-4875-a963-8105f6dce76a"
      },
      "execution_count": null,
      "outputs": [
        {
          "output_type": "execute_result",
          "data": {
            "text/plain": [
              "[Parse(word='физико-математической', tag=OpencorporaTag('ADJF femn,sing,gent'), normal_form='физико-математический', score=0.25, methods_stack=((DictionaryAnalyzer(), 'физико-математической', 16, 8),)),\n",
              " Parse(word='физико-математической', tag=OpencorporaTag('ADJF femn,sing,datv'), normal_form='физико-математический', score=0.25, methods_stack=((DictionaryAnalyzer(), 'физико-математической', 16, 9),)),\n",
              " Parse(word='физико-математической', tag=OpencorporaTag('ADJF femn,sing,ablt'), normal_form='физико-математический', score=0.25, methods_stack=((DictionaryAnalyzer(), 'физико-математической', 16, 11),)),\n",
              " Parse(word='физико-математической', tag=OpencorporaTag('ADJF femn,sing,loct'), normal_form='физико-математический', score=0.25, methods_stack=((DictionaryAnalyzer(), 'физико-математической', 16, 13),))]"
            ]
          },
          "metadata": {},
          "execution_count": 50
        }
      ]
    },
    {
      "cell_type": "markdown",
      "source": [
        "Местоимение"
      ],
      "metadata": {
        "id": "cMtmarzED5W_"
      }
    },
    {
      "cell_type": "code",
      "source": [
        "morph.parse('его')"
      ],
      "metadata": {
        "colab": {
          "base_uri": "https://localhost:8080/"
        },
        "id": "ax7pNpk4D3lc",
        "outputId": "4d76e9b0-bc14-43dc-84a3-a3bb22605f55"
      },
      "execution_count": null,
      "outputs": [
        {
          "output_type": "execute_result",
          "data": {
            "text/plain": [
              "[Parse(word='его', tag=OpencorporaTag('NPRO,masc,3per,Anph sing,accs'), normal_form='он', score=0.23913, methods_stack=((DictionaryAnalyzer(), 'его', 2304, 5),)),\n",
              " Parse(word='его', tag=OpencorporaTag('NPRO,neut,3per,Anph sing,accs'), normal_form='оно', score=0.065217, methods_stack=((DictionaryAnalyzer(), 'его', 2307, 5),)),\n",
              " Parse(word='его', tag=OpencorporaTag('ADJF,Fixd,Apro,Anph femn,sing,gent'), normal_form='его', score=0.043478, methods_stack=((DictionaryAnalyzer(), 'его', 1440, 7),)),\n",
              " Parse(word='его', tag=OpencorporaTag('ADJF,Fixd,Apro,Anph neut,sing,gent'), normal_form='его', score=0.043478, methods_stack=((DictionaryAnalyzer(), 'его', 1440, 13),)),\n",
              " Parse(word='его', tag=OpencorporaTag('ADJF,Fixd,Apro,Anph plur,nomn'), normal_form='его', score=0.043478, methods_stack=((DictionaryAnalyzer(), 'его', 1440, 18),)),\n",
              " Parse(word='его', tag=OpencorporaTag('ADJF,Fixd,Apro,Anph plur,datv'), normal_form='его', score=0.043478, methods_stack=((DictionaryAnalyzer(), 'его', 1440, 20),)),\n",
              " Parse(word='его', tag=OpencorporaTag('NPRO,masc,3per,Anph sing,gent'), normal_form='он', score=0.043478, methods_stack=((DictionaryAnalyzer(), 'его', 2304, 1),)),\n",
              " Parse(word='его', tag=OpencorporaTag('NPRO,neut,3per,Anph sing,gent'), normal_form='оно', score=0.043478, methods_stack=((DictionaryAnalyzer(), 'его', 2307, 1),)),\n",
              " Parse(word='его', tag=OpencorporaTag('ADJF,Fixd,Apro,Anph masc,sing,nomn'), normal_form='его', score=0.021739, methods_stack=((DictionaryAnalyzer(), 'его', 1440, 0),)),\n",
              " Parse(word='его', tag=OpencorporaTag('ADJF,Fixd,Apro,Anph masc,sing,gent'), normal_form='его', score=0.021739, methods_stack=((DictionaryAnalyzer(), 'его', 1440, 1),)),\n",
              " Parse(word='его', tag=OpencorporaTag('ADJF,Fixd,Apro,Anph masc,sing,datv'), normal_form='его', score=0.021739, methods_stack=((DictionaryAnalyzer(), 'его', 1440, 2),)),\n",
              " Parse(word='его', tag=OpencorporaTag('ADJF,Fixd,Apro,Anph masc,sing,accs'), normal_form='его', score=0.021739, methods_stack=((DictionaryAnalyzer(), 'его', 1440, 3),)),\n",
              " Parse(word='его', tag=OpencorporaTag('ADJF,Fixd,Apro,Anph masc,sing,ablt'), normal_form='его', score=0.021739, methods_stack=((DictionaryAnalyzer(), 'его', 1440, 4),)),\n",
              " Parse(word='его', tag=OpencorporaTag('ADJF,Fixd,Apro,Anph masc,sing,loct'), normal_form='его', score=0.021739, methods_stack=((DictionaryAnalyzer(), 'его', 1440, 5),)),\n",
              " Parse(word='его', tag=OpencorporaTag('ADJF,Fixd,Apro,Anph femn,sing,nomn'), normal_form='его', score=0.021739, methods_stack=((DictionaryAnalyzer(), 'его', 1440, 6),)),\n",
              " Parse(word='его', tag=OpencorporaTag('ADJF,Fixd,Apro,Anph femn,sing,datv'), normal_form='его', score=0.021739, methods_stack=((DictionaryAnalyzer(), 'его', 1440, 8),)),\n",
              " Parse(word='его', tag=OpencorporaTag('ADJF,Fixd,Apro,Anph femn,sing,accs'), normal_form='его', score=0.021739, methods_stack=((DictionaryAnalyzer(), 'его', 1440, 9),)),\n",
              " Parse(word='его', tag=OpencorporaTag('ADJF,Fixd,Apro,Anph femn,sing,ablt'), normal_form='его', score=0.021739, methods_stack=((DictionaryAnalyzer(), 'его', 1440, 10),)),\n",
              " Parse(word='его', tag=OpencorporaTag('ADJF,Fixd,Apro,Anph femn,sing,loct'), normal_form='его', score=0.021739, methods_stack=((DictionaryAnalyzer(), 'его', 1440, 11),)),\n",
              " Parse(word='его', tag=OpencorporaTag('ADJF,Fixd,Apro,Anph neut,sing,nomn'), normal_form='его', score=0.021739, methods_stack=((DictionaryAnalyzer(), 'его', 1440, 12),)),\n",
              " Parse(word='его', tag=OpencorporaTag('ADJF,Fixd,Apro,Anph neut,sing,datv'), normal_form='его', score=0.021739, methods_stack=((DictionaryAnalyzer(), 'его', 1440, 14),)),\n",
              " Parse(word='его', tag=OpencorporaTag('ADJF,Fixd,Apro,Anph neut,sing,accs'), normal_form='его', score=0.021739, methods_stack=((DictionaryAnalyzer(), 'его', 1440, 15),)),\n",
              " Parse(word='его', tag=OpencorporaTag('ADJF,Fixd,Apro,Anph neut,sing,ablt'), normal_form='его', score=0.021739, methods_stack=((DictionaryAnalyzer(), 'его', 1440, 16),)),\n",
              " Parse(word='его', tag=OpencorporaTag('ADJF,Fixd,Apro,Anph neut,sing,loct'), normal_form='его', score=0.021739, methods_stack=((DictionaryAnalyzer(), 'его', 1440, 17),)),\n",
              " Parse(word='его', tag=OpencorporaTag('ADJF,Fixd,Apro,Anph plur,gent'), normal_form='его', score=0.021739, methods_stack=((DictionaryAnalyzer(), 'его', 1440, 19),)),\n",
              " Parse(word='его', tag=OpencorporaTag('ADJF,Fixd,Apro,Anph plur,accs'), normal_form='его', score=0.021739, methods_stack=((DictionaryAnalyzer(), 'его', 1440, 21),)),\n",
              " Parse(word='его', tag=OpencorporaTag('ADJF,Fixd,Apro,Anph plur,ablt'), normal_form='его', score=0.021739, methods_stack=((DictionaryAnalyzer(), 'его', 1440, 22),)),\n",
              " Parse(word='его', tag=OpencorporaTag('ADJF,Fixd,Apro,Anph plur,loct'), normal_form='его', score=0.021739, methods_stack=((DictionaryAnalyzer(), 'его', 1440, 23),))]"
            ]
          },
          "metadata": {},
          "execution_count": 51
        }
      ]
    },
    {
      "cell_type": "markdown",
      "source": [
        "Числительное"
      ],
      "metadata": {
        "id": "mX5zezbjEgHf"
      }
    },
    {
      "cell_type": "code",
      "source": [
        "morph.parse('1981')"
      ],
      "metadata": {
        "colab": {
          "base_uri": "https://localhost:8080/"
        },
        "id": "R5wgytaTEh-5",
        "outputId": "da58cef5-8b1b-4fdd-8243-a2381539fbb7"
      },
      "execution_count": null,
      "outputs": [
        {
          "output_type": "execute_result",
          "data": {
            "text/plain": [
              "[Parse(word='1981', tag=OpencorporaTag('NUMB,intg'), normal_form='1981', score=1.0, methods_stack=((NumberAnalyzer(score=0.9), '1981'),))]"
            ]
          },
          "metadata": {},
          "execution_count": 52
        }
      ]
    },
    {
      "cell_type": "markdown",
      "source": [
        "Знак препинания"
      ],
      "metadata": {
        "id": "R0zSk72aE1rN"
      }
    },
    {
      "cell_type": "code",
      "source": [
        "morph.parse('.')"
      ],
      "metadata": {
        "colab": {
          "base_uri": "https://localhost:8080/"
        },
        "id": "gDVFyg2uE4VR",
        "outputId": "a1d31233-08a8-4c90-c8f5-4b805c38da02"
      },
      "execution_count": null,
      "outputs": [
        {
          "output_type": "execute_result",
          "data": {
            "text/plain": [
              "[Parse(word='.', tag=OpencorporaTag('PNCT'), normal_form='.', score=1.0, methods_stack=((PunctuationAnalyzer(score=0.9), '.'),))]"
            ]
          },
          "metadata": {},
          "execution_count": 54
        }
      ]
    },
    {
      "cell_type": "markdown",
      "source": [
        "Незнакомые слова"
      ],
      "metadata": {
        "id": "rgl81rAvE9Gu"
      }
    },
    {
      "cell_type": "code",
      "source": [
        "morph.parse('варкалось')"
      ],
      "metadata": {
        "colab": {
          "base_uri": "https://localhost:8080/"
        },
        "id": "jNWR8etkE8dm",
        "outputId": "3a7a80a2-c961-4123-806a-fec5f326483c"
      },
      "execution_count": null,
      "outputs": [
        {
          "output_type": "execute_result",
          "data": {
            "text/plain": [
              "[Parse(word='варкалось', tag=OpencorporaTag('NOUN,anim,masc sing,nomn'), normal_form='варкалось', score=0.5000531180282588, methods_stack=((DictionaryAnalyzer(), 'лось', 123, 0), (UnknownPrefixAnalyzer(score_multiplier=0.5), 'варка'))),\n",
              " Parse(word='варкалось', tag=OpencorporaTag('VERB,impf,intr neut,sing,past,indc'), normal_form='варкаться', score=0.4999468819717412, methods_stack=((FakeDictionary(), 'варкалось', 234, 9), (KnownSuffixAnalyzer(min_word_length=4, score_multiplier=0.5), 'алось')))]"
            ]
          },
          "metadata": {},
          "execution_count": 55
        }
      ]
    },
    {
      "cell_type": "code",
      "source": [
        "morph.parse('хливкие')"
      ],
      "metadata": {
        "colab": {
          "base_uri": "https://localhost:8080/"
        },
        "id": "YITjINtSFK6H",
        "outputId": "f0c3aed7-29b6-4eef-ebdb-1355a09a1974"
      },
      "execution_count": null,
      "outputs": [
        {
          "output_type": "execute_result",
          "data": {
            "text/plain": [
              "[Parse(word='хливкие', tag=OpencorporaTag('NOUN,inan,masc sing,loct'), normal_form='хливкий', score=0.5294117647058824, methods_stack=((DictionaryAnalyzer(), 'кие', 1776, 6), (UnknownPrefixAnalyzer(score_multiplier=0.5), 'хлив'))),\n",
              " Parse(word='хливкие', tag=OpencorporaTag('ADJF plur,nomn'), normal_form='хливкий', score=0.23529411764705882, methods_stack=((FakeDictionary(), 'хливкие', 511, 20), (KnownSuffixAnalyzer(min_word_length=4, score_multiplier=0.5), 'вкие'))),\n",
              " Parse(word='хливкие', tag=OpencorporaTag('ADJF inan,plur,accs'), normal_form='хливкий', score=0.23529411764705882, methods_stack=((FakeDictionary(), 'хливкие', 511, 24), (KnownSuffixAnalyzer(min_word_length=4, score_multiplier=0.5), 'вкие')))]"
            ]
          },
          "metadata": {},
          "execution_count": 56
        }
      ]
    },
    {
      "cell_type": "code",
      "source": [
        "morph.parse('шорьки')"
      ],
      "metadata": {
        "colab": {
          "base_uri": "https://localhost:8080/"
        },
        "id": "s0v9_NdeFZF8",
        "outputId": "991de054-6c86-47a7-e424-abb9d09b0d6b"
      },
      "execution_count": null,
      "outputs": [
        {
          "output_type": "execute_result",
          "data": {
            "text/plain": [
              "[Parse(word='шорьки', tag=OpencorporaTag('NOUN,inan,masc plur,nomn'), normal_form='шорёк', score=0.5, methods_stack=((FakeDictionary(), 'шорьки', 628, 6), (KnownSuffixAnalyzer(min_word_length=4, score_multiplier=0.5), 'орьки'))),\n",
              " Parse(word='шорьки', tag=OpencorporaTag('NOUN,inan,masc plur,accs'), normal_form='шорёк', score=0.5, methods_stack=((FakeDictionary(), 'шорьки', 628, 9), (KnownSuffixAnalyzer(min_word_length=4, score_multiplier=0.5), 'орьки')))]"
            ]
          },
          "metadata": {},
          "execution_count": 57
        }
      ]
    },
    {
      "cell_type": "markdown",
      "source": [
        "Склонение слов"
      ],
      "metadata": {
        "id": "AJFkGGeJHMot"
      }
    },
    {
      "cell_type": "code",
      "source": [
        "m = morph.parse('кот')[0]"
      ],
      "metadata": {
        "id": "pHZ0pAAVHPR2"
      },
      "execution_count": null,
      "outputs": []
    },
    {
      "cell_type": "code",
      "source": [
        "m"
      ],
      "metadata": {
        "colab": {
          "base_uri": "https://localhost:8080/"
        },
        "id": "eIMlEwDEHfeN",
        "outputId": "b58574b7-9ef2-422a-edee-559e109763c0"
      },
      "execution_count": null,
      "outputs": [
        {
          "output_type": "execute_result",
          "data": {
            "text/plain": [
              "Parse(word='кот', tag=OpencorporaTag('NOUN,anim,masc sing,nomn'), normal_form='кот', score=1.0, methods_stack=((DictionaryAnalyzer(), 'кот', 52, 0),))"
            ]
          },
          "metadata": {},
          "execution_count": 59
        }
      ]
    },
    {
      "cell_type": "code",
      "source": [
        "m.inflect({'gent'})"
      ],
      "metadata": {
        "colab": {
          "base_uri": "https://localhost:8080/"
        },
        "id": "W_Oh6nsqHhEz",
        "outputId": "9987c27b-b0c8-47fe-9752-fa464cd45640"
      },
      "execution_count": null,
      "outputs": [
        {
          "output_type": "execute_result",
          "data": {
            "text/plain": [
              "Parse(word='кота', tag=OpencorporaTag('NOUN,anim,masc sing,gent'), normal_form='кот', score=1.0, methods_stack=((DictionaryAnalyzer(), 'кота', 52, 1),))"
            ]
          },
          "metadata": {},
          "execution_count": 60
        }
      ]
    },
    {
      "cell_type": "code",
      "source": [
        "m.inflect({'datv'})"
      ],
      "metadata": {
        "colab": {
          "base_uri": "https://localhost:8080/"
        },
        "id": "ds5WBNLnH26y",
        "outputId": "f7e39357-1adf-480e-97d3-4d57b9a920d8"
      },
      "execution_count": null,
      "outputs": [
        {
          "output_type": "execute_result",
          "data": {
            "text/plain": [
              "Parse(word='коту', tag=OpencorporaTag('NOUN,anim,masc sing,datv'), normal_form='кот', score=1.0, methods_stack=((DictionaryAnalyzer(), 'коту', 52, 2),))"
            ]
          },
          "metadata": {},
          "execution_count": 61
        }
      ]
    },
    {
      "cell_type": "code",
      "source": [
        "last_name = morph.parse('Сегалович')[0]"
      ],
      "metadata": {
        "id": "xMFyk4psICK2"
      },
      "execution_count": null,
      "outputs": []
    },
    {
      "cell_type": "code",
      "source": [
        "last_name.inflect({'gent'})"
      ],
      "metadata": {
        "colab": {
          "base_uri": "https://localhost:8080/"
        },
        "id": "EZpJbqL7IGTL",
        "outputId": "38139485-8c86-4d73-82da-641ba5ee2bf1"
      },
      "execution_count": null,
      "outputs": [
        {
          "output_type": "execute_result",
          "data": {
            "text/plain": [
              "Parse(word='сегаловича', tag=OpencorporaTag('NOUN,anim,masc,Patr sing,gent'), normal_form='сегалович', score=1.0, methods_stack=((DictionaryAnalyzer(), 'аловича', 26, 1), (UnknownPrefixAnalyzer(score_multiplier=0.5), 'сег')))"
            ]
          },
          "metadata": {},
          "execution_count": 63
        }
      ]
    },
    {
      "cell_type": "markdown",
      "source": [
        "## Полезные ссылки\n",
        "\n",
        "1. [Библиотека pymorphy2](https://pymorphy2.readthedocs.io/en/stable/index.html).\n",
        "2. [Открытый корпус текстов OpenCorpora](http://opencorpora.org/).\n",
        "\n",
        "## Благодарности\n",
        "\n",
        "Проект реализуется победителем Конкурса на предоставление грантов преподавателям магистратуры 2020/2021 благотворительной программы «Стипендиальная программа Владимира Потанина» Благотворительного фонда Владимира Потанина."
      ],
      "metadata": {
        "id": "bYJZDtfVMVDk"
      }
    }
  ]
}