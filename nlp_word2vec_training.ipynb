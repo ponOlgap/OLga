{
  "nbformat": 4,
  "nbformat_minor": 0,
  "metadata": {
    "colab": {
      "provenance": [],
      "include_colab_link": true
    },
    "kernelspec": {
      "name": "python3",
      "display_name": "Python 3"
    },
    "language_info": {
      "name": "python"
    }
  },
  "cells": [
    {
      "cell_type": "markdown",
      "metadata": {
        "id": "view-in-github",
        "colab_type": "text"
      },
      "source": [
        "<a href=\"https://colab.research.google.com/github/ponOlgap/OLga/blob/main/nlp_word2vec_training.ipynb\" target=\"_parent\"><img src=\"https://colab.research.google.com/assets/colab-badge.svg\" alt=\"Open In Colab\"/></a>"
      ]
    },
    {
      "cell_type": "markdown",
      "source": [
        "# Обучение Word2Vec на своих данных"
      ],
      "metadata": {
        "id": "am-zxC3b5Dph"
      }
    },
    {
      "cell_type": "markdown",
      "source": [
        "### Загружаем и готовим данные отзывов на банки"
      ],
      "metadata": {
        "id": "NfYhM78d9D3u"
      }
    },
    {
      "cell_type": "code",
      "source": [
        "!pip install pymorphy2[fast] "
      ],
      "metadata": {
        "colab": {
          "base_uri": "https://localhost:8080/"
        },
        "id": "Qk6ujTN_9QHC",
        "outputId": "687a1595-1309-481d-ffe7-20014e839792"
      },
      "execution_count": null,
      "outputs": [
        {
          "output_type": "stream",
          "name": "stdout",
          "text": [
            "Looking in indexes: https://pypi.org/simple, https://us-python.pkg.dev/colab-wheels/public/simple/\n",
            "Requirement already satisfied: pymorphy2[fast] in /usr/local/lib/python3.8/dist-packages (0.9.1)\n",
            "Requirement already satisfied: docopt>=0.6 in /usr/local/lib/python3.8/dist-packages (from pymorphy2[fast]) (0.6.2)\n",
            "Requirement already satisfied: pymorphy2-dicts-ru<3.0,>=2.4 in /usr/local/lib/python3.8/dist-packages (from pymorphy2[fast]) (2.4.417127.4579844)\n",
            "Requirement already satisfied: dawg-python>=0.7.1 in /usr/local/lib/python3.8/dist-packages (from pymorphy2[fast]) (0.7.2)\n",
            "Requirement already satisfied: DAWG>=0.8 in /usr/local/lib/python3.8/dist-packages (from pymorphy2[fast]) (0.8.0)\n"
          ]
        }
      ]
    },
    {
      "cell_type": "code",
      "source": [
        "import pandas as pd\n",
        "import pymorphy2\n",
        "import nltk\n",
        "from nltk.tokenize import word_tokenize\n",
        "from nltk.corpus import stopwords"
      ],
      "metadata": {
        "id": "7BGHAIRc9XEX"
      },
      "execution_count": null,
      "outputs": []
    },
    {
      "cell_type": "code",
      "source": [
        "nltk.download('punkt')\n",
        "nltk.download('stopwords')"
      ],
      "metadata": {
        "colab": {
          "base_uri": "https://localhost:8080/"
        },
        "id": "McleApuC9d4S",
        "outputId": "02a411d5-7c80-43e0-d86c-86948261d251"
      },
      "execution_count": null,
      "outputs": [
        {
          "output_type": "stream",
          "name": "stderr",
          "text": [
            "[nltk_data] Downloading package punkt to /root/nltk_data...\n",
            "[nltk_data]   Unzipping tokenizers/punkt.zip.\n",
            "[nltk_data] Downloading package stopwords to /root/nltk_data...\n",
            "[nltk_data]   Unzipping corpora/stopwords.zip.\n"
          ]
        },
        {
          "output_type": "execute_result",
          "data": {
            "text/plain": [
              "True"
            ]
          },
          "metadata": {},
          "execution_count": 4
        }
      ]
    },
    {
      "cell_type": "code",
      "source": [
        "def preprocess(text, stop_words, punctuation_marks, morph):\n",
        "    tokens = word_tokenize(text.lower())\n",
        "    preprocessed_text = []\n",
        "    for token in tokens:\n",
        "        if token not in punctuation_marks:\n",
        "            lemma = morph.parse(token)[0].normal_form\n",
        "            if lemma not in stop_words:\n",
        "                preprocessed_text.append(lemma)\n",
        "    return preprocessed_text"
      ],
      "metadata": {
        "id": "6djhDUbN99lv"
      },
      "execution_count": null,
      "outputs": []
    },
    {
      "cell_type": "code",
      "source": [
        "punctuation_marks = ['!', ',', '(', ')', ':', '-', '?', '.', '..', '...']\n",
        "stop_words = stopwords.words(\"russian\")\n",
        "morph = pymorphy2.MorphAnalyzer()"
      ],
      "metadata": {
        "id": "0oi3JCSz9-ex"
      },
      "execution_count": null,
      "outputs": []
    },
    {
      "cell_type": "code",
      "source": [
        "!wget https://www.dropbox.com/s/a9r0b2yj3vqvi13/banks.csv?dl=1 -O banks.csv"
      ],
      "metadata": {
        "colab": {
          "base_uri": "https://localhost:8080/"
        },
        "id": "yVeE69hG9gIT",
        "outputId": "69007c56-0498-4d6b-afb0-b4600eb2ac00"
      },
      "execution_count": null,
      "outputs": [
        {
          "output_type": "stream",
          "name": "stdout",
          "text": [
            "--2023-01-04 10:25:23--  https://www.dropbox.com/s/a9r0b2yj3vqvi13/banks.csv?dl=1\n",
            "Resolving www.dropbox.com (www.dropbox.com)... 162.125.5.18, 2620:100:601d:18::a27d:512\n",
            "Connecting to www.dropbox.com (www.dropbox.com)|162.125.5.18|:443... connected.\n",
            "HTTP request sent, awaiting response... 302 Found\n",
            "Location: /s/dl/a9r0b2yj3vqvi13/banks.csv [following]\n",
            "--2023-01-04 10:25:23--  https://www.dropbox.com/s/dl/a9r0b2yj3vqvi13/banks.csv\n",
            "Reusing existing connection to www.dropbox.com:443.\n",
            "HTTP request sent, awaiting response... 302 Found\n",
            "Location: https://uc256da34706daf41e9c9ebf009f.dl.dropboxusercontent.com/cd/0/get/Bz56Nwt5EvuoAfXyOI46tqZNRUn2l5er5yTq7SbPR3x3K17HXvo8oOHXWuB42FMsxlvmH0H6TVFee_Jdf6TaD_tivum1ALEzozWxEo4qc-9LdBEZE1evYNgP7e2lJZypG0OR76cPuH7qzMFywQ4jL0nYhUghoPXyq7OnHFyXgE6x_g/file?dl=1# [following]\n",
            "--2023-01-04 10:25:23--  https://uc256da34706daf41e9c9ebf009f.dl.dropboxusercontent.com/cd/0/get/Bz56Nwt5EvuoAfXyOI46tqZNRUn2l5er5yTq7SbPR3x3K17HXvo8oOHXWuB42FMsxlvmH0H6TVFee_Jdf6TaD_tivum1ALEzozWxEo4qc-9LdBEZE1evYNgP7e2lJZypG0OR76cPuH7qzMFywQ4jL0nYhUghoPXyq7OnHFyXgE6x_g/file?dl=1\n",
            "Resolving uc256da34706daf41e9c9ebf009f.dl.dropboxusercontent.com (uc256da34706daf41e9c9ebf009f.dl.dropboxusercontent.com)... 162.125.5.15, 2620:100:601d:15::a27d:50f\n",
            "Connecting to uc256da34706daf41e9c9ebf009f.dl.dropboxusercontent.com (uc256da34706daf41e9c9ebf009f.dl.dropboxusercontent.com)|162.125.5.15|:443... connected.\n",
            "HTTP request sent, awaiting response... 200 OK\n",
            "Length: 40746652 (39M) [application/binary]\n",
            "Saving to: ‘banks.csv’\n",
            "\n",
            "banks.csv           100%[===================>]  38.86M  59.4MB/s    in 0.7s    \n",
            "\n",
            "2023-01-04 10:25:24 (59.4 MB/s) - ‘banks.csv’ saved [40746652/40746652]\n",
            "\n"
          ]
        }
      ]
    },
    {
      "cell_type": "code",
      "source": [
        "banks = pd.read_csv('banks.csv', sep='\\t', index_col='idx');"
      ],
      "metadata": {
        "id": "I3bToSmz9zYn"
      },
      "execution_count": null,
      "outputs": []
    },
    {
      "cell_type": "code",
      "source": [
        "banks"
      ],
      "metadata": {
        "colab": {
          "base_uri": "https://localhost:8080/",
          "height": 455
        },
        "id": "haWbnlgB-F1F",
        "outputId": "dc829f0a-1cad-454b-de0d-6337db963744"
      },
      "execution_count": null,
      "outputs": [
        {
          "output_type": "execute_result",
          "data": {
            "text/plain": [
              "          Score                                               Text  \\\n",
              "idx                                                                  \n",
              "0      Positive  В Альфа-Банке работает замечательная девушка -...   \n",
              "1      Negative  Оформляя рассрочку в м. Видео в меге тёплый ст...   \n",
              "2      Positive  Очень порадовала оперативность работы в банке....   \n",
              "3      Negative  Имела неосторожность оформить потреб. кредит в...   \n",
              "4      Negative  Небольшая предыстория: Нашел на сайте MDM банк...   \n",
              "...         ...                                                ...   \n",
              "13994  Positive  О высокой надёжности МКБ, порядочности и добро...   \n",
              "13995  Positive  Обслуживаюсь в офисе на Чернореченской 42а, ка...   \n",
              "13996  Positive  Попала сегодня в очень неприятную ситуацию. Ре...   \n",
              "13997  Positive  Добрый день! Давно являюсь клиентом банка Русс...   \n",
              "13998  Negative  Сначала было все банально. Взял в кредит mp3 п...   \n",
              "\n",
              "                                      Preprocessed_texts  \n",
              "idx                                                       \n",
              "0      [альфа-банк, работать, замечательный, девушка,...  \n",
              "1      [оформлять, рассрочка, м., видео, мег, тёплый,...  \n",
              "2      [очень, порадовать, оперативность, работа, бан...  \n",
              "3      [иметь, неосторожность, оформить, потреба, кре...  \n",
              "4      [небольшой, предыстория, найти, сайт, mdm, бан...  \n",
              "...                                                  ...  \n",
              "13994  [высокий, надёжность, мкб, порядочность, добро...  \n",
              "13995  [обслуживаться, офис, чернореченский, 42а, физ...  \n",
              "13996  [попасть, сегодня, очень, неприятный, ситуация...  \n",
              "13997  [добрый, день, давно, являться, клиент, банк, ...  \n",
              "13998  [сначала, банально, взять, кредит, mp3, плеер,...  \n",
              "\n",
              "[13999 rows x 3 columns]"
            ],
            "text/html": [
              "\n",
              "  <div id=\"df-5388ca8f-41f7-4ee8-92eb-bb90d9bde9e9\">\n",
              "    <div class=\"colab-df-container\">\n",
              "      <div>\n",
              "<style scoped>\n",
              "    .dataframe tbody tr th:only-of-type {\n",
              "        vertical-align: middle;\n",
              "    }\n",
              "\n",
              "    .dataframe tbody tr th {\n",
              "        vertical-align: top;\n",
              "    }\n",
              "\n",
              "    .dataframe thead th {\n",
              "        text-align: right;\n",
              "    }\n",
              "</style>\n",
              "<table border=\"1\" class=\"dataframe\">\n",
              "  <thead>\n",
              "    <tr style=\"text-align: right;\">\n",
              "      <th></th>\n",
              "      <th>Score</th>\n",
              "      <th>Text</th>\n",
              "      <th>Preprocessed_texts</th>\n",
              "    </tr>\n",
              "    <tr>\n",
              "      <th>idx</th>\n",
              "      <th></th>\n",
              "      <th></th>\n",
              "      <th></th>\n",
              "    </tr>\n",
              "  </thead>\n",
              "  <tbody>\n",
              "    <tr>\n",
              "      <th>0</th>\n",
              "      <td>Positive</td>\n",
              "      <td>В Альфа-Банке работает замечательная девушка -...</td>\n",
              "      <td>[альфа-банк, работать, замечательный, девушка,...</td>\n",
              "    </tr>\n",
              "    <tr>\n",
              "      <th>1</th>\n",
              "      <td>Negative</td>\n",
              "      <td>Оформляя рассрочку в м. Видео в меге тёплый ст...</td>\n",
              "      <td>[оформлять, рассрочка, м., видео, мег, тёплый,...</td>\n",
              "    </tr>\n",
              "    <tr>\n",
              "      <th>2</th>\n",
              "      <td>Positive</td>\n",
              "      <td>Очень порадовала оперативность работы в банке....</td>\n",
              "      <td>[очень, порадовать, оперативность, работа, бан...</td>\n",
              "    </tr>\n",
              "    <tr>\n",
              "      <th>3</th>\n",
              "      <td>Negative</td>\n",
              "      <td>Имела неосторожность оформить потреб. кредит в...</td>\n",
              "      <td>[иметь, неосторожность, оформить, потреба, кре...</td>\n",
              "    </tr>\n",
              "    <tr>\n",
              "      <th>4</th>\n",
              "      <td>Negative</td>\n",
              "      <td>Небольшая предыстория: Нашел на сайте MDM банк...</td>\n",
              "      <td>[небольшой, предыстория, найти, сайт, mdm, бан...</td>\n",
              "    </tr>\n",
              "    <tr>\n",
              "      <th>...</th>\n",
              "      <td>...</td>\n",
              "      <td>...</td>\n",
              "      <td>...</td>\n",
              "    </tr>\n",
              "    <tr>\n",
              "      <th>13994</th>\n",
              "      <td>Positive</td>\n",
              "      <td>О высокой надёжности МКБ, порядочности и добро...</td>\n",
              "      <td>[высокий, надёжность, мкб, порядочность, добро...</td>\n",
              "    </tr>\n",
              "    <tr>\n",
              "      <th>13995</th>\n",
              "      <td>Positive</td>\n",
              "      <td>Обслуживаюсь в офисе на Чернореченской 42а, ка...</td>\n",
              "      <td>[обслуживаться, офис, чернореченский, 42а, физ...</td>\n",
              "    </tr>\n",
              "    <tr>\n",
              "      <th>13996</th>\n",
              "      <td>Positive</td>\n",
              "      <td>Попала сегодня в очень неприятную ситуацию. Ре...</td>\n",
              "      <td>[попасть, сегодня, очень, неприятный, ситуация...</td>\n",
              "    </tr>\n",
              "    <tr>\n",
              "      <th>13997</th>\n",
              "      <td>Positive</td>\n",
              "      <td>Добрый день! Давно являюсь клиентом банка Русс...</td>\n",
              "      <td>[добрый, день, давно, являться, клиент, банк, ...</td>\n",
              "    </tr>\n",
              "    <tr>\n",
              "      <th>13998</th>\n",
              "      <td>Negative</td>\n",
              "      <td>Сначала было все банально. Взял в кредит mp3 п...</td>\n",
              "      <td>[сначала, банально, взять, кредит, mp3, плеер,...</td>\n",
              "    </tr>\n",
              "  </tbody>\n",
              "</table>\n",
              "<p>13999 rows × 3 columns</p>\n",
              "</div>\n",
              "      <button class=\"colab-df-convert\" onclick=\"convertToInteractive('df-5388ca8f-41f7-4ee8-92eb-bb90d9bde9e9')\"\n",
              "              title=\"Convert this dataframe to an interactive table.\"\n",
              "              style=\"display:none;\">\n",
              "        \n",
              "  <svg xmlns=\"http://www.w3.org/2000/svg\" height=\"24px\"viewBox=\"0 0 24 24\"\n",
              "       width=\"24px\">\n",
              "    <path d=\"M0 0h24v24H0V0z\" fill=\"none\"/>\n",
              "    <path d=\"M18.56 5.44l.94 2.06.94-2.06 2.06-.94-2.06-.94-.94-2.06-.94 2.06-2.06.94zm-11 1L8.5 8.5l.94-2.06 2.06-.94-2.06-.94L8.5 2.5l-.94 2.06-2.06.94zm10 10l.94 2.06.94-2.06 2.06-.94-2.06-.94-.94-2.06-.94 2.06-2.06.94z\"/><path d=\"M17.41 7.96l-1.37-1.37c-.4-.4-.92-.59-1.43-.59-.52 0-1.04.2-1.43.59L10.3 9.45l-7.72 7.72c-.78.78-.78 2.05 0 2.83L4 21.41c.39.39.9.59 1.41.59.51 0 1.02-.2 1.41-.59l7.78-7.78 2.81-2.81c.8-.78.8-2.07 0-2.86zM5.41 20L4 18.59l7.72-7.72 1.47 1.35L5.41 20z\"/>\n",
              "  </svg>\n",
              "      </button>\n",
              "      \n",
              "  <style>\n",
              "    .colab-df-container {\n",
              "      display:flex;\n",
              "      flex-wrap:wrap;\n",
              "      gap: 12px;\n",
              "    }\n",
              "\n",
              "    .colab-df-convert {\n",
              "      background-color: #E8F0FE;\n",
              "      border: none;\n",
              "      border-radius: 50%;\n",
              "      cursor: pointer;\n",
              "      display: none;\n",
              "      fill: #1967D2;\n",
              "      height: 32px;\n",
              "      padding: 0 0 0 0;\n",
              "      width: 32px;\n",
              "    }\n",
              "\n",
              "    .colab-df-convert:hover {\n",
              "      background-color: #E2EBFA;\n",
              "      box-shadow: 0px 1px 2px rgba(60, 64, 67, 0.3), 0px 1px 3px 1px rgba(60, 64, 67, 0.15);\n",
              "      fill: #174EA6;\n",
              "    }\n",
              "\n",
              "    [theme=dark] .colab-df-convert {\n",
              "      background-color: #3B4455;\n",
              "      fill: #D2E3FC;\n",
              "    }\n",
              "\n",
              "    [theme=dark] .colab-df-convert:hover {\n",
              "      background-color: #434B5C;\n",
              "      box-shadow: 0px 1px 3px 1px rgba(0, 0, 0, 0.15);\n",
              "      filter: drop-shadow(0px 1px 2px rgba(0, 0, 0, 0.3));\n",
              "      fill: #FFFFFF;\n",
              "    }\n",
              "  </style>\n",
              "\n",
              "      <script>\n",
              "        const buttonEl =\n",
              "          document.querySelector('#df-5388ca8f-41f7-4ee8-92eb-bb90d9bde9e9 button.colab-df-convert');\n",
              "        buttonEl.style.display =\n",
              "          google.colab.kernel.accessAllowed ? 'block' : 'none';\n",
              "\n",
              "        async function convertToInteractive(key) {\n",
              "          const element = document.querySelector('#df-5388ca8f-41f7-4ee8-92eb-bb90d9bde9e9');\n",
              "          const dataTable =\n",
              "            await google.colab.kernel.invokeFunction('convertToInteractive',\n",
              "                                                     [key], {});\n",
              "          if (!dataTable) return;\n",
              "\n",
              "          const docLinkHtml = 'Like what you see? Visit the ' +\n",
              "            '<a target=\"_blank\" href=https://colab.research.google.com/notebooks/data_table.ipynb>data table notebook</a>'\n",
              "            + ' to learn more about interactive tables.';\n",
              "          element.innerHTML = '';\n",
              "          dataTable['output_type'] = 'display_data';\n",
              "          await google.colab.output.renderOutput(dataTable, element);\n",
              "          const docLink = document.createElement('div');\n",
              "          docLink.innerHTML = docLinkHtml;\n",
              "          element.appendChild(docLink);\n",
              "        }\n",
              "      </script>\n",
              "    </div>\n",
              "  </div>\n",
              "  "
            ]
          },
          "metadata": {},
          "execution_count": 23
        }
      ]
    },
    {
      "cell_type": "code",
      "source": [
        "banks['Preprocessed_texts'] = banks.apply(lambda row: preprocess(row['Text'], punctuation_marks, stop_words, morph), axis=1)"
      ],
      "metadata": {
        "id": "xESzC3x_JI4_"
      },
      "execution_count": null,
      "outputs": []
    },
    {
      "cell_type": "code",
      "source": [
        "banks"
      ],
      "metadata": {
        "colab": {
          "base_uri": "https://localhost:8080/",
          "height": 455
        },
        "id": "2ifHbDadJbCA",
        "outputId": "41b827ac-6054-4265-b686-7395893601bc"
      },
      "execution_count": null,
      "outputs": [
        {
          "output_type": "execute_result",
          "data": {
            "text/plain": [
              "          Score                                               Text  \\\n",
              "idx                                                                  \n",
              "0      Positive  В Альфа-Банке работает замечательная девушка -...   \n",
              "1      Negative  Оформляя рассрочку в м. Видео в меге тёплый ст...   \n",
              "2      Positive  Очень порадовала оперативность работы в банке....   \n",
              "3      Negative  Имела неосторожность оформить потреб. кредит в...   \n",
              "4      Negative  Небольшая предыстория: Нашел на сайте MDM банк...   \n",
              "...         ...                                                ...   \n",
              "13994  Positive  О высокой надёжности МКБ, порядочности и добро...   \n",
              "13995  Positive  Обслуживаюсь в офисе на Чернореченской 42а, ка...   \n",
              "13996  Positive  Попала сегодня в очень неприятную ситуацию. Ре...   \n",
              "13997  Positive  Добрый день! Давно являюсь клиентом банка Русс...   \n",
              "13998  Negative  Сначала было все банально. Взял в кредит mp3 п...   \n",
              "\n",
              "                                      Preprocessed_texts  \n",
              "idx                                                       \n",
              "0      [альфа-банк, работать, замечательный, девушка,...  \n",
              "1      [оформлять, рассрочка, м., видео, мег, тёплый,...  \n",
              "2      [очень, порадовать, оперативность, работа, бан...  \n",
              "3      [иметь, неосторожность, оформить, потреба, кре...  \n",
              "4      [небольшой, предыстория, найти, сайт, mdm, бан...  \n",
              "...                                                  ...  \n",
              "13994  [высокий, надёжность, мкб, порядочность, добро...  \n",
              "13995  [обслуживаться, офис, чернореченский, 42а, физ...  \n",
              "13996  [попасть, сегодня, очень, неприятный, ситуация...  \n",
              "13997  [добрый, день, давно, являться, клиент, банк, ...  \n",
              "13998  [сначала, банально, взять, кредит, mp3, плеер,...  \n",
              "\n",
              "[13999 rows x 3 columns]"
            ],
            "text/html": [
              "\n",
              "  <div id=\"df-7e8dc571-0cf2-4081-93a2-5bfec1e5fac4\">\n",
              "    <div class=\"colab-df-container\">\n",
              "      <div>\n",
              "<style scoped>\n",
              "    .dataframe tbody tr th:only-of-type {\n",
              "        vertical-align: middle;\n",
              "    }\n",
              "\n",
              "    .dataframe tbody tr th {\n",
              "        vertical-align: top;\n",
              "    }\n",
              "\n",
              "    .dataframe thead th {\n",
              "        text-align: right;\n",
              "    }\n",
              "</style>\n",
              "<table border=\"1\" class=\"dataframe\">\n",
              "  <thead>\n",
              "    <tr style=\"text-align: right;\">\n",
              "      <th></th>\n",
              "      <th>Score</th>\n",
              "      <th>Text</th>\n",
              "      <th>Preprocessed_texts</th>\n",
              "    </tr>\n",
              "    <tr>\n",
              "      <th>idx</th>\n",
              "      <th></th>\n",
              "      <th></th>\n",
              "      <th></th>\n",
              "    </tr>\n",
              "  </thead>\n",
              "  <tbody>\n",
              "    <tr>\n",
              "      <th>0</th>\n",
              "      <td>Positive</td>\n",
              "      <td>В Альфа-Банке работает замечательная девушка -...</td>\n",
              "      <td>[альфа-банк, работать, замечательный, девушка,...</td>\n",
              "    </tr>\n",
              "    <tr>\n",
              "      <th>1</th>\n",
              "      <td>Negative</td>\n",
              "      <td>Оформляя рассрочку в м. Видео в меге тёплый ст...</td>\n",
              "      <td>[оформлять, рассрочка, м., видео, мег, тёплый,...</td>\n",
              "    </tr>\n",
              "    <tr>\n",
              "      <th>2</th>\n",
              "      <td>Positive</td>\n",
              "      <td>Очень порадовала оперативность работы в банке....</td>\n",
              "      <td>[очень, порадовать, оперативность, работа, бан...</td>\n",
              "    </tr>\n",
              "    <tr>\n",
              "      <th>3</th>\n",
              "      <td>Negative</td>\n",
              "      <td>Имела неосторожность оформить потреб. кредит в...</td>\n",
              "      <td>[иметь, неосторожность, оформить, потреба, кре...</td>\n",
              "    </tr>\n",
              "    <tr>\n",
              "      <th>4</th>\n",
              "      <td>Negative</td>\n",
              "      <td>Небольшая предыстория: Нашел на сайте MDM банк...</td>\n",
              "      <td>[небольшой, предыстория, найти, сайт, mdm, бан...</td>\n",
              "    </tr>\n",
              "    <tr>\n",
              "      <th>...</th>\n",
              "      <td>...</td>\n",
              "      <td>...</td>\n",
              "      <td>...</td>\n",
              "    </tr>\n",
              "    <tr>\n",
              "      <th>13994</th>\n",
              "      <td>Positive</td>\n",
              "      <td>О высокой надёжности МКБ, порядочности и добро...</td>\n",
              "      <td>[высокий, надёжность, мкб, порядочность, добро...</td>\n",
              "    </tr>\n",
              "    <tr>\n",
              "      <th>13995</th>\n",
              "      <td>Positive</td>\n",
              "      <td>Обслуживаюсь в офисе на Чернореченской 42а, ка...</td>\n",
              "      <td>[обслуживаться, офис, чернореченский, 42а, физ...</td>\n",
              "    </tr>\n",
              "    <tr>\n",
              "      <th>13996</th>\n",
              "      <td>Positive</td>\n",
              "      <td>Попала сегодня в очень неприятную ситуацию. Ре...</td>\n",
              "      <td>[попасть, сегодня, очень, неприятный, ситуация...</td>\n",
              "    </tr>\n",
              "    <tr>\n",
              "      <th>13997</th>\n",
              "      <td>Positive</td>\n",
              "      <td>Добрый день! Давно являюсь клиентом банка Русс...</td>\n",
              "      <td>[добрый, день, давно, являться, клиент, банк, ...</td>\n",
              "    </tr>\n",
              "    <tr>\n",
              "      <th>13998</th>\n",
              "      <td>Negative</td>\n",
              "      <td>Сначала было все банально. Взял в кредит mp3 п...</td>\n",
              "      <td>[сначала, банально, взять, кредит, mp3, плеер,...</td>\n",
              "    </tr>\n",
              "  </tbody>\n",
              "</table>\n",
              "<p>13999 rows × 3 columns</p>\n",
              "</div>\n",
              "      <button class=\"colab-df-convert\" onclick=\"convertToInteractive('df-7e8dc571-0cf2-4081-93a2-5bfec1e5fac4')\"\n",
              "              title=\"Convert this dataframe to an interactive table.\"\n",
              "              style=\"display:none;\">\n",
              "        \n",
              "  <svg xmlns=\"http://www.w3.org/2000/svg\" height=\"24px\"viewBox=\"0 0 24 24\"\n",
              "       width=\"24px\">\n",
              "    <path d=\"M0 0h24v24H0V0z\" fill=\"none\"/>\n",
              "    <path d=\"M18.56 5.44l.94 2.06.94-2.06 2.06-.94-2.06-.94-.94-2.06-.94 2.06-2.06.94zm-11 1L8.5 8.5l.94-2.06 2.06-.94-2.06-.94L8.5 2.5l-.94 2.06-2.06.94zm10 10l.94 2.06.94-2.06 2.06-.94-2.06-.94-.94-2.06-.94 2.06-2.06.94z\"/><path d=\"M17.41 7.96l-1.37-1.37c-.4-.4-.92-.59-1.43-.59-.52 0-1.04.2-1.43.59L10.3 9.45l-7.72 7.72c-.78.78-.78 2.05 0 2.83L4 21.41c.39.39.9.59 1.41.59.51 0 1.02-.2 1.41-.59l7.78-7.78 2.81-2.81c.8-.78.8-2.07 0-2.86zM5.41 20L4 18.59l7.72-7.72 1.47 1.35L5.41 20z\"/>\n",
              "  </svg>\n",
              "      </button>\n",
              "      \n",
              "  <style>\n",
              "    .colab-df-container {\n",
              "      display:flex;\n",
              "      flex-wrap:wrap;\n",
              "      gap: 12px;\n",
              "    }\n",
              "\n",
              "    .colab-df-convert {\n",
              "      background-color: #E8F0FE;\n",
              "      border: none;\n",
              "      border-radius: 50%;\n",
              "      cursor: pointer;\n",
              "      display: none;\n",
              "      fill: #1967D2;\n",
              "      height: 32px;\n",
              "      padding: 0 0 0 0;\n",
              "      width: 32px;\n",
              "    }\n",
              "\n",
              "    .colab-df-convert:hover {\n",
              "      background-color: #E2EBFA;\n",
              "      box-shadow: 0px 1px 2px rgba(60, 64, 67, 0.3), 0px 1px 3px 1px rgba(60, 64, 67, 0.15);\n",
              "      fill: #174EA6;\n",
              "    }\n",
              "\n",
              "    [theme=dark] .colab-df-convert {\n",
              "      background-color: #3B4455;\n",
              "      fill: #D2E3FC;\n",
              "    }\n",
              "\n",
              "    [theme=dark] .colab-df-convert:hover {\n",
              "      background-color: #434B5C;\n",
              "      box-shadow: 0px 1px 3px 1px rgba(0, 0, 0, 0.15);\n",
              "      filter: drop-shadow(0px 1px 2px rgba(0, 0, 0, 0.3));\n",
              "      fill: #FFFFFF;\n",
              "    }\n",
              "  </style>\n",
              "\n",
              "      <script>\n",
              "        const buttonEl =\n",
              "          document.querySelector('#df-7e8dc571-0cf2-4081-93a2-5bfec1e5fac4 button.colab-df-convert');\n",
              "        buttonEl.style.display =\n",
              "          google.colab.kernel.accessAllowed ? 'block' : 'none';\n",
              "\n",
              "        async function convertToInteractive(key) {\n",
              "          const element = document.querySelector('#df-7e8dc571-0cf2-4081-93a2-5bfec1e5fac4');\n",
              "          const dataTable =\n",
              "            await google.colab.kernel.invokeFunction('convertToInteractive',\n",
              "                                                     [key], {});\n",
              "          if (!dataTable) return;\n",
              "\n",
              "          const docLinkHtml = 'Like what you see? Visit the ' +\n",
              "            '<a target=\"_blank\" href=https://colab.research.google.com/notebooks/data_table.ipynb>data table notebook</a>'\n",
              "            + ' to learn more about interactive tables.';\n",
              "          element.innerHTML = '';\n",
              "          dataTable['output_type'] = 'display_data';\n",
              "          await google.colab.output.renderOutput(dataTable, element);\n",
              "          const docLink = document.createElement('div');\n",
              "          docLink.innerHTML = docLinkHtml;\n",
              "          element.appendChild(docLink);\n",
              "        }\n",
              "      </script>\n",
              "    </div>\n",
              "  </div>\n",
              "  "
            ]
          },
          "metadata": {},
          "execution_count": 26
        }
      ]
    },
    {
      "cell_type": "markdown",
      "source": [
        "## Обучение Word2Vec на отзывах на банки"
      ],
      "metadata": {
        "id": "hrFJZ9rsJITw"
      }
    },
    {
      "cell_type": "code",
      "source": [
        "import gensim.models"
      ],
      "metadata": {
        "id": "rJ9GbO29Jkdq"
      },
      "execution_count": null,
      "outputs": []
    },
    {
      "cell_type": "code",
      "source": [
        "model = gensim.models.Word2Vec(sentences=banks['Preprocessed_texts'], \n",
        "                               min_count=5, \n",
        "                               size=50)"
      ],
      "metadata": {
        "colab": {
          "base_uri": "https://localhost:8080/"
        },
        "id": "Bk2Phyi1Jpn4",
        "outputId": "d4f1e244-15dc-45a4-eb89-0aa215f81f08"
      },
      "execution_count": null,
      "outputs": [
        {
          "output_type": "stream",
          "name": "stderr",
          "text": [
            "WARNING:gensim.models.base_any2vec:consider setting layer size to a multiple of 4 for greater performance\n"
          ]
        }
      ]
    },
    {
      "cell_type": "code",
      "source": [
        "model.wv['альфа-банк']"
      ],
      "metadata": {
        "colab": {
          "base_uri": "https://localhost:8080/"
        },
        "id": "Iz8DGArxLCCK",
        "outputId": "3af5ba82-9913-4335-9a6d-471adc732f57"
      },
      "execution_count": null,
      "outputs": [
        {
          "output_type": "execute_result",
          "data": {
            "text/plain": [
              "array([-0.67582554,  0.09333786,  1.2841061 ,  0.22117601, -1.3359143 ,\n",
              "       -0.63284093,  1.2151258 , -0.97850245, -0.5386717 ,  0.0112516 ,\n",
              "       -1.2265394 ,  0.005916  , -1.0933051 , -0.20839642, -0.52589655,\n",
              "       -0.08769987,  2.412167  ,  0.64961123,  0.25804323, -0.04083146,\n",
              "        0.6672046 , -0.3265201 ,  2.5594761 ,  1.0273718 , -0.13025583,\n",
              "        2.6444817 , -1.0277803 , -0.4524542 ,  2.0260072 ,  2.4554467 ,\n",
              "        0.8148205 ,  1.1255558 ,  0.6646109 ,  0.54434544, -1.8296449 ,\n",
              "       -0.36729038, -0.81726134,  0.8093101 ,  1.166986  ,  0.8506786 ,\n",
              "       -0.6846026 ,  0.6666004 , -1.1494051 , -0.0570969 ,  1.0316612 ,\n",
              "        1.3336807 , -2.3100317 ,  0.22831365, -0.6575003 , -0.1081743 ],\n",
              "      dtype=float32)"
            ]
          },
          "metadata": {},
          "execution_count": 29
        }
      ]
    },
    {
      "cell_type": "code",
      "source": [
        "model.wv['работать']"
      ],
      "metadata": {
        "colab": {
          "base_uri": "https://localhost:8080/"
        },
        "id": "dUeMD8Q2K0EZ",
        "outputId": "b918366c-ebd0-4c8b-e5d3-1b3c26b8abe6"
      },
      "execution_count": null,
      "outputs": [
        {
          "output_type": "execute_result",
          "data": {
            "text/plain": [
              "array([ 2.3679025 ,  1.3954632 ,  0.34931025,  0.27092153, -1.4368734 ,\n",
              "       -2.5280778 ,  1.5435917 , -1.1569864 , -0.36349943, -0.04106189,\n",
              "        1.692588  ,  1.0378666 ,  2.4180717 , -1.7165723 ,  0.68022853,\n",
              "       -0.5988546 , -2.1249175 ,  0.0656196 , -3.155901  ,  0.27431718,\n",
              "       -0.63654876,  1.036784  , -0.97147566,  4.027909  , -0.92690325,\n",
              "       -1.5191964 ,  1.4776119 ,  0.37139148, -0.29017103, -0.42492005,\n",
              "       -0.5122879 , -1.619333  , -2.12754   ,  2.4942853 , -2.97094   ,\n",
              "       -0.62447816,  0.8585988 ,  0.28127715,  0.9913378 ,  1.3790923 ,\n",
              "        1.5544053 , -2.0476766 , -0.39888042, -0.54111636,  2.7537246 ,\n",
              "       -0.89333975,  0.1158374 ,  0.3867843 , -0.52389544,  1.0196764 ],\n",
              "      dtype=float32)"
            ]
          },
          "metadata": {},
          "execution_count": 30
        }
      ]
    },
    {
      "cell_type": "code",
      "source": [
        "model.wv.most_similar('замечательный')"
      ],
      "metadata": {
        "colab": {
          "base_uri": "https://localhost:8080/"
        },
        "id": "8rxpdNHPLpIW",
        "outputId": "e1a0bd3e-52f4-440c-af0b-4d82088b7732"
      },
      "execution_count": null,
      "outputs": [
        {
          "output_type": "execute_result",
          "data": {
            "text/plain": [
              "[('прекрасный', 0.7615410089492798),\n",
              " ('супер', 0.7275082468986511),\n",
              " ('великолепный', 0.7198386192321777),\n",
              " ('ситибанк', 0.7179892063140869),\n",
              " ('отличный', 0.71650230884552),\n",
              " ('молодец', 0.7154399156570435),\n",
              " ('достойный', 0.7136120200157166),\n",
              " ('высота', 0.7121762037277222),\n",
              " ('нравиться', 0.7097555994987488),\n",
              " ('пожалуй', 0.7037554383277893)]"
            ]
          },
          "metadata": {},
          "execution_count": 31
        }
      ]
    },
    {
      "cell_type": "code",
      "source": [
        "model.wv.most_similar('стрессовый')"
      ],
      "metadata": {
        "colab": {
          "base_uri": "https://localhost:8080/"
        },
        "id": "ZXbVAG00L3Qz",
        "outputId": "0663df3d-7e27-4b3c-877e-fb00c7d7c7c2"
      },
      "execution_count": null,
      "outputs": [
        {
          "output_type": "execute_result",
          "data": {
            "text/plain": [
              "[('критический', 0.912503182888031),\n",
              " ('прояснение', 0.8987581133842468),\n",
              " ('конфликтный', 0.8855044841766357),\n",
              " ('комичный', 0.8789393901824951),\n",
              " ('тупиковый', 0.8764162063598633),\n",
              " ('нештатный', 0.874748170375824),\n",
              " ('патовый', 0.8660109043121338),\n",
              " ('жизненный', 0.865483820438385),\n",
              " ('безвыходный', 0.8630609512329102),\n",
              " ('затруднительный', 0.8611875176429749)]"
            ]
          },
          "metadata": {},
          "execution_count": 32
        }
      ]
    },
    {
      "cell_type": "markdown",
      "source": [
        "## Сохранение обученной модели"
      ],
      "metadata": {
        "id": "_AZhtI2_MQr9"
      }
    },
    {
      "cell_type": "code",
      "source": [
        "model.save('word2vec-banki.ru-50')    "
      ],
      "metadata": {
        "id": "1vIqrI9NMTnN"
      },
      "execution_count": null,
      "outputs": []
    },
    {
      "cell_type": "code",
      "source": [
        "!ls -lh"
      ],
      "metadata": {
        "colab": {
          "base_uri": "https://localhost:8080/"
        },
        "id": "GBReJc3EOYkY",
        "outputId": "7379995e-b3fb-480d-89f3-b1192c26f059"
      },
      "execution_count": null,
      "outputs": [
        {
          "output_type": "stream",
          "name": "stdout",
          "text": [
            "total 49M\n",
            "-rw-r--r-- 1 root root  39M Jan  4 10:25 banks.csv\n",
            "drwxr-xr-x 1 root root 4.0K Dec 29 14:38 sample_data\n",
            "-rw-r--r-- 1 root root 9.2M Jan  4 12:15 word2vec-banki.ru-50\n"
          ]
        }
      ]
    },
    {
      "cell_type": "markdown",
      "source": [
        "## Загрузка сохраненной модели"
      ],
      "metadata": {
        "id": "Zv8BLVNXOWeR"
      }
    },
    {
      "cell_type": "code",
      "source": [
        "new_model = gensim.models.Word2Vec.load('word2vec-banki.ru-50')"
      ],
      "metadata": {
        "id": "RO5IbTE4OV28"
      },
      "execution_count": null,
      "outputs": []
    },
    {
      "cell_type": "code",
      "source": [
        "new_model.wv['работать']"
      ],
      "metadata": {
        "colab": {
          "base_uri": "https://localhost:8080/"
        },
        "id": "-wcPbHQ9Opb3",
        "outputId": "750b483f-af47-4855-cba1-03c889fe1d8e"
      },
      "execution_count": null,
      "outputs": [
        {
          "output_type": "execute_result",
          "data": {
            "text/plain": [
              "array([ 2.3679025 ,  1.3954632 ,  0.34931025,  0.27092153, -1.4368734 ,\n",
              "       -2.5280778 ,  1.5435917 , -1.1569864 , -0.36349943, -0.04106189,\n",
              "        1.692588  ,  1.0378666 ,  2.4180717 , -1.7165723 ,  0.68022853,\n",
              "       -0.5988546 , -2.1249175 ,  0.0656196 , -3.155901  ,  0.27431718,\n",
              "       -0.63654876,  1.036784  , -0.97147566,  4.027909  , -0.92690325,\n",
              "       -1.5191964 ,  1.4776119 ,  0.37139148, -0.29017103, -0.42492005,\n",
              "       -0.5122879 , -1.619333  , -2.12754   ,  2.4942853 , -2.97094   ,\n",
              "       -0.62447816,  0.8585988 ,  0.28127715,  0.9913378 ,  1.3790923 ,\n",
              "        1.5544053 , -2.0476766 , -0.39888042, -0.54111636,  2.7537246 ,\n",
              "       -0.89333975,  0.1158374 ,  0.3867843 , -0.52389544,  1.0196764 ],\n",
              "      dtype=float32)"
            ]
          },
          "metadata": {},
          "execution_count": 36
        }
      ]
    },
    {
      "cell_type": "markdown",
      "source": [
        "## Полезные ссылки\n",
        "\n",
        "1. [Библиотека Gensim](https://radimrehurek.com/gensim/index.html).\n",
        "2. [Word2Vec в Gensim](https://radimrehurek.com/gensim/auto_examples/tutorials/run_word2vec.html).\n"
      ],
      "metadata": {
        "id": "agjDpcaV0dUf"
      }
    }
  ]
}